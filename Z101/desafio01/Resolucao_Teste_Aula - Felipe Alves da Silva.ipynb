{
 "cells": [
  {
   "cell_type": "code",
   "execution_count": 3,
   "metadata": {},
   "outputs": [],
   "source": [
    "###TESTE RESOLUÇÃO AULA"
   ]
  },
  {
   "cell_type": "code",
   "execution_count": 1,
   "metadata": {},
   "outputs": [],
   "source": [
    "import pandas as pd\n",
    "import numpy as np\n",
    "import re"
   ]
  },
  {
   "cell_type": "code",
   "execution_count": 2,
   "metadata": {},
   "outputs": [],
   "source": [
    "#base de dados\n",
    "registros = [\n",
    "    \"Maria da Silva Rua das Flores cep 12345678 Centro São Paulo São Paulo\",\n",
    "    \"João Oliveira Rua Bela Vista cep 54321876 Copacabana Rio de Janeiro Rio de Janeiro\",\n",
    "    \"Ana Souza Rua do Comércio cep 98765432 Boa Viagem Recife Pernambuco\",\n",
    "    \"Pedro Santos Rua das Palmeiras cep 45678901 Jardins São Paulo São Paulo\",\n",
    "    \"Carla Costa Rua Principal cep 87654321 Bairro Novo Curitiba Paraná\",\n",
    "    \"Fernando Lima Rua da Paz cep 23456789 Centro Fortaleza Ceará\",\n",
    "    \"Juliana Pereira Rua do Sol cep 78901234 Barra Salvador Bahia\",\n",
    "    \"Luiz Rodrigues Rua das Esperanças cep 56789012 Liberdade Belém Pará\",\n",
    "    \"Patrícia Almeida Rua das Árvores cep 34567890 Jardim Botânico Brasília Distrito Federal\",\n",
    "    \"Marcos Oliveira Rua Beira Mar cep 67890123 Praia de Iracema Fortaleza Ceará\"\n",
    "]"
   ]
  },
  {
   "cell_type": "code",
   "execution_count": 3,
   "metadata": {},
   "outputs": [],
   "source": [
    "#Lower case\n",
    "registros1 = []\n",
    "for i in range(len(registros)):\n",
    "    registros1.append(registros[i].lower())"
   ]
  },
  {
   "cell_type": "code",
   "execution_count": 4,
   "metadata": {},
   "outputs": [],
   "source": [
    "#normalização de dados\n",
    "registros2 = []\n",
    "for i in range(len(registros1)):\n",
    "    ajuste1 = re.sub('rua', '|rua',                         registros1[i])\n",
    "    ajuste2 = re.sub('cep', '|',                                ajuste1)\n",
    "    ajuste3 = re.sub('centro', '|centro',                       ajuste2)\n",
    "    ajuste4 = re.sub('são paulo', '|são paulo',                 ajuste3)\n",
    "    ajuste5 = re.sub('copacabana', '|copacabana',               ajuste4)\n",
    "    ajuste6 = re.sub('rio de janeiro', '|rio de janeiro',       ajuste5)\n",
    "    ajuste7 = re.sub('boa viagem', '|boa viagem',               ajuste6)\n",
    "    ajuste8 = re.sub('recife', '|recife',                       ajuste7)\n",
    "    ajuste9 = re.sub('pernambuco', '|pernambuco',               ajuste8)\n",
    "    ajuste10 = re.sub('jardins', '|jardins',                    ajuste9)\n",
    "    ajuste11 = re.sub('bairro novo', '|bairro novo',            ajuste10)\n",
    "    ajuste12 = re.sub('curitiba', '|curitiba',                  ajuste11)\n",
    "    ajuste13 = re.sub('paraná', '|paraná',                      ajuste12)\n",
    "    ajuste14 = re.sub('fortaleza', '|fortaleza',                ajuste13)\n",
    "    ajuste15 = re.sub('ceará', '|ceará',                        ajuste14)\n",
    "    ajuste16 = re.sub('barra', '|barra',                        ajuste15)\n",
    "    ajuste17 = re.sub('salvador', '|salvador',                  ajuste16)\n",
    "    ajuste18 = re.sub('bahia', '|bahia',                        ajuste17)\n",
    "    ajuste19 = re.sub('liberdade', '|liberdade',                ajuste18)\n",
    "    ajuste20 = re.sub('belém', '|belém',                        ajuste19)\n",
    "    ajuste21 = re.sub('pará', '|pará',                          ajuste20)\n",
    "    ajuste22 = re.sub('jardim botânico', '|jardim botânico',    ajuste21)\n",
    "    ajuste23 = re.sub('brasília', '|brasília',                  ajuste22)\n",
    "    ajuste24 = re.sub('distrito federal', '|distrito federal',  ajuste23)\n",
    "    ajuste25 = re.sub('praia de iracema', '|praia de iracema',  ajuste24)\n",
    "    \n",
    "    registros2.append(ajuste25)"
   ]
  },
  {
   "cell_type": "code",
   "execution_count": 5,
   "metadata": {},
   "outputs": [
    {
     "name": "stdout",
     "output_type": "stream",
     "text": [
      "maria da silva |rua das flores | 12345678 |centro |são paulo |são paulo\n",
      "joão oliveira |rua bela vista | 54321876 |copacabana |rio de janeiro |rio de janeiro\n",
      "ana souza |rua do comércio | 98765432 |boa viagem |recife |pernambuco\n",
      "pedro santos |rua das palmeiras | 45678901 |jardins |são paulo |são paulo\n",
      "carla costa |rua principal | 87654321 |bairro novo |curitiba |paraná\n",
      "fernando lima |rua da paz | 23456789 |centro |fortaleza |ceará\n",
      "juliana pereira |rua do sol | 78901234 |barra |salvador |bahia\n",
      "luiz rodrigues |rua das esperanças | 56789012 |liberdade |belém |pará\n",
      "patrícia almeida |rua das árvores | 34567890 |jardim botânico |brasília |distrito federal\n",
      "marcos oliveira |rua beira mar | 67890123 |praia de iracema |fortaleza |ceará\n"
     ]
    }
   ],
   "source": [
    "#Exibição de dados com delimitador Pipe\n",
    "for i in range(len(registros2)):\n",
    "    print(registros2[i])"
   ]
  },
  {
   "cell_type": "code",
   "execution_count": 7,
   "metadata": {},
   "outputs": [
    {
     "name": "stdout",
     "output_type": "stream",
     "text": [
      "['maria da silva ', 'rua das flores ', ' 12345678 ', 'centro ', 'são paulo ', 'são paulo']\n",
      "['joão oliveira ', 'rua bela vista ', ' 54321876 ', 'copacabana ', 'rio de janeiro ', 'rio de janeiro']\n",
      "['ana souza ', 'rua do comércio ', ' 98765432 ', 'boa viagem ', 'recife ', 'pernambuco']\n",
      "['pedro santos ', 'rua das palmeiras ', ' 45678901 ', 'jardins ', 'são paulo ', 'são paulo']\n",
      "['carla costa ', 'rua principal ', ' 87654321 ', 'bairro novo ', 'curitiba ', 'paraná']\n",
      "['fernando lima ', 'rua da paz ', ' 23456789 ', 'centro ', 'fortaleza ', 'ceará']\n",
      "['juliana pereira ', 'rua do sol ', ' 78901234 ', 'barra ', 'salvador ', 'bahia']\n",
      "['luiz rodrigues ', 'rua das esperanças ', ' 56789012 ', 'liberdade ', 'belém ', 'pará']\n",
      "['patrícia almeida ', 'rua das árvores ', ' 34567890 ', 'jardim botânico ', 'brasília ', 'distrito federal']\n",
      "['marcos oliveira ', 'rua beira mar ', ' 67890123 ', 'praia de iracema ', 'fortaleza ', 'ceará']\n"
     ]
    }
   ],
   "source": [
    "#Divisão de dados por Pipe\n",
    "registros3 = []\n",
    "\n",
    "for i in range(len(registros2)):\n",
    "    div = registros2[i].split('|')\n",
    "    print(div)\n",
    "    registros3.append(div)"
   ]
  },
  {
   "cell_type": "code",
   "execution_count": 8,
   "metadata": {},
   "outputs": [
    {
     "name": "stdout",
     "output_type": "stream",
     "text": [
      "NOME: maria da silva  - ENDERECO: rua das flores - CEP:  12345678 - BAIRRO: centro - CIDADE: são paulo - ESTADO: são paulo\n",
      "NOME: joão oliveira  - ENDERECO: rua bela vista - CEP:  54321876 - BAIRRO: copacabana - CIDADE: rio de janeiro - ESTADO: rio de janeiro\n",
      "NOME: ana souza  - ENDERECO: rua do comércio - CEP:  98765432 - BAIRRO: boa viagem - CIDADE: recife - ESTADO: pernambuco\n",
      "NOME: pedro santos  - ENDERECO: rua das palmeiras - CEP:  45678901 - BAIRRO: jardins - CIDADE: são paulo - ESTADO: são paulo\n",
      "NOME: carla costa  - ENDERECO: rua principal - CEP:  87654321 - BAIRRO: bairro novo - CIDADE: curitiba - ESTADO: paraná\n",
      "NOME: fernando lima  - ENDERECO: rua da paz - CEP:  23456789 - BAIRRO: centro - CIDADE: fortaleza - ESTADO: ceará\n",
      "NOME: juliana pereira  - ENDERECO: rua do sol - CEP:  78901234 - BAIRRO: barra - CIDADE: salvador - ESTADO: bahia\n",
      "NOME: luiz rodrigues  - ENDERECO: rua das esperanças - CEP:  56789012 - BAIRRO: liberdade - CIDADE: belém - ESTADO: pará\n",
      "NOME: patrícia almeida  - ENDERECO: rua das árvores - CEP:  34567890 - BAIRRO: jardim botânico - CIDADE: brasília - ESTADO: distrito federal\n",
      "NOME: marcos oliveira  - ENDERECO: rua beira mar - CEP:  67890123 - BAIRRO: praia de iracema - CIDADE: fortaleza - ESTADO: ceará\n"
     ]
    }
   ],
   "source": [
    "#Exibição de dados por f-string\n",
    "n = 0\n",
    "\n",
    "for i in range(len(registros2)):\n",
    "    print(f'NOME: {registros3[i][n]} - ENDERECO: {registros3[i][1+n]}- CEP: {registros3[i][2+n]}- BAIRRO: {registros3[i][3+n]}- CIDADE: {registros3[i][4+n]}- ESTADO: {registros3[i][5+n]}')"
   ]
  },
  {
   "cell_type": "code",
   "execution_count": 12,
   "metadata": {},
   "outputs": [
    {
     "name": "stdout",
     "output_type": "stream",
     "text": [
      "NOME|ENDERECO|CEP|BAIRRO|CIDADE|ESTADO\n",
      "maria da silva|rua das flores|12345678|centro|são paulo|são paulo\n",
      "joão oliveira|rua bela vista|54321876|copacabana|rio de janeiro|rio de janeiro\n",
      "ana souza|rua do comércio|98765432|boa viagem|recife|pernambuco\n",
      "pedro santos|rua das palmeiras|45678901|jardins|são paulo|são paulo\n",
      "carla costa|rua principal|87654321|bairro novo|curitiba|paraná\n",
      "fernando lima|rua da paz|23456789|centro|fortaleza|ceará\n",
      "juliana pereira|rua do sol|78901234|barra|salvador|bahia\n",
      "luiz rodrigues|rua das esperanças|56789012|liberdade|belém|pará\n",
      "patrícia almeida|rua das árvores|34567890|jardim botânico|brasília|distrito federal\n",
      "marcos oliveira|rua beira mar|67890123|praia de iracema|fortaleza|ceará\n"
     ]
    }
   ],
   "source": [
    "n = 0\n",
    "\n",
    "print('NOME|ENDERECO|CEP|BAIRRO|CIDADE|ESTADO')\n",
    "for i in range(len(registros2)):\n",
    "    print(f'{registros3[i][n].strip()}|{registros3[i][1+n].strip()}|{registros3[i][2+n].strip()}|{registros3[i][3+n].strip()}|{registros3[i][4+n].strip()}|{registros3[i][5+n]}'.strip())"
   ]
  }
 ],
 "metadata": {
  "kernelspec": {
   "display_name": "Python 3",
   "language": "python",
   "name": "python3"
  },
  "language_info": {
   "codemirror_mode": {
    "name": "ipython",
    "version": 3
   },
   "file_extension": ".py",
   "mimetype": "text/x-python",
   "name": "python",
   "nbconvert_exporter": "python",
   "pygments_lexer": "ipython3",
   "version": "3.12.2"
  }
 },
 "nbformat": 4,
 "nbformat_minor": 2
}
