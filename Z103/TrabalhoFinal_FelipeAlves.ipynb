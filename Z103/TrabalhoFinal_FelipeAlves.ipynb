{
 "cells": [
  {
   "cell_type": "markdown",
   "metadata": {},
   "source": [
    "**Disciplina**: Introdução ao processamento de dados\n",
    "\n",
    "**Aluno**: Felipe Alves da Silva\n",
    "\n",
    "**Matrícula**: 2329032\n",
    "\n",
    "**API A SER UTILIZADA**: MERCADO LIVRE API (`https://api.mercadolibre.com/`)\n",
    "> Link da documentação: `https://developers.mercadolivre.com.br/pt_br/api-docs-pt-br`"
   ]
  },
  {
   "cell_type": "markdown",
   "metadata": {},
   "source": [
    "## CONEXÃO NA API E OBTENÇÃO DE DADOS"
   ]
  },
  {
   "cell_type": "code",
   "execution_count": 1,
   "metadata": {},
   "outputs": [],
   "source": [
    "import requests as req\n",
    "import pandas as pd\n",
    "import urllib.parse\n",
    "import seaborn as srn\n",
    "import statistics as sts\n",
    "import matplotlib.pyplot as plt\n",
    "from datetime import datetime"
   ]
  },
  {
   "cell_type": "markdown",
   "metadata": {},
   "source": [
    "Informações por busca de produto: `Notebook gamer lenovo loq`"
   ]
  },
  {
   "cell_type": "code",
   "execution_count": 2,
   "metadata": {},
   "outputs": [],
   "source": [
    "consulta = 'notebook gamer lenovo loq'\n",
    "\n",
    "url_1 = f'https://api.mercadolibre.com/sites/MLB/search?q={urllib.parse.quote(consulta)}'"
   ]
  },
  {
   "cell_type": "code",
   "execution_count": 3,
   "metadata": {},
   "outputs": [
    {
     "name": "stdout",
     "output_type": "stream",
     "text": [
      "Requisição atendida: 200\n"
     ]
    }
   ],
   "source": [
    "# Realizando requisição \n",
    "\n",
    "res = req.get(url_1)\n",
    "\n",
    "if res.status_code == 200:\n",
    "    print(f'Requisição atendida: {res.status_code}')\n",
    "    data = res.json()\n",
    "else:\n",
    "    print(f'Erro em requisição: {res.status_code}')"
   ]
  },
  {
   "cell_type": "code",
   "execution_count": 4,
   "metadata": {},
   "outputs": [
    {
     "data": {
      "text/plain": [
       "{'total': 160, 'primary_results': 25, 'offset': 0, 'limit': 50}"
      ]
     },
     "execution_count": 4,
     "metadata": {},
     "output_type": "execute_result"
    }
   ],
   "source": [
    "# Verificando paginações da requisição\n",
    "\n",
    "data['paging']"
   ]
  },
  {
   "cell_type": "markdown",
   "metadata": {},
   "source": [
    "Obtendo a quantidade dos dados total"
   ]
  },
  {
   "cell_type": "code",
   "execution_count": 5,
   "metadata": {},
   "outputs": [],
   "source": [
    "limit = 50\n",
    "offset = 0\n",
    "\n",
    "data_total = []\n",
    "\n",
    "while True:\n",
    "    query_url = f'{url_1}&limit={limit}&offset={offset}'\n",
    "    response = req.get(query_url)\n",
    "    \n",
    "    if response.status_code == 200:\n",
    "        data = response.json()\n",
    "        data_total.extend(data['results'])\n",
    "\n",
    "        offset += limit\n",
    "\n",
    "        if offset >= data['paging']['total']:\n",
    "            break\n",
    "    else:\n",
    "        print(f\"Erro na req: {response.status_code}\")\n",
    "        break"
   ]
  },
  {
   "cell_type": "code",
   "execution_count": 6,
   "metadata": {},
   "outputs": [
    {
     "name": "stdout",
     "output_type": "stream",
     "text": [
      " Total de dados: 157\n"
     ]
    }
   ],
   "source": [
    "# Exibir total de dados obtidos das paginas \n",
    "\n",
    "print(f' Total de dados: {len(data_total)}')"
   ]
  },
  {
   "cell_type": "markdown",
   "metadata": {},
   "source": [
    "Transformando os dados JSON em um DataFrame"
   ]
  },
  {
   "cell_type": "code",
   "execution_count": 26,
   "metadata": {},
   "outputs": [],
   "source": [
    "df_data = pd.DataFrame(data_total)"
   ]
  },
  {
   "cell_type": "code",
   "execution_count": 27,
   "metadata": {},
   "outputs": [
    {
     "data": {
      "text/html": [
       "<div>\n",
       "<style scoped>\n",
       "    .dataframe tbody tr th:only-of-type {\n",
       "        vertical-align: middle;\n",
       "    }\n",
       "\n",
       "    .dataframe tbody tr th {\n",
       "        vertical-align: top;\n",
       "    }\n",
       "\n",
       "    .dataframe thead th {\n",
       "        text-align: right;\n",
       "    }\n",
       "</style>\n",
       "<table border=\"1\" class=\"dataframe\">\n",
       "  <thead>\n",
       "    <tr style=\"text-align: right;\">\n",
       "      <th></th>\n",
       "      <th>id</th>\n",
       "      <th>title</th>\n",
       "      <th>condition</th>\n",
       "      <th>thumbnail_id</th>\n",
       "      <th>catalog_product_id</th>\n",
       "      <th>listing_type_id</th>\n",
       "      <th>permalink</th>\n",
       "      <th>buying_mode</th>\n",
       "      <th>site_id</th>\n",
       "      <th>category_id</th>\n",
       "      <th>...</th>\n",
       "      <th>attributes</th>\n",
       "      <th>installments</th>\n",
       "      <th>winner_item_id</th>\n",
       "      <th>catalog_listing</th>\n",
       "      <th>discounts</th>\n",
       "      <th>promotions</th>\n",
       "      <th>differential_pricing</th>\n",
       "      <th>inventory_id</th>\n",
       "      <th>variation_filters</th>\n",
       "      <th>variations_data</th>\n",
       "    </tr>\n",
       "  </thead>\n",
       "  <tbody>\n",
       "    <tr>\n",
       "      <th>37</th>\n",
       "      <td>MLB4186319286</td>\n",
       "      <td>Notebook Ideapad Gaming 3i I5-11300h 8gb 512gb...</td>\n",
       "      <td>new</td>\n",
       "      <td>838402-MLU70925817274_082023</td>\n",
       "      <td>MLB25867347</td>\n",
       "      <td>gold_special</td>\n",
       "      <td>https://www.mercadolivre.com.br/notebook-ideap...</td>\n",
       "      <td>buy_it_now</td>\n",
       "      <td>MLB</td>\n",
       "      <td>MLB1652</td>\n",
       "      <td>...</td>\n",
       "      <td>[{'id': 'BRAND', 'name': 'Marca', 'value_id': ...</td>\n",
       "      <td>{'quantity': 12, 'amount': 649.07, 'rate': 15....</td>\n",
       "      <td>None</td>\n",
       "      <td>True</td>\n",
       "      <td>None</td>\n",
       "      <td>[]</td>\n",
       "      <td>NaN</td>\n",
       "      <td>None</td>\n",
       "      <td>NaN</td>\n",
       "      <td>NaN</td>\n",
       "    </tr>\n",
       "    <tr>\n",
       "      <th>126</th>\n",
       "      <td>MLB4623531028</td>\n",
       "      <td>Notebook Lenovo Thinkpad E470 Core I5 7th 8gb ...</td>\n",
       "      <td>used</td>\n",
       "      <td>703886-MLB75764963724_042024</td>\n",
       "      <td>MLB17511886</td>\n",
       "      <td>gold_pro</td>\n",
       "      <td>https://produto.mercadolivre.com.br/MLB-462353...</td>\n",
       "      <td>buy_it_now</td>\n",
       "      <td>MLB</td>\n",
       "      <td>MLB1652</td>\n",
       "      <td>...</td>\n",
       "      <td>[{'id': 'ALPHANUMERIC_MODEL', 'name': 'Modelo ...</td>\n",
       "      <td>{'quantity': 10, 'amount': 159.9, 'rate': 0, '...</td>\n",
       "      <td>None</td>\n",
       "      <td>False</td>\n",
       "      <td>None</td>\n",
       "      <td>[]</td>\n",
       "      <td>{'id': 35713366}</td>\n",
       "      <td>None</td>\n",
       "      <td>[COLOR]</td>\n",
       "      <td>{'182549399097': {'thumbnail': 'http://http2.m...</td>\n",
       "    </tr>\n",
       "    <tr>\n",
       "      <th>28</th>\n",
       "      <td>MLB4436754436</td>\n",
       "      <td>Notebook Lenovo Ideapad 1i Core I3 4gb 256gb 1...</td>\n",
       "      <td>new</td>\n",
       "      <td>876908-MLU73139024657_112023</td>\n",
       "      <td>MLB28131253</td>\n",
       "      <td>gold_pro</td>\n",
       "      <td>https://www.mercadolivre.com.br/notebook-lenov...</td>\n",
       "      <td>buy_it_now</td>\n",
       "      <td>MLB</td>\n",
       "      <td>MLB1652</td>\n",
       "      <td>...</td>\n",
       "      <td>[{'id': 'ALPHANUMERIC_MODEL', 'name': 'Modelo ...</td>\n",
       "      <td>{'quantity': 10, 'amount': 229.9, 'rate': 0, '...</td>\n",
       "      <td>None</td>\n",
       "      <td>True</td>\n",
       "      <td>None</td>\n",
       "      <td>[]</td>\n",
       "      <td>{'id': 35713366}</td>\n",
       "      <td>HIZI18112</td>\n",
       "      <td>NaN</td>\n",
       "      <td>NaN</td>\n",
       "    </tr>\n",
       "  </tbody>\n",
       "</table>\n",
       "<p>3 rows × 35 columns</p>\n",
       "</div>"
      ],
      "text/plain": [
       "                id                                              title  \\\n",
       "37   MLB4186319286  Notebook Ideapad Gaming 3i I5-11300h 8gb 512gb...   \n",
       "126  MLB4623531028  Notebook Lenovo Thinkpad E470 Core I5 7th 8gb ...   \n",
       "28   MLB4436754436  Notebook Lenovo Ideapad 1i Core I3 4gb 256gb 1...   \n",
       "\n",
       "    condition                  thumbnail_id catalog_product_id  \\\n",
       "37        new  838402-MLU70925817274_082023        MLB25867347   \n",
       "126      used  703886-MLB75764963724_042024        MLB17511886   \n",
       "28        new  876908-MLU73139024657_112023        MLB28131253   \n",
       "\n",
       "    listing_type_id                                          permalink  \\\n",
       "37     gold_special  https://www.mercadolivre.com.br/notebook-ideap...   \n",
       "126        gold_pro  https://produto.mercadolivre.com.br/MLB-462353...   \n",
       "28         gold_pro  https://www.mercadolivre.com.br/notebook-lenov...   \n",
       "\n",
       "    buying_mode site_id category_id  ...  \\\n",
       "37   buy_it_now     MLB     MLB1652  ...   \n",
       "126  buy_it_now     MLB     MLB1652  ...   \n",
       "28   buy_it_now     MLB     MLB1652  ...   \n",
       "\n",
       "                                            attributes  \\\n",
       "37   [{'id': 'BRAND', 'name': 'Marca', 'value_id': ...   \n",
       "126  [{'id': 'ALPHANUMERIC_MODEL', 'name': 'Modelo ...   \n",
       "28   [{'id': 'ALPHANUMERIC_MODEL', 'name': 'Modelo ...   \n",
       "\n",
       "                                          installments winner_item_id  \\\n",
       "37   {'quantity': 12, 'amount': 649.07, 'rate': 15....           None   \n",
       "126  {'quantity': 10, 'amount': 159.9, 'rate': 0, '...           None   \n",
       "28   {'quantity': 10, 'amount': 229.9, 'rate': 0, '...           None   \n",
       "\n",
       "     catalog_listing  discounts  promotions differential_pricing  \\\n",
       "37              True       None          []                  NaN   \n",
       "126            False       None          []     {'id': 35713366}   \n",
       "28              True       None          []     {'id': 35713366}   \n",
       "\n",
       "     inventory_id  variation_filters  \\\n",
       "37           None                NaN   \n",
       "126          None            [COLOR]   \n",
       "28      HIZI18112                NaN   \n",
       "\n",
       "                                       variations_data  \n",
       "37                                                 NaN  \n",
       "126  {'182549399097': {'thumbnail': 'http://http2.m...  \n",
       "28                                                 NaN  \n",
       "\n",
       "[3 rows x 35 columns]"
      ]
     },
     "execution_count": 27,
     "metadata": {},
     "output_type": "execute_result"
    }
   ],
   "source": [
    "# Amostra de dados\n",
    "\n",
    "df_data.sample(3)"
   ]
  },
  {
   "cell_type": "code",
   "execution_count": 28,
   "metadata": {},
   "outputs": [
    {
     "name": "stdout",
     "output_type": "stream",
     "text": [
      "<class 'pandas.core.frame.DataFrame'>\n",
      "RangeIndex: 157 entries, 0 to 156\n",
      "Data columns (total 35 columns):\n",
      " #   Column                Non-Null Count  Dtype  \n",
      "---  ------                --------------  -----  \n",
      " 0   id                    157 non-null    object \n",
      " 1   title                 157 non-null    object \n",
      " 2   condition             157 non-null    object \n",
      " 3   thumbnail_id          157 non-null    object \n",
      " 4   catalog_product_id    120 non-null    object \n",
      " 5   listing_type_id       157 non-null    object \n",
      " 6   permalink             157 non-null    object \n",
      " 7   buying_mode           157 non-null    object \n",
      " 8   site_id               157 non-null    object \n",
      " 9   category_id           157 non-null    object \n",
      " 10  domain_id             157 non-null    object \n",
      " 11  thumbnail             157 non-null    object \n",
      " 12  currency_id           157 non-null    object \n",
      " 13  order_backend         157 non-null    int64  \n",
      " 14  price                 157 non-null    float64\n",
      " 15  original_price        46 non-null     float64\n",
      " 16  sale_price            0 non-null      object \n",
      " 17  available_quantity    157 non-null    int64  \n",
      " 18  official_store_id     40 non-null     float64\n",
      " 19  official_store_name   37 non-null     object \n",
      " 20  use_thumbnail_id      157 non-null    bool   \n",
      " 21  accepts_mercadopago   157 non-null    bool   \n",
      " 22  shipping              157 non-null    object \n",
      " 23  stop_time             157 non-null    object \n",
      " 24  seller                157 non-null    object \n",
      " 25  attributes            157 non-null    object \n",
      " 26  installments          154 non-null    object \n",
      " 27  winner_item_id        0 non-null      object \n",
      " 28  catalog_listing       157 non-null    bool   \n",
      " 29  discounts             0 non-null      object \n",
      " 30  promotions            157 non-null    object \n",
      " 31  differential_pricing  109 non-null    object \n",
      " 32  inventory_id          9 non-null      object \n",
      " 33  variation_filters     90 non-null     object \n",
      " 34  variations_data       90 non-null     object \n",
      "dtypes: bool(3), float64(3), int64(2), object(27)\n",
      "memory usage: 39.8+ KB\n"
     ]
    }
   ],
   "source": [
    "# informações do DataFrame\n",
    "\n",
    "df_data.info()"
   ]
  },
  {
   "cell_type": "markdown",
   "metadata": {},
   "source": [
    "## INÍCIO DE PROCESSO DE ANÁLISE"
   ]
  },
  {
   "cell_type": "markdown",
   "metadata": {},
   "source": [
    "### **Análise 01**: Quantidade de notebooks por estado de condição"
   ]
  },
  {
   "cell_type": "code",
   "execution_count": 29,
   "metadata": {},
   "outputs": [
    {
     "data": {
      "text/plain": [
       "condition\n",
       "new     123\n",
       "used     34\n",
       "dtype: int64"
      ]
     },
     "execution_count": 29,
     "metadata": {},
     "output_type": "execute_result"
    }
   ],
   "source": [
    "agrupa_condition = df_data.groupby(['condition']).size()\n",
    "agrupa_condition"
   ]
  },
  {
   "cell_type": "markdown",
   "metadata": {},
   "source": [
    "Gráfico de total por agrupamento"
   ]
  },
  {
   "cell_type": "code",
   "execution_count": 33,
   "metadata": {},
   "outputs": [
    {
     "data": {
      "image/png": "[encoded data removed]",
      "text/plain": [
       "<Figure size 640x480 with 1 Axes>"
      ]
     },
     "metadata": {},
     "output_type": "display_data"
    }
   ],
   "source": [
    "agrupa_condition.plot.bar(color='red').set_title('Condições de venda')\n",
    "\n",
    "for i, value in enumerate(agrupa_condition):\n",
    "    plt.annotate(str(value), xy=(i, value), ha='center', va='bottom')\n",
    "\n",
    "plt.show()"
   ]
  },
  {
   "cell_type": "markdown",
   "metadata": {},
   "source": [
    "Gerando informações de percentual"
   ]
  },
  {
   "cell_type": "code",
   "execution_count": 31,
   "metadata": {},
   "outputs": [],
   "source": [
    "contagem = df_data['condition'].value_counts()\n",
    "\n",
    "percentual = contagem / contagem.sum() * 100"
   ]
  },
  {
   "cell_type": "markdown",
   "metadata": {},
   "source": [
    "Plot de gráfico de pizza informando percentual"
   ]
  },
  {
   "cell_type": "code",
   "execution_count": 32,
   "metadata": {},
   "outputs": [
    {
     "data": {
      "image/png": "[encoded data removed]",
      "text/plain": [
       "<Figure size 800x600 with 1 Axes>"
      ]
     },
     "metadata": {},
     "output_type": "display_data"
    }
   ],
   "source": [
    "plt.figure(figsize=(8, 6))\n",
    "plt.pie(percentual, labels=percentual.index, autopct='%1.1f%%', startangle=140)\n",
    "plt.axis('equal')\n",
    "plt.title('Valores percentual')\n",
    "plt.show()"
   ]
  },
  {
   "cell_type": "markdown",
   "metadata": {},
   "source": [
    "### **insight análise 01**: \n",
    "Com esta análise, é possível obter informações de total de quantidade de notebook disponíveis para venda de acordo com o estado do produto, e mensurar também a quantidade percentual de cada grupo em relação ao cenário total. Isto, por exemplo, pode me direcionar em uma analise de condição dos notebooks disponíveis e definir melhor uma estratégia de gasto estimado, tendo maior direcionamento no famoso \"custo x benefício\" que é sempre buscado em momentos de compra."
   ]
  },
  {
   "cell_type": "markdown",
   "metadata": {},
   "source": [
    "### **Análise 02**: Variação de preço entre nos notebooks"
   ]
  },
  {
   "cell_type": "code",
   "execution_count": 12,
   "metadata": {},
   "outputs": [
    {
     "data": {
      "text/plain": [
       "count      157.000000\n",
       "mean      4410.808790\n",
       "std       4861.519545\n",
       "min        276.000000\n",
       "25%       2133.030000\n",
       "50%       3391.500000\n",
       "75%       4799.000000\n",
       "max      42686.070000\n",
       "Name: price, dtype: float64"
      ]
     },
     "execution_count": 12,
     "metadata": {},
     "output_type": "execute_result"
    }
   ],
   "source": [
    "df_data['price'].describe()"
   ]
  },
  {
   "cell_type": "markdown",
   "metadata": {},
   "source": [
    "Visão 01: Plot de gráfico caixa de variação de preço"
   ]
  },
  {
   "cell_type": "code",
   "execution_count": 13,
   "metadata": {},
   "outputs": [
    {
     "data": {
      "text/plain": [
       "Text(0.5, 1.0, 'Variação de valor')"
      ]
     },
     "execution_count": 13,
     "metadata": {},
     "output_type": "execute_result"
    },
    {
     "data": {
      "image/png": "[encoded data removed]",
      "text/plain": [
       "<Figure size 640x480 with 1 Axes>"
      ]
     },
     "metadata": {},
     "output_type": "display_data"
    }
   ],
   "source": [
    "srn.boxplot(df_data['price']).set_title('Variação de valor')"
   ]
  },
  {
   "cell_type": "markdown",
   "metadata": {},
   "source": [
    "Visão 02: Variação de grafico de variação de preço"
   ]
  },
  {
   "cell_type": "code",
   "execution_count": 37,
   "metadata": {},
   "outputs": [
    {
     "data": {
      "image/png": "[encoded data removed]",
      "text/plain": [
       "<Figure size 640x480 with 1 Axes>"
      ]
     },
     "metadata": {},
     "output_type": "display_data"
    }
   ],
   "source": [
    "plt.hist(df_data['price'].dropna(), bins=20, color='skyblue', edgecolor='black')\n",
    "plt.xlabel('Preço')\n",
    "plt.ylabel('Quantidade')\n",
    "plt.title('Variação de valor')\n",
    "\n",
    "plt.show()"
   ]
  },
  {
   "cell_type": "markdown",
   "metadata": {},
   "source": [
    "Analisando os autiliers percebidos nos gráficos anteriores"
   ]
  },
  {
   "cell_type": "code",
   "execution_count": 15,
   "metadata": {},
   "outputs": [
    {
     "data": {
      "text/plain": [
       "4861.519544558686"
      ]
     },
     "execution_count": 15,
     "metadata": {},
     "output_type": "execute_result"
    }
   ],
   "source": [
    "# Calculando desvio padrão\n",
    "\n",
    "desv_price = sts.stdev(df_data['price']) # desvio padrão\n",
    "desv_price"
   ]
  },
  {
   "cell_type": "markdown",
   "metadata": {},
   "source": [
    "Obtendo todos os registros cujo valor é igual ou maior que duas vezes o valor do campo 'price' (ordenados pelo valor)"
   ]
  },
  {
   "cell_type": "code",
   "execution_count": 16,
   "metadata": {},
   "outputs": [
    {
     "data": {
      "text/html": [
       "<div>\n",
       "<style scoped>\n",
       "    .dataframe tbody tr th:only-of-type {\n",
       "        vertical-align: middle;\n",
       "    }\n",
       "\n",
       "    .dataframe tbody tr th {\n",
       "        vertical-align: top;\n",
       "    }\n",
       "\n",
       "    .dataframe thead th {\n",
       "        text-align: right;\n",
       "    }\n",
       "</style>\n",
       "<table border=\"1\" class=\"dataframe\">\n",
       "  <thead>\n",
       "    <tr style=\"text-align: right;\">\n",
       "      <th></th>\n",
       "      <th>title</th>\n",
       "      <th>official_store_name</th>\n",
       "      <th>condition</th>\n",
       "      <th>available_quantity</th>\n",
       "      <th>price</th>\n",
       "    </tr>\n",
       "  </thead>\n",
       "  <tbody>\n",
       "    <tr>\n",
       "      <th>123</th>\n",
       "      <td>Lenovo 16'' Thinkpad P16 Gen 1 Mobile Workstat...</td>\n",
       "      <td>NaN</td>\n",
       "      <td>new</td>\n",
       "      <td>1</td>\n",
       "      <td>42686.07</td>\n",
       "    </tr>\n",
       "    <tr>\n",
       "      <th>122</th>\n",
       "      <td>Lenovo 16' Legion 7i Gaming Notebook Gray</td>\n",
       "      <td>NaN</td>\n",
       "      <td>new</td>\n",
       "      <td>1</td>\n",
       "      <td>36990.00</td>\n",
       "    </tr>\n",
       "    <tr>\n",
       "      <th>108</th>\n",
       "      <td>Notebook Gamer  Lenovo Legion Y Y540 Raven Bla...</td>\n",
       "      <td>NaN</td>\n",
       "      <td>new</td>\n",
       "      <td>1</td>\n",
       "      <td>15999.00</td>\n",
       "    </tr>\n",
       "    <tr>\n",
       "      <th>140</th>\n",
       "      <td>Lenovo Legion Pro 7 Rtx 4080 I9 13900hx</td>\n",
       "      <td>NaN</td>\n",
       "      <td>used</td>\n",
       "      <td>1</td>\n",
       "      <td>15599.00</td>\n",
       "    </tr>\n",
       "    <tr>\n",
       "      <th>143</th>\n",
       "      <td>Lenovo - Legion Pro 5i 16  Gaming Laptop Intel...</td>\n",
       "      <td>NaN</td>\n",
       "      <td>used</td>\n",
       "      <td>1</td>\n",
       "      <td>14999.00</td>\n",
       "    </tr>\n",
       "    <tr>\n",
       "      <th>74</th>\n",
       "      <td>Notebook Gamer Legion Slim 5i I7-13700h 16gb 1...</td>\n",
       "      <td>NaN</td>\n",
       "      <td>new</td>\n",
       "      <td>1</td>\n",
       "      <td>12998.00</td>\n",
       "    </tr>\n",
       "    <tr>\n",
       "      <th>52</th>\n",
       "      <td>Lenovo Gamer Legion Pro 5 82wk00m7us Core I9 R...</td>\n",
       "      <td>NaN</td>\n",
       "      <td>new</td>\n",
       "      <td>1</td>\n",
       "      <td>12191.75</td>\n",
       "    </tr>\n",
       "    <tr>\n",
       "      <th>133</th>\n",
       "      <td>Notebook Gamer Lenovo Legion 5i Core I7 10750h...</td>\n",
       "      <td>NaN</td>\n",
       "      <td>used</td>\n",
       "      <td>1</td>\n",
       "      <td>10500.00</td>\n",
       "    </tr>\n",
       "    <tr>\n",
       "      <th>109</th>\n",
       "      <td>Notebook Legion Slim 5i I7 16gb 1tb Rtx 4060 W...</td>\n",
       "      <td>Lenovo</td>\n",
       "      <td>new</td>\n",
       "      <td>50</td>\n",
       "      <td>10475.03</td>\n",
       "    </tr>\n",
       "  </tbody>\n",
       "</table>\n",
       "</div>"
      ],
      "text/plain": [
       "                                                 title official_store_name  \\\n",
       "123  Lenovo 16'' Thinkpad P16 Gen 1 Mobile Workstat...                 NaN   \n",
       "122         Lenovo 16' Legion 7i Gaming Notebook Gray                  NaN   \n",
       "108  Notebook Gamer  Lenovo Legion Y Y540 Raven Bla...                 NaN   \n",
       "140            Lenovo Legion Pro 7 Rtx 4080 I9 13900hx                 NaN   \n",
       "143  Lenovo - Legion Pro 5i 16  Gaming Laptop Intel...                 NaN   \n",
       "74   Notebook Gamer Legion Slim 5i I7-13700h 16gb 1...                 NaN   \n",
       "52   Lenovo Gamer Legion Pro 5 82wk00m7us Core I9 R...                 NaN   \n",
       "133  Notebook Gamer Lenovo Legion 5i Core I7 10750h...                 NaN   \n",
       "109  Notebook Legion Slim 5i I7 16gb 1tb Rtx 4060 W...              Lenovo   \n",
       "\n",
       "    condition  available_quantity     price  \n",
       "123       new                   1  42686.07  \n",
       "122       new                   1  36990.00  \n",
       "108       new                   1  15999.00  \n",
       "140      used                   1  15599.00  \n",
       "143      used                   1  14999.00  \n",
       "74        new                   1  12998.00  \n",
       "52        new                   1  12191.75  \n",
       "133      used                   1  10500.00  \n",
       "109       new                  50  10475.03  "
      ]
     },
     "execution_count": 16,
     "metadata": {},
     "output_type": "execute_result"
    }
   ],
   "source": [
    "outlier_price = df_data.loc[(df_data['price'] >= desv_price*2 )]\n",
    "outlier_price_desc = outlier_price.sort_values(by='price', ascending=False)\n",
    "\n",
    "outlier_price_desc[['title', 'official_store_name', 'condition', 'available_quantity', 'price']]"
   ]
  },
  {
   "cell_type": "markdown",
   "metadata": {},
   "source": [
    "Gerando um resumo descritivo do dataframe de resultado"
   ]
  },
  {
   "cell_type": "code",
   "execution_count": 17,
   "metadata": {},
   "outputs": [
    {
     "data": {
      "text/html": [
       "<div>\n",
       "<style scoped>\n",
       "    .dataframe tbody tr th:only-of-type {\n",
       "        vertical-align: middle;\n",
       "    }\n",
       "\n",
       "    .dataframe tbody tr th {\n",
       "        vertical-align: top;\n",
       "    }\n",
       "\n",
       "    .dataframe thead th {\n",
       "        text-align: right;\n",
       "    }\n",
       "</style>\n",
       "<table border=\"1\" class=\"dataframe\">\n",
       "  <thead>\n",
       "    <tr style=\"text-align: right;\">\n",
       "      <th></th>\n",
       "      <th>order_backend</th>\n",
       "      <th>price</th>\n",
       "      <th>original_price</th>\n",
       "      <th>available_quantity</th>\n",
       "      <th>official_store_id</th>\n",
       "    </tr>\n",
       "  </thead>\n",
       "  <tbody>\n",
       "    <tr>\n",
       "      <th>count</th>\n",
       "      <td>9.000000</td>\n",
       "      <td>9.000000</td>\n",
       "      <td>3.000000</td>\n",
       "      <td>9.000000</td>\n",
       "      <td>1.0</td>\n",
       "    </tr>\n",
       "    <tr>\n",
       "      <th>mean</th>\n",
       "      <td>26.555556</td>\n",
       "      <td>19159.761111</td>\n",
       "      <td>22896.310000</td>\n",
       "      <td>6.444444</td>\n",
       "      <td>923.0</td>\n",
       "    </tr>\n",
       "    <tr>\n",
       "      <th>std</th>\n",
       "      <td>14.552587</td>\n",
       "      <td>11980.830982</td>\n",
       "      <td>19942.143587</td>\n",
       "      <td>16.333333</td>\n",
       "      <td>NaN</td>\n",
       "    </tr>\n",
       "    <tr>\n",
       "      <th>min</th>\n",
       "      <td>5.000000</td>\n",
       "      <td>10475.030000</td>\n",
       "      <td>10475.030000</td>\n",
       "      <td>1.000000</td>\n",
       "      <td>923.0</td>\n",
       "    </tr>\n",
       "    <tr>\n",
       "      <th>25%</th>\n",
       "      <td>13.000000</td>\n",
       "      <td>12191.750000</td>\n",
       "      <td>11394.965000</td>\n",
       "      <td>1.000000</td>\n",
       "      <td>923.0</td>\n",
       "    </tr>\n",
       "    <tr>\n",
       "      <th>50%</th>\n",
       "      <td>27.000000</td>\n",
       "      <td>14999.000000</td>\n",
       "      <td>12314.900000</td>\n",
       "      <td>1.000000</td>\n",
       "      <td>923.0</td>\n",
       "    </tr>\n",
       "    <tr>\n",
       "      <th>75%</th>\n",
       "      <td>37.000000</td>\n",
       "      <td>15999.000000</td>\n",
       "      <td>29106.950000</td>\n",
       "      <td>1.000000</td>\n",
       "      <td>923.0</td>\n",
       "    </tr>\n",
       "    <tr>\n",
       "      <th>max</th>\n",
       "      <td>47.000000</td>\n",
       "      <td>42686.070000</td>\n",
       "      <td>45899.000000</td>\n",
       "      <td>50.000000</td>\n",
       "      <td>923.0</td>\n",
       "    </tr>\n",
       "  </tbody>\n",
       "</table>\n",
       "</div>"
      ],
      "text/plain": [
       "       order_backend         price  original_price  available_quantity  \\\n",
       "count       9.000000      9.000000        3.000000            9.000000   \n",
       "mean       26.555556  19159.761111    22896.310000            6.444444   \n",
       "std        14.552587  11980.830982    19942.143587           16.333333   \n",
       "min         5.000000  10475.030000    10475.030000            1.000000   \n",
       "25%        13.000000  12191.750000    11394.965000            1.000000   \n",
       "50%        27.000000  14999.000000    12314.900000            1.000000   \n",
       "75%        37.000000  15999.000000    29106.950000            1.000000   \n",
       "max        47.000000  42686.070000    45899.000000           50.000000   \n",
       "\n",
       "       official_store_id  \n",
       "count                1.0  \n",
       "mean               923.0  \n",
       "std                  NaN  \n",
       "min                923.0  \n",
       "25%                923.0  \n",
       "50%                923.0  \n",
       "75%                923.0  \n",
       "max                923.0  "
      ]
     },
     "execution_count": 17,
     "metadata": {},
     "output_type": "execute_result"
    }
   ],
   "source": [
    "outlier_price.describe()"
   ]
  },
  {
   "cell_type": "markdown",
   "metadata": {},
   "source": [
    "### **insight análise 02**: \n",
    "Com esta análise, pude perceber a taxa de variação de preço dos notebooks, obtendo o valor médio dos notebooks e os quartis do preço. Informações importantes são fácilmente percebidas, como entender que o preço médio vai até em torno de R$ 3.4k, e até 75% dos valores ficam até em torno de R$ 4.8k. Através destas analises, é percebido também a presença de outliers, aonde obtendo um valor de desvio padrão, é possível obter informações pertinentes para entender se o valor que foi estipulado para o produto se torna realista para quem for querer adquirir o produto, permanecendo na linha de atingir o \"custo x benefício\" no momento da compra."
   ]
  },
  {
   "cell_type": "markdown",
   "metadata": {},
   "source": [
    "### **Análise 3**: Gerar uma nova coluna com a visão de diferença de preço á vista para os produtos que tem opções de parcelamento"
   ]
  },
  {
   "cell_type": "code",
   "execution_count": 18,
   "metadata": {},
   "outputs": [],
   "source": [
    "df_data['price_difference'] = float('NaN') # Como há valores 'installments' nulo, foi necessário criar antes a coluna\n",
    "\n",
    "mask = df_data['installments'].notnull() # Obtém apenas quem tem dados de 'installments' (pacelamento)\n",
    "\n",
    "df_data.loc[mask, 'price_difference'] = df_data.loc[mask, 'installments'].apply(lambda x: x['amount'] * x['quantity'] - x['amount'])"
   ]
  },
  {
   "cell_type": "markdown",
   "metadata": {},
   "source": [
    "Plot do gráfico de densidade das diferenças de preço"
   ]
  },
  {
   "cell_type": "code",
   "execution_count": 19,
   "metadata": {},
   "outputs": [
    {
     "name": "stderr",
     "output_type": "stream",
     "text": [
      "c:\\Users\\Felipe Alves\\AppData\\Local\\Programs\\Python\\Python312\\Lib\\site-packages\\seaborn\\_oldcore.py:1119: FutureWarning: use_inf_as_na option is deprecated and will be removed in a future version. Convert inf values to NaN before operating instead.\n",
      "  with pd.option_context('mode.use_inf_as_na', True):\n"
     ]
    },
    {
     "data": {
      "image/png": "[encoded data removed]",
      "text/plain": [
       "<Figure size 640x480 with 1 Axes>"
      ]
     },
     "metadata": {},
     "output_type": "display_data"
    }
   ],
   "source": [
    "srn.kdeplot(df_data['price_difference'].dropna(), fill=True, color='salmon')\n",
    "plt.xlabel('Preço')\n",
    "plt.ylabel('Densidade')\n",
    "plt.title('Densidade das Diferenças de Preço')\n",
    "plt.show()"
   ]
  },
  {
   "cell_type": "markdown",
   "metadata": {},
   "source": [
    "Plot do gráfico de dispersão das diferenças de preço em relação ao preço original"
   ]
  },
  {
   "cell_type": "code",
   "execution_count": 20,
   "metadata": {},
   "outputs": [
    {
     "data": {
      "image/png": "[encoded data removed]",
      "text/plain": [
       "<Figure size 640x480 with 1 Axes>"
      ]
     },
     "metadata": {},
     "output_type": "display_data"
    }
   ],
   "source": [
    "plt.scatter(df_data['price'], df_data['price_difference'], color='orange')\n",
    "plt.xlabel('Preço Original')\n",
    "plt.ylabel('Diferença de Preço')\n",
    "plt.title('Gráfico de Dispersão: Diferença de Preço vs. Preço Original')\n",
    "plt.show()"
   ]
  },
  {
   "cell_type": "markdown",
   "metadata": {},
   "source": [
    "### **insight análise 03**: \n",
    "Nesta análise foi gerada uma nova coluna aonde pusse se obter informações sobre a diferença de preço á vista para os produtos que tem opções de parcelamento. O objetivo é perceber a distribuição das diferenças de preço entre o valor total do produto e o valor total parcelado, e assim entender aonde o valor se encontra mais concentrado. Com a analise dos gráficos, por exemplo, um dos insights que é possível perceber é o padrão entre essas duas variáveis exibindo que a diferença de preço aumenta à medida que o valor original também aumenta. "
   ]
  },
  {
   "cell_type": "markdown",
   "metadata": {},
   "source": [
    "## PERSISTÊNCIA DE DADOS EM ARQUIVO CSV"
   ]
  },
  {
   "cell_type": "markdown",
   "metadata": {},
   "source": [
    "Exportação de dados para pasta que se encontra o arquivo Jupyter Notebook"
   ]
  },
  {
   "cell_type": "code",
   "execution_count": 23,
   "metadata": {},
   "outputs": [],
   "source": [
    "hoje = datetime.now()\n",
    "hoje = hoje.strftime(\"%Y-%m-%d_%H-%M-%S\")\n",
    "\n",
    "df_data.to_csv(f'dados_dataframe_DF_DATA_{hoje}.csv', index=False, sep='|')"
   ]
  }
 ],
 "metadata": {
  "kernelspec": {
   "display_name": "Python 3",
   "language": "python",
   "name": "python3"
  },
  "language_info": {
   "codemirror_mode": {
    "name": "ipython",
    "version": 3
   },
   "file_extension": ".py",
   "mimetype": "text/x-python",
   "name": "python",
   "nbconvert_exporter": "python",
   "pygments_lexer": "ipython3",
   "version": "3.12.3"
  }
 },
 "nbformat": 4,
 "nbformat_minor": 2
}
