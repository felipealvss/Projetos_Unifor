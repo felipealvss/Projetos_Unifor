{
  "nbformat": 4,
  "nbformat_minor": 0,
  "metadata": {
    "colab": {
      "provenance": []
    },
    "kernelspec": {
      "name": "python3",
      "display_name": "Python 3"
    },
    "language_info": {
      "name": "python"
    }
  },
  "cells": [
    {
      "cell_type": "markdown",
      "source": [
        "### Trabalho final - Disciplina \"Big Data e tecnologias de armazenamento\"\n",
        "\n",
        "###Alunos:\n",
        "\n",
        "- Benício Bezerra de Abreu Carneiro\n",
        "- Marcos Andre Pires da Silva Junior\n",
        "- Felipe Alves da Silva\n",
        "- Gabriel Façanha Leal\n",
        "_________________________________________________\n",
        "\n",
        "Assunto: Sistema de Gerenciamento de Inventário\n",
        "\n",
        "Tipo de Banco: Column-family (Cassandra)"
      ],
      "metadata": {
        "id": "U9a3zF0WgVIA"
      }
    },
    {
      "cell_type": "code",
      "execution_count": null,
      "metadata": {
        "colab": {
          "base_uri": "https://localhost:8080/"
        },
        "id": "4uX2SEYSeK_o",
        "outputId": "e506e1ec-177d-44c8-c3b8-b85e018902fd"
      },
      "outputs": [
        {
          "output_type": "stream",
          "name": "stdout",
          "text": [
            "--2024-06-22 11:07:41--  https://dlcdn.apache.org/cassandra/4.0.12/apache-cassandra-4.0.12-bin.tar.gz\n",
            "Resolving dlcdn.apache.org (dlcdn.apache.org)... 151.101.2.132, 2a04:4e42::644\n",
            "Connecting to dlcdn.apache.org (dlcdn.apache.org)|151.101.2.132|:443... connected.\n",
            "HTTP request sent, awaiting response... 200 OK\n",
            "Length: 48280829 (46M) [application/x-gzip]\n",
            "Saving to: ‘apache-cassandra-4.0.12-bin.tar.gz’\n",
            "\n",
            "apache-cassandra-4. 100%[===================>]  46.04M  58.5MB/s    in 0.8s    \n",
            "\n",
            "2024-06-22 11:07:45 (58.5 MB/s) - ‘apache-cassandra-4.0.12-bin.tar.gz’ saved [48280829/48280829]\n",
            "\n"
          ]
        }
      ],
      "source": [
        "# download Cassandra\n",
        "\n",
        "!wget https://dlcdn.apache.org/cassandra/4.0.12/apache-cassandra-4.0.12-bin.tar.gz"
      ]
    },
    {
      "cell_type": "code",
      "source": [
        "!tar -xf /content/apache-cassandra-4.0.12-bin.tar.gz"
      ],
      "metadata": {
        "id": "afXXgh3KhXD3"
      },
      "execution_count": null,
      "outputs": []
    },
    {
      "cell_type": "code",
      "source": [
        "!nohup /content/apache-cassandra-4.0.12/bin/cassandra -R &"
      ],
      "metadata": {
        "colab": {
          "base_uri": "https://localhost:8080/"
        },
        "id": "ztILbI3BhbVL",
        "outputId": "3af4e871-a928-43d7-a35c-3daa0943331a"
      },
      "execution_count": null,
      "outputs": [
        {
          "output_type": "stream",
          "name": "stdout",
          "text": [
            "nohup: appending output to 'nohup.out'\n"
          ]
        }
      ]
    },
    {
      "cell_type": "code",
      "source": [
        "# Instalação Cassandra-driver\n",
        "\n",
        "!pip install -q cassandra-driver"
      ],
      "metadata": {
        "id": "pZChqzXPhd5q",
        "colab": {
          "base_uri": "https://localhost:8080/"
        },
        "outputId": "ff538738-4099-4520-ab03-07f00ddb95a2"
      },
      "execution_count": null,
      "outputs": [
        {
          "output_type": "stream",
          "name": "stdout",
          "text": [
            "\u001b[2K     \u001b[90m━━━━━━━━━━━━━━━━━━━━━━━━━━━━━━━━━━━━━━━━\u001b[0m \u001b[32m18.9/18.9 MB\u001b[0m \u001b[31m35.1 MB/s\u001b[0m eta \u001b[36m0:00:00\u001b[0m\n",
            "\u001b[?25h"
          ]
        }
      ]
    },
    {
      "cell_type": "code",
      "source": [
        "! cat nohup.out"
      ],
      "metadata": {
        "colab": {
          "base_uri": "https://localhost:8080/"
        },
        "collapsed": true,
        "id": "cgYYIMKdhm1M",
        "outputId": "8e029fd8-c2e8-4496-cddd-941d56161a1b"
      },
      "execution_count": null,
      "outputs": [
        {
          "output_type": "stream",
          "name": "stdout",
          "text": [
            "OpenJDK 64-Bit Server VM warning: Option UseConcMarkSweepGC was deprecated in version 9.0 and will likely be removed in a future release.\n",
            "CompileCommand: dontinline org/apache/cassandra/db/Columns$Serializer.deserializeLargeSubset(Lorg/apache/cassandra/io/util/DataInputPlus;Lorg/apache/cassandra/db/Columns;I)Lorg/apache/cassandra/db/Columns;\n",
            "CompileCommand: dontinline org/apache/cassandra/db/Columns$Serializer.serializeLargeSubset(Ljava/util/Collection;ILorg/apache/cassandra/db/Columns;ILorg/apache/cassandra/io/util/DataOutputPlus;)V\n",
            "CompileCommand: dontinline org/apache/cassandra/db/Columns$Serializer.serializeLargeSubsetSize(Ljava/util/Collection;ILorg/apache/cassandra/db/Columns;I)I\n",
            "CompileCommand: dontinline org/apache/cassandra/db/commitlog/AbstractCommitLogSegmentManager.advanceAllocatingFrom(Lorg/apache/cassandra/db/commitlog/CommitLogSegment;)V\n",
            "CompileCommand: dontinline org/apache/cassandra/db/transform/BaseIterator.tryGetMoreContents()Z\n",
            "CompileCommand: dontinline org/apache/cassandra/db/transform/StoppingTransformation.stop()V\n",
            "CompileCommand: dontinline org/apache/cassandra/db/transform/StoppingTransformation.stopInPartition()V\n",
            "CompileCommand: dontinline org/apache/cassandra/io/util/BufferedDataOutputStreamPlus.doFlush(I)V\n",
            "CompileCommand: dontinline org/apache/cassandra/io/util/BufferedDataOutputStreamPlus.writeSlow(JI)V\n",
            "CompileCommand: dontinline org/apache/cassandra/io/util/RebufferingInputStream.readPrimitiveSlowly(I)J\n",
            "CompileCommand: exclude org/apache/cassandra/utils/JVMStabilityInspector.forceHeapSpaceOomMaybe(Ljava/lang/OutOfMemoryError;)V\n",
            "CompileCommand: inline org/apache/cassandra/db/rows/UnfilteredSerializer.serializeRowBody(Lorg/apache/cassandra/db/rows/Row;ILorg/apache/cassandra/db/rows/SerializationHelper;Lorg/apache/cassandra/io/util/DataOutputPlus;)V\n",
            "CompileCommand: inline org/apache/cassandra/io/util/Memory.checkBounds(JJ)V\n",
            "CompileCommand: inline org/apache/cassandra/io/util/SafeMemory.checkBounds(JJ)V\n",
            "CompileCommand: inline org/apache/cassandra/io/util/TrackedDataInputPlus.checkCanRead(I)V\n",
            "CompileCommand: inline org/apache/cassandra/net/FrameDecoderWith8bHeader.decode(Ljava/util/Collection;Lorg/apache/cassandra/net/ShareableBytes;I)V\n",
            "CompileCommand: inline org/apache/cassandra/service/reads/repair/RowIteratorMergeListener.applyToPartition(ILjava/util/function/Consumer;)V\n",
            "CompileCommand: inline org/apache/cassandra/utils/AsymmetricOrdering.selectBoundary(Lorg/apache/cassandra/utils/AsymmetricOrdering/Op;II)I\n",
            "CompileCommand: inline org/apache/cassandra/utils/AsymmetricOrdering.strictnessOfLessThan(Lorg/apache/cassandra/utils/AsymmetricOrdering/Op;)I\n",
            "CompileCommand: inline org/apache/cassandra/utils/BloomFilter.indexes(Lorg/apache/cassandra/utils/IFilter/FilterKey;)[J\n",
            "CompileCommand: inline org/apache/cassandra/utils/BloomFilter.setIndexes(JJIJ[J)V\n",
            "CompileCommand: inline org/apache/cassandra/utils/ByteBufferUtil.compare(Ljava/nio/ByteBuffer;[B)I\n",
            "CompileCommand: inline org/apache/cassandra/utils/ByteBufferUtil.compare([BLjava/nio/ByteBuffer;)I\n",
            "CompileCommand: inline org/apache/cassandra/utils/ByteBufferUtil.compareUnsigned(Ljava/nio/ByteBuffer;Ljava/nio/ByteBuffer;)I\n",
            "CompileCommand: inline org/apache/cassandra/utils/FastByteOperations$UnsafeOperations.compareTo(Ljava/lang/Object;JILjava/lang/Object;JI)I\n",
            "CompileCommand: inline org/apache/cassandra/utils/FastByteOperations$UnsafeOperations.compareTo(Ljava/lang/Object;JILjava/nio/ByteBuffer;)I\n",
            "CompileCommand: inline org/apache/cassandra/utils/FastByteOperations$UnsafeOperations.compareTo(Ljava/nio/ByteBuffer;Ljava/nio/ByteBuffer;)I\n",
            "CompileCommand: inline org/apache/cassandra/utils/memory/BufferPool$LocalPool.tryGetInternal(IZ)Ljava/nio/ByteBuffer;\n",
            "CompileCommand: inline org/apache/cassandra/utils/vint/VIntCoding.encodeUnsignedVInt(JI)[B\n",
            "CompileCommand: inline org/apache/cassandra/utils/vint/VIntCoding.encodeUnsignedVInt(JI[B)V\n",
            "CompileCommand: inline org/apache/cassandra/utils/vint/VIntCoding.writeUnsignedVInt(JLjava/io/DataOutput;)V\n",
            "CompileCommand: inline org/apache/cassandra/utils/vint/VIntCoding.writeUnsignedVInt(JLjava/nio/ByteBuffer;)V\n",
            "CompileCommand: inline org/apache/cassandra/utils/vint/VIntCoding.writeVInt(JLjava/io/DataOutput;)V\n",
            "INFO  [main] 2024-06-22 11:08:25,176 YamlConfigurationLoader.java:97 - Configuration location: file:/content/apache-cassandra-4.0.12/conf/cassandra.yaml\n",
            "INFO  [main] 2024-06-22 11:08:27,114 Config.java:708 - Node configuration:[allocate_tokens_for_keyspace=null; allocate_tokens_for_local_replication_factor=3; allow_extra_insecure_udfs=false; allow_insecure_udfs=false; audit_logging_options=AuditLogOptions{enabled=false, logger='BinAuditLogger', included_keyspaces='', excluded_keyspaces='system,system_schema,system_virtual_schema', included_categories='', excluded_categories='', included_users='', excluded_users='', audit_logs_dir='/content/apache-cassandra-4.0.12/bin/../logs/audit/', archive_command='', roll_cycle='HOURLY', block=true, max_queue_weight=268435456, max_log_size=17179869184}; authenticator=AllowAllAuthenticator; authorizer=AllowAllAuthorizer; auto_bootstrap=true; auto_optimise_full_repair_streams=false; auto_optimise_inc_repair_streams=false; auto_optimise_preview_repair_streams=false; auto_snapshot=true; autocompaction_on_startup_enabled=true; automatic_sstable_upgrade=false; back_pressure_enabled=false; back_pressure_strategy=null; batch_size_fail_threshold_in_kb=50; batch_size_warn_threshold_in_kb=5; batchlog_replay_throttle_in_kb=1024; block_for_peers_in_remote_dcs=false; block_for_peers_timeout_in_secs=10; broadcast_address=null; broadcast_rpc_address=null; buffer_pool_use_heap_if_exhausted=false; cache_load_timeout_seconds=30; cas_contention_timeout_in_ms=1000; cdc_enabled=false; cdc_free_space_check_interval_ms=250; cdc_raw_directory=null; cdc_total_space_in_mb=0; check_for_duplicate_rows_during_compaction=true; check_for_duplicate_rows_during_reads=true; client_encryption_options=<REDACTED>; cluster_name=Test Cluster; column_index_cache_size_in_kb=2; column_index_size_in_kb=64; commit_failure_policy=stop; commitlog_compression=null; commitlog_directory=null; commitlog_max_compression_buffers_in_pool=3; commitlog_periodic_queue_size=-1; commitlog_segment_size_in_mb=32; commitlog_sync=periodic; commitlog_sync_batch_window_in_ms=NaN; commitlog_sync_group_window_in_ms=NaN; commitlog_sync_period_in_ms=10000; commitlog_total_space_in_mb=null; compaction_large_partition_warning_threshold_mb=100; compaction_throughput_mb_per_sec=64; concurrent_compactors=null; concurrent_counter_writes=32; concurrent_materialized_view_builders=1; concurrent_materialized_view_writes=32; concurrent_reads=32; concurrent_replicates=null; concurrent_validations=0; concurrent_writes=32; consecutive_message_errors_threshold=1; corrupted_tombstone_strategy=disabled; counter_cache_keys_to_save=2147483647; counter_cache_save_period=7200; counter_cache_size_in_mb=null; counter_write_request_timeout_in_ms=5000; credentials_cache_max_entries=1000; credentials_update_interval_in_ms=-1; credentials_validity_in_ms=2000; cross_node_timeout=true; data_file_directories=[Ljava.lang.String;@4c51bb7; diagnostic_events_enabled=false; disk_access_mode=auto; disk_failure_policy=stop; disk_optimization_estimate_percentile=0.95; disk_optimization_page_cross_chance=0.1; disk_optimization_strategy=ssd; dynamic_snitch=true; dynamic_snitch_badness_threshold=1.0; dynamic_snitch_reset_interval_in_ms=600000; dynamic_snitch_update_interval_in_ms=100; enable_drop_compact_storage=false; enable_materialized_views=false; enable_sasi_indexes=false; enable_scripted_user_defined_functions=false; enable_transient_replication=false; enable_user_defined_functions=false; enable_user_defined_functions_threads=true; endpoint_snitch=SimpleSnitch; file_cache_enabled=false; file_cache_round_up=null; file_cache_size_in_mb=null; flush_compression=fast; force_new_prepared_statement_behaviour=false; full_query_logging_options=FullQueryLoggerOptions{log_dir='', archive_command='', roll_cycle='HOURLY', block=true, max_queue_weight=268435456, max_log_size=17179869184}; gc_log_threshold_in_ms=200; gc_warn_threshold_in_ms=1000; hinted_handoff_disabled_datacenters=[]; hinted_handoff_enabled=true; hinted_handoff_throttle_in_kb=1024; hints_compression=null; hints_directory=null; hints_flush_period_in_ms=10000; ideal_consistency_level=null; incremental_backups=false; index_summary_capacity_in_mb=null; index_summary_resize_interval_in_minutes=60; initial_range_tombstone_list_allocation_size=1; initial_token=null; inter_dc_stream_throughput_outbound_megabits_per_sec=200; inter_dc_tcp_nodelay=false; internode_application_receive_queue_capacity_in_bytes=4194304; internode_application_receive_queue_reserve_endpoint_capacity_in_bytes=134217728; internode_application_receive_queue_reserve_global_capacity_in_bytes=536870912; internode_application_send_queue_capacity_in_bytes=4194304; internode_application_send_queue_reserve_endpoint_capacity_in_bytes=134217728; internode_application_send_queue_reserve_global_capacity_in_bytes=536870912; internode_authenticator=null; internode_compression=dc; internode_max_message_size_in_bytes=null; internode_socket_receive_buffer_size_in_bytes=0; internode_socket_send_buffer_size_in_bytes=0; internode_streaming_tcp_user_timeout_in_ms=300000; internode_tcp_connect_timeout_in_ms=2000; internode_tcp_user_timeout_in_ms=30000; key_cache_keys_to_save=2147483647; key_cache_migrate_during_compaction=true; key_cache_save_period=14400; key_cache_size_in_mb=null; keyspace_count_warn_threshold=40; listen_address=localhost; listen_interface=null; listen_interface_prefer_ipv6=false; listen_on_broadcast_address=false; local_system_data_file_directory=null; max_concurrent_automatic_sstable_upgrades=1; max_hint_window_in_ms=10800000; max_hints_delivery_threads=2; max_hints_file_size_in_mb=128; max_mutation_size_in_kb=null; max_streaming_retries=3; max_value_size_in_mb=256; memtable_allocation_type=heap_buffers; memtable_cleanup_threshold=null; memtable_flush_writers=0; memtable_heap_space_in_mb=null; memtable_offheap_space_in_mb=null; min_free_space_per_drive_in_mb=50; native_transport_allow_older_protocols=true; native_transport_flush_in_batches_legacy=false; native_transport_idle_timeout_in_ms=0; native_transport_max_concurrent_connections=-1; native_transport_max_concurrent_connections_per_ip=-1; native_transport_max_concurrent_requests_in_bytes=-1; native_transport_max_concurrent_requests_in_bytes_per_ip=-1; native_transport_max_frame_size_in_mb=256; native_transport_max_negotiable_protocol_version=null; native_transport_max_threads=128; native_transport_port=9042; native_transport_port_ssl=null; native_transport_receive_queue_capacity_in_bytes=1048576; network_authorizer=AllowAllNetworkAuthorizer; networking_cache_size_in_mb=null; num_tokens=16; otc_backlog_expiration_interval_ms=200; otc_coalescing_enough_coalesced_messages=8; otc_coalescing_strategy=DISABLED; otc_coalescing_window_us=200; partitioner=org.apache.cassandra.dht.Murmur3Partitioner; periodic_commitlog_sync_lag_block_in_ms=null; permissions_cache_max_entries=1000; permissions_update_interval_in_ms=-1; permissions_validity_in_ms=2000; phi_convict_threshold=8.0; prepared_statements_cache_size_mb=null; range_request_timeout_in_ms=10000; range_tombstone_list_growth_factor=1.5; read_request_timeout_in_ms=5000; reject_repair_compaction_threshold=2147483647; repair_command_pool_full_strategy=queue; repair_command_pool_size=0; repair_request_timeout_in_ms=60000; repair_session_max_tree_depth=null; repair_session_space_in_mb=null; repaired_data_tracking_for_partition_reads_enabled=false; repaired_data_tracking_for_range_reads_enabled=false; report_unconfirmed_repaired_data_mismatches=false; request_timeout_in_ms=10000; role_manager=CassandraRoleManager; roles_cache_max_entries=1000; roles_update_interval_in_ms=-1; roles_validity_in_ms=2000; row_cache_class_name=org.apache.cassandra.cache.OHCProvider; row_cache_keys_to_save=2147483647; row_cache_save_period=0; row_cache_size_in_mb=0; rpc_address=localhost; rpc_interface=null; rpc_interface_prefer_ipv6=false; rpc_keepalive=true; saved_caches_directory=null; seed_provider=org.apache.cassandra.locator.SimpleSeedProvider{seeds=127.0.0.1:7000}; server_encryption_options=<REDACTED>; slow_query_log_timeout_in_ms=500; snapshot_before_compaction=false; snapshot_links_per_second=0; snapshot_on_duplicate_row_detection=false; snapshot_on_repaired_data_mismatch=false; ssl_storage_port=7001; sstable_preemptive_open_interval_in_mb=50; start_native_transport=true; storage_port=7000; stream_entire_sstables=true; stream_throughput_outbound_megabits_per_sec=200; streaming_connections_per_host=1; streaming_keep_alive_period_in_secs=300; table_count_warn_threshold=150; tombstone_failure_threshold=100000; tombstone_warn_threshold=1000; tracetype_query_ttl=86400; tracetype_repair_ttl=604800; transparent_data_encryption_options=org.apache.cassandra.config.TransparentDataEncryptionOptions@83298d7; trickle_fsync=false; trickle_fsync_interval_in_kb=10240; truncate_request_timeout_in_ms=60000; unlogged_batch_across_partitions_warn_threshold=10; use_offheap_merkle_trees=true; user_defined_function_fail_timeout=1500; user_defined_function_warn_timeout=500; user_function_timeout_policy=die; validation_preview_purge_head_start_in_sec=3600; windows_timer_interval=1; write_request_timeout_in_ms=2000]\n",
            "INFO  [main] 2024-06-22 11:08:27,120 DatabaseDescriptor.java:416 - DiskAccessMode 'auto' determined to be mmap, indexAccessMode is mmap\n",
            "INFO  [main] 2024-06-22 11:08:27,122 DatabaseDescriptor.java:477 - Global memtable on-heap threshold is enabled at 806MB\n",
            "INFO  [main] 2024-06-22 11:08:27,122 DatabaseDescriptor.java:481 - Global memtable off-heap threshold is enabled at 806MB\n",
            "INFO  [main] 2024-06-22 11:08:27,846 JMXServerUtils.java:274 - Configured JMX server at: service:jmx:rmi://127.0.0.1/jndi/rmi://127.0.0.1:7199/jmxrmi\n",
            "INFO  [main] 2024-06-22 11:08:27,864 CassandraDaemon.java:621 - Hostname: c0e3f6a3a36e:7000:7001\n",
            "INFO  [main] 2024-06-22 11:08:27,874 CassandraDaemon.java:628 - JVM vendor/version: OpenJDK 64-Bit Server VM/11.0.23\n",
            "INFO  [main] 2024-06-22 11:08:27,881 CassandraDaemon.java:629 - Heap size: 3.148GiB/3.148GiB\n",
            "INFO  [main] 2024-06-22 11:08:27,886 CassandraDaemon.java:634 - CodeHeap 'non-nmethods' Non-heap memory: init = 2555904(2496K) used = 1301888(1271K) committed = 2555904(2496K) max = 5828608(5692K)\n",
            "INFO  [main] 2024-06-22 11:08:27,954 CassandraDaemon.java:634 - Metaspace Non-heap memory: init = 0(0K) used = 21987312(21471K) committed = 22671360(22140K) max = -1(-1K)\n",
            "INFO  [main] 2024-06-22 11:08:27,956 CassandraDaemon.java:634 - CodeHeap 'profiled nmethods' Non-heap memory: init = 2555904(2496K) used = 4289792(4189K) committed = 4325376(4224K) max = 122912768(120032K)\n",
            "INFO  [main] 2024-06-22 11:08:27,957 CassandraDaemon.java:634 - Compressed Class Space Non-heap memory: init = 0(0K) used = 2493656(2435K) committed = 2748416(2684K) max = 1073741824(1048576K)\n",
            "INFO  [main] 2024-06-22 11:08:27,957 CassandraDaemon.java:634 - Par Eden Space Heap memory: init = 167772160(163840K) used = 94309576(92099K) committed = 167772160(163840K) max = 167772160(163840K)\n",
            "INFO  [main] 2024-06-22 11:08:27,961 CassandraDaemon.java:634 - Par Survivor Space Heap memory: init = 20971520(20480K) used = 0(0K) committed = 20971520(20480K) max = 20971520(20480K)\n",
            "INFO  [main] 2024-06-22 11:08:27,966 CassandraDaemon.java:634 - CodeHeap 'non-profiled nmethods' Non-heap memory: init = 2555904(2496K) used = 717184(700K) committed = 2555904(2496K) max = 122916864(120036K)\n",
            "INFO  [main] 2024-06-22 11:08:27,971 CassandraDaemon.java:634 - CMS Old Gen Heap memory: init = 3191865344(3117056K) used = 0(0K) committed = 3191865344(3117056K) max = 3191865344(3117056K)\n",
            "INFO  [main] 2024-06-22 11:08:27,972 CassandraDaemon.java:636 - Classpath: /content/apache-cassandra-4.0.12/bin/../conf:/content/apache-cassandra-4.0.12/bin/../lib/HdrHistogram-2.1.12.jar:/content/apache-cassandra-4.0.12/bin/../lib/ST4-4.0.8.jar:/content/apache-cassandra-4.0.12/bin/../lib/airline-0.8.jar:/content/apache-cassandra-4.0.12/bin/../lib/antlr-runtime-3.5.2.jar:/content/apache-cassandra-4.0.12/bin/../lib/apache-cassandra-4.0.12.jar:/content/apache-cassandra-4.0.12/bin/../lib/asm-7.1.jar:/content/apache-cassandra-4.0.12/bin/../lib/caffeine-2.5.6.jar:/content/apache-cassandra-4.0.12/bin/../lib/cassandra-driver-core-3.11.0-shaded.jar:/content/apache-cassandra-4.0.12/bin/../lib/chronicle-bytes-2.20.111.jar:/content/apache-cassandra-4.0.12/bin/../lib/chronicle-core-2.20.126.jar:/content/apache-cassandra-4.0.12/bin/../lib/chronicle-queue-5.20.123.jar:/content/apache-cassandra-4.0.12/bin/../lib/chronicle-threads-2.20.111.jar:/content/apache-cassandra-4.0.12/bin/../lib/chronicle-wire-2.20.117.jar:/content/apache-cassandra-4.0.12/bin/../lib/commons-cli-1.1.jar:/content/apache-cassandra-4.0.12/bin/../lib/commons-codec-1.9.jar:/content/apache-cassandra-4.0.12/bin/../lib/commons-lang3-3.11.jar:/content/apache-cassandra-4.0.12/bin/../lib/commons-math3-3.2.jar:/content/apache-cassandra-4.0.12/bin/../lib/concurrent-trees-2.4.0.jar:/content/apache-cassandra-4.0.12/bin/../lib/ecj-4.6.1.jar:/content/apache-cassandra-4.0.12/bin/../lib/guava-27.0-jre.jar:/content/apache-cassandra-4.0.12/bin/../lib/high-scale-lib-1.0.6.jar:/content/apache-cassandra-4.0.12/bin/../lib/hppc-0.8.1.jar:/content/apache-cassandra-4.0.12/bin/../lib/j2objc-annotations-1.3.jar:/content/apache-cassandra-4.0.12/bin/../lib/jackson-annotations-2.13.2.jar:/content/apache-cassandra-4.0.12/bin/../lib/jackson-core-2.13.2.jar:/content/apache-cassandra-4.0.12/bin/../lib/jackson-databind-2.13.2.2.jar:/content/apache-cassandra-4.0.12/bin/../lib/jamm-0.3.2.jar:/content/apache-cassandra-4.0.12/bin/../lib/javax.inject-1.jar:/content/apache-cassandra-4.0.12/bin/../lib/jbcrypt-0.4.jar:/content/apache-cassandra-4.0.12/bin/../lib/jcl-over-slf4j-1.7.25.jar:/content/apache-cassandra-4.0.12/bin/../lib/jcommander-1.30.jar:/content/apache-cassandra-4.0.12/bin/../lib/jctools-core-3.1.0.jar:/content/apache-cassandra-4.0.12/bin/../lib/jna-5.6.0.jar:/content/apache-cassandra-4.0.12/bin/../lib/json-simple-1.1.jar:/content/apache-cassandra-4.0.12/bin/../lib/jvm-attach-api-1.5.jar:/content/apache-cassandra-4.0.12/bin/../lib/log4j-over-slf4j-1.7.25.jar:/content/apache-cassandra-4.0.12/bin/../lib/logback-classic-1.2.9.jar:/content/apache-cassandra-4.0.12/bin/../lib/logback-core-1.2.9.jar:/content/apache-cassandra-4.0.12/bin/../lib/lz4-java-1.8.0.jar:/content/apache-cassandra-4.0.12/bin/../lib/metrics-core-3.1.5.jar:/content/apache-cassandra-4.0.12/bin/../lib/metrics-jvm-3.1.5.jar:/content/apache-cassandra-4.0.12/bin/../lib/metrics-logback-3.1.5.jar:/content/apache-cassandra-4.0.12/bin/../lib/mxdump-0.14.jar:/content/apache-cassandra-4.0.12/bin/../lib/netty-all-4.1.58.Final.jar:/content/apache-cassandra-4.0.12/bin/../lib/netty-tcnative-boringssl-static-2.0.36.Final.jar:/content/apache-cassandra-4.0.12/bin/../lib/ohc-core-0.5.1.jar:/content/apache-cassandra-4.0.12/bin/../lib/ohc-core-j8-0.5.1.jar:/content/apache-cassandra-4.0.12/bin/../lib/psjava-0.1.19.jar:/content/apache-cassandra-4.0.12/bin/../lib/reporter-config-base-3.0.3.jar:/content/apache-cassandra-4.0.12/bin/../lib/reporter-config3-3.0.3.jar:/content/apache-cassandra-4.0.12/bin/../lib/sigar-1.6.4.jar:/content/apache-cassandra-4.0.12/bin/../lib/sjk-cli-0.14.jar:/content/apache-cassandra-4.0.12/bin/../lib/sjk-core-0.14.jar:/content/apache-cassandra-4.0.12/bin/../lib/sjk-json-0.14.jar:/content/apache-cassandra-4.0.12/bin/../lib/sjk-stacktrace-0.14.jar:/content/apache-cassandra-4.0.12/bin/../lib/slf4j-api-1.7.25.jar:/content/apache-cassandra-4.0.12/bin/../lib/snakeyaml-1.26.jar:/content/apache-cassandra-4.0.12/bin/../lib/snappy-java-1.1.10.4.jar:/content/apache-cassandra-4.0.12/bin/../lib/snowball-stemmer-1.3.0.581.1.jar:/content/apache-cassandra-4.0.12/bin/../lib/stream-2.5.2.jar:/content/apache-cassandra-4.0.12/bin/../lib/zstd-jni-1.5.5-1.jar:/content/apache-cassandra-4.0.12/bin/../lib/jsr223/*/*.jar:\n",
            "INFO  [main] 2024-06-22 11:08:27,973 CassandraDaemon.java:638 - JVM Arguments: [-ea, -da:net.openhft..., -XX:+UseThreadPriorities, -XX:+HeapDumpOnOutOfMemoryError, -Xss256k, -XX:+AlwaysPreTouch, -XX:-UseBiasedLocking, -XX:+UseTLAB, -XX:+ResizeTLAB, -XX:+UseNUMA, -XX:+PerfDisableSharedMem, -Djava.net.preferIPv4Stack=true, -XX:+UseConcMarkSweepGC, -XX:+CMSParallelRemarkEnabled, -XX:SurvivorRatio=8, -XX:MaxTenuringThreshold=1, -XX:CMSInitiatingOccupancyFraction=75, -XX:+UseCMSInitiatingOccupancyOnly, -XX:CMSWaitDuration=10000, -XX:+CMSParallelInitialMarkEnabled, -XX:+CMSEdenChunksRecordAlways, -XX:+CMSClassUnloadingEnabled, -Djdk.attach.allowAttachSelf=true, --add-exports=java.base/jdk.internal.misc=ALL-UNNAMED, --add-exports=java.base/jdk.internal.ref=ALL-UNNAMED, --add-exports=java.base/sun.nio.ch=ALL-UNNAMED, --add-exports=java.management.rmi/com.sun.jmx.remote.internal.rmi=ALL-UNNAMED, --add-exports=java.rmi/sun.rmi.registry=ALL-UNNAMED, --add-exports=java.rmi/sun.rmi.server=ALL-UNNAMED, --add-exports=java.sql/java.sql=ALL-UNNAMED, --add-opens=java.base/java.lang.module=ALL-UNNAMED, --add-opens=java.base/jdk.internal.loader=ALL-UNNAMED, --add-opens=java.base/jdk.internal.ref=ALL-UNNAMED, --add-opens=java.base/jdk.internal.reflect=ALL-UNNAMED, --add-opens=java.base/jdk.internal.math=ALL-UNNAMED, --add-opens=java.base/jdk.internal.module=ALL-UNNAMED, --add-opens=java.base/jdk.internal.util.jar=ALL-UNNAMED, --add-opens=jdk.management/com.sun.management.internal=ALL-UNNAMED, -Dio.netty.tryReflectionSetAccessible=true, -Xlog:gc=info,heap*=trace,age*=debug,safepoint=info,promotion*=trace:file=/content/apache-cassandra-4.0.12/bin/../logs/gc.log:time,uptime,pid,tid,level:filecount=10,filesize=10485760, -Xms3244M, -Xmx3244M, -Xmn200M, -XX:+UseCondCardMark, -XX:CompileCommandFile=/content/apache-cassandra-4.0.12/bin/../conf/hotspot_compiler, -javaagent:/content/apache-cassandra-4.0.12/bin/../lib/jamm-0.3.2.jar, -Dcassandra.jmx.local.port=7199, -Dcom.sun.management.jmxremote.authenticate=false, -Dcom.sun.management.jmxremote.password.file=/etc/cassandra/jmxremote.password, -Djava.library.path=/content/apache-cassandra-4.0.12/bin/../lib/sigar-bin, -XX:OnOutOfMemoryError=kill -9 %p, -Dlogback.configurationFile=logback.xml, -Dcassandra.logdir=/content/apache-cassandra-4.0.12/bin/../logs, -Dcassandra.storagedir=/content/apache-cassandra-4.0.12/bin/../data]\n",
            "WARN  [main] 2024-06-22 11:08:28,266 NativeLibrary.java:203 - Unable to lock JVM memory (ENOMEM). This can result in part of the JVM being swapped out, especially with mmapped I/O enabled. Increase RLIMIT_MEMLOCK.\n",
            "INFO  [main] 2024-06-22 11:08:28,528 MonotonicClock.java:202 - Scheduling approximate time conversion task with an interval of 10000 milliseconds\n",
            "INFO  [main] 2024-06-22 11:08:28,536 MonotonicClock.java:338 - Scheduling approximate time-check task with a precision of 2 milliseconds\n",
            "WARN  [main] 2024-06-22 11:08:28,541 StartupChecks.java:143 - jemalloc shared library could not be preloaded to speed up memory allocations\n",
            "WARN  [main] 2024-06-22 11:08:28,541 StartupChecks.java:187 - JMX is not enabled to receive remote connections. Please see cassandra-env.sh for more info.\n",
            "INFO  [main] 2024-06-22 11:08:28,545 SigarLibrary.java:44 - Initializing SIGAR library\n",
            "INFO  [main] 2024-06-22 11:08:28,597 SigarLibrary.java:180 - Checked OS settings and found them configured for optimal performance.\n",
            "WARN  [main] 2024-06-22 11:08:28,600 StartupChecks.java:329 - Maximum number of memory map areas per process (vm.max_map_count) 65530 is too low, recommended value: 1048575, you can change it with sysctl.\n",
            "INFO  [main] 2024-06-22 11:08:30,283 Keyspace.java:386 - Creating replication strategy system params KeyspaceParams{durable_writes=true, replication=ReplicationParams{class=org.apache.cassandra.locator.LocalStrategy}}\n",
            "INFO  [main] 2024-06-22 11:08:30,426 ColumnFamilyStore.java:385 - Initializing system.IndexInfo\n",
            "INFO  [main] 2024-06-22 11:08:35,106 ColumnFamilyStore.java:385 - Initializing system.batches\n",
            "INFO  [main] 2024-06-22 11:08:35,141 ColumnFamilyStore.java:385 - Initializing system.paxos\n",
            "INFO  [main] 2024-06-22 11:08:35,178 ColumnFamilyStore.java:385 - Initializing system.local\n",
            "INFO  [main] 2024-06-22 11:08:35,210 ColumnFamilyStore.java:385 - Initializing system.peers_v2\n",
            "INFO  [main] 2024-06-22 11:08:35,222 ColumnFamilyStore.java:385 - Initializing system.peers\n",
            "INFO  [main] 2024-06-22 11:08:35,239 ColumnFamilyStore.java:385 - Initializing system.peer_events_v2\n",
            "INFO  [main] 2024-06-22 11:08:35,258 ColumnFamilyStore.java:385 - Initializing system.peer_events\n",
            "INFO  [main] 2024-06-22 11:08:35,292 ColumnFamilyStore.java:385 - Initializing system.compaction_history\n",
            "INFO  [main] 2024-06-22 11:08:35,311 ColumnFamilyStore.java:385 - Initializing system.sstable_activity\n",
            "INFO  [main] 2024-06-22 11:08:35,327 ColumnFamilyStore.java:385 - Initializing system.size_estimates\n",
            "INFO  [main] 2024-06-22 11:08:35,341 ColumnFamilyStore.java:385 - Initializing system.table_estimates\n",
            "INFO  [main] 2024-06-22 11:08:35,354 ColumnFamilyStore.java:385 - Initializing system.available_ranges_v2\n",
            "INFO  [main] 2024-06-22 11:08:35,368 ColumnFamilyStore.java:385 - Initializing system.available_ranges\n",
            "INFO  [main] 2024-06-22 11:08:35,382 ColumnFamilyStore.java:385 - Initializing system.transferred_ranges_v2\n",
            "INFO  [main] 2024-06-22 11:08:35,398 ColumnFamilyStore.java:385 - Initializing system.transferred_ranges\n",
            "INFO  [main] 2024-06-22 11:08:35,418 ColumnFamilyStore.java:385 - Initializing system.view_builds_in_progress\n",
            "INFO  [main] 2024-06-22 11:08:35,437 ColumnFamilyStore.java:385 - Initializing system.built_views\n",
            "INFO  [main] 2024-06-22 11:08:35,448 ColumnFamilyStore.java:385 - Initializing system.prepared_statements\n",
            "INFO  [main] 2024-06-22 11:08:35,456 ColumnFamilyStore.java:385 - Initializing system.repairs\n",
            "INFO  [main] 2024-06-22 11:08:35,910 QueryProcessor.java:115 - Initialized prepared statement caches with 12 MB\n",
            "INFO  [main] 2024-06-22 11:08:36,217 Keyspace.java:386 - Creating replication strategy system_schema params KeyspaceParams{durable_writes=true, replication=ReplicationParams{class=org.apache.cassandra.locator.LocalStrategy}}\n",
            "INFO  [main] 2024-06-22 11:08:36,223 ColumnFamilyStore.java:385 - Initializing system_schema.keyspaces\n",
            "INFO  [main] 2024-06-22 11:08:36,236 ColumnFamilyStore.java:385 - Initializing system_schema.tables\n",
            "INFO  [main] 2024-06-22 11:08:36,253 ColumnFamilyStore.java:385 - Initializing system_schema.columns\n",
            "INFO  [main] 2024-06-22 11:08:36,266 ColumnFamilyStore.java:385 - Initializing system_schema.triggers\n",
            "INFO  [main] 2024-06-22 11:08:36,277 ColumnFamilyStore.java:385 - Initializing system_schema.dropped_columns\n",
            "INFO  [main] 2024-06-22 11:08:36,290 ColumnFamilyStore.java:385 - Initializing system_schema.views\n",
            "INFO  [main] 2024-06-22 11:08:36,306 ColumnFamilyStore.java:385 - Initializing system_schema.types\n",
            "INFO  [main] 2024-06-22 11:08:36,321 ColumnFamilyStore.java:385 - Initializing system_schema.functions\n",
            "INFO  [main] 2024-06-22 11:08:36,335 ColumnFamilyStore.java:385 - Initializing system_schema.aggregates\n",
            "INFO  [main] 2024-06-22 11:08:36,348 ColumnFamilyStore.java:385 - Initializing system_schema.indexes\n",
            "WARN  [main] 2024-06-22 11:08:36,643 SystemKeyspace.java:1190 - No host ID found, created 20fd8a78-2702-4cc0-ba73-5c131dcd8888 (Note: This should happen exactly once per node).\n",
            "INFO  [main] 2024-06-22 11:08:36,695 ColumnFamilyStore.java:881 - Enqueuing flush of local: 1.746KiB (0%) on-heap, 0.000KiB (0%) off-heap\n",
            "INFO  [PerDiskMemtableFlushWriter_0:1] 2024-06-22 11:08:37,039 Memtable.java:499 - Writing Memtable-local@854419429(0.367KiB serialized bytes, 2 ops, 0%/0% of on/off-heap limit), flushed range = (null, null]\n",
            "INFO  [PerDiskMemtableFlushWriter_0:1] 2024-06-22 11:08:37,044 Memtable.java:528 - Completed flushing /content/apache-cassandra-4.0.12/data/data/system/local-7ad54392bcdd35a684174e047860b377/nb-1-big-Data.db (0.183KiB) for commitlog position CommitLogPosition(segmentId=1719054508508, position=466)\n",
            "INFO  [MemtableFlushWriter:1] 2024-06-22 11:08:37,196 LogTransaction.java:242 - Unfinished transaction log, deleting /content/apache-cassandra-4.0.12/data/data/system/local-7ad54392bcdd35a684174e047860b377/nb_txn_flush_c5b24e90-3087-11ef-bbae-9362bd432de3.log \n",
            "INFO  [MemtableFlushWriter:1] 2024-06-22 11:08:37,207 CacheService.java:103 - Initializing key cache with capacity of 100 MBs.\n",
            "INFO  [MemtableFlushWriter:1] 2024-06-22 11:08:37,238 CacheService.java:125 - Initializing row cache with capacity of 0 MBs\n",
            "INFO  [MemtableFlushWriter:1] 2024-06-22 11:08:37,241 CacheService.java:154 - Initializing counter cache with capacity of 50 MBs\n",
            "INFO  [MemtableFlushWriter:1] 2024-06-22 11:08:37,243 CacheService.java:165 - Scheduling counter cache save to every 7200 seconds (going to save all keys).\n",
            "INFO  [main] 2024-06-22 11:08:37,385 SystemKeyspaceMigrator40.java:76 - system.peers_v2 table was empty, migrating legacy system.peers, if this fails you should fix the issue and then truncate system.peers_v2 to have it try again.\n",
            "INFO  [main] 2024-06-22 11:08:37,430 SystemKeyspaceMigrator40.java:100 - Migrating rows from legacy system.peers to system.peers_v2\n",
            "INFO  [main] 2024-06-22 11:08:37,472 SystemKeyspaceMigrator40.java:119 - Migrated 0 rows from legacy system.peers to system.peers_v2\n",
            "INFO  [main] 2024-06-22 11:08:37,474 SystemKeyspaceMigrator40.java:129 - system.peer_events_v2 table was empty, migrating legacy system.peer_events to system.peer_events_v2\n",
            "INFO  [main] 2024-06-22 11:08:37,476 SystemKeyspaceMigrator40.java:152 - Migrated 0 rows from legacy system.peer_events to system.peer_events_v2\n",
            "INFO  [main] 2024-06-22 11:08:37,476 SystemKeyspaceMigrator40.java:162 - system.transferred_ranges_v2 table was empty, migrating legacy system.transferred_ranges to system.transferred_ranges_v2\n",
            "INFO  [main] 2024-06-22 11:08:37,490 SystemKeyspaceMigrator40.java:190 - Migrated 0 rows from legacy system.transferred_ranges to system.transferred_ranges_v2\n",
            "INFO  [main] 2024-06-22 11:08:37,490 SystemKeyspaceMigrator40.java:200 - system.available_ranges_v2 table was empty, migrating legacy system.available_ranges to system.available_ranges_v2\n",
            "INFO  [main] 2024-06-22 11:08:37,508 SystemKeyspaceMigrator40.java:226 - Migrated 0 rows from legacy system.available_ranges to system.available_ranges_v2\n",
            "INFO  [main] 2024-06-22 11:08:37,509 StorageService.java:926 - Populating token metadata from system tables\n",
            "INFO  [main] 2024-06-22 11:08:37,616 BufferPools.java:49 - Global buffer pool limit is 512.000MiB for chunk-cache and 128.000MiB for networking\n",
            "INFO  [main] 2024-06-22 11:08:37,790 StorageService.java:920 - Token metadata: \n",
            "INFO  [pool-3-thread-1] 2024-06-22 11:08:38,028 AutoSavingCache.java:177 - Completed loading (36 ms; 1 keys) KeyCache cache\n",
            "INFO  [main] 2024-06-22 11:08:38,085 CommitLog.java:196 - No commitlog files found; skipping replay\n",
            "INFO  [main] 2024-06-22 11:08:38,086 StorageService.java:926 - Populating token metadata from system tables\n",
            "INFO  [main] 2024-06-22 11:08:38,247 StorageService.java:920 - Token metadata: \n",
            "INFO  [main] 2024-06-22 11:08:38,747 ColumnFamilyStore.java:2255 - Truncating system.size_estimates\n",
            "INFO  [main] 2024-06-22 11:08:38,762 ColumnFamilyStore.java:2292 - Truncating system.size_estimates with truncatedAt=1719054518757\n",
            "INFO  [main] 2024-06-22 11:08:38,783 ColumnFamilyStore.java:881 - Enqueuing flush of local: 0.708KiB (0%) on-heap, 0.000KiB (0%) off-heap\n",
            "INFO  [PerDiskMemtableFlushWriter_0:2] 2024-06-22 11:08:38,810 Memtable.java:499 - Writing Memtable-local@361257134(0.122KiB serialized bytes, 2 ops, 0%/0% of on/off-heap limit), flushed range = (null, null]\n",
            "INFO  [PerDiskMemtableFlushWriter_0:2] 2024-06-22 11:08:38,811 Memtable.java:528 - Completed flushing /content/apache-cassandra-4.0.12/data/data/system/local-7ad54392bcdd35a684174e047860b377/nb-2-big-Data.db (0.082KiB) for commitlog position CommitLogPosition(segmentId=1719054508508, position=31319)\n",
            "INFO  [MemtableFlushWriter:1] 2024-06-22 11:08:38,852 LogTransaction.java:242 - Unfinished transaction log, deleting /content/apache-cassandra-4.0.12/data/data/system/local-7ad54392bcdd35a684174e047860b377/nb_txn_flush_c6ebe000-3087-11ef-bbae-9362bd432de3.log \n",
            "INFO  [main] 2024-06-22 11:08:38,861 ColumnFamilyStore.java:2319 - Truncate of system.size_estimates is complete\n",
            "INFO  [main] 2024-06-22 11:08:38,862 ColumnFamilyStore.java:2255 - Truncating system.table_estimates\n",
            "INFO  [main] 2024-06-22 11:08:38,868 ColumnFamilyStore.java:2292 - Truncating system.table_estimates with truncatedAt=1719054518866\n",
            "INFO  [main] 2024-06-22 11:08:38,876 ColumnFamilyStore.java:881 - Enqueuing flush of local: 0.575KiB (0%) on-heap, 0.000KiB (0%) off-heap\n",
            "INFO  [PerDiskMemtableFlushWriter_0:1] 2024-06-22 11:08:38,914 Memtable.java:499 - Writing Memtable-local@1164101353(0.091KiB serialized bytes, 1 ops, 0%/0% of on/off-heap limit), flushed range = (null, null]\n",
            "INFO  [PerDiskMemtableFlushWriter_0:1] 2024-06-22 11:08:38,915 Memtable.java:528 - Completed flushing /content/apache-cassandra-4.0.12/data/data/system/local-7ad54392bcdd35a684174e047860b377/nb-3-big-Data.db (0.063KiB) for commitlog position CommitLogPosition(segmentId=1719054508508, position=31430)\n",
            "INFO  [MemtableFlushWriter:1] 2024-06-22 11:08:38,970 LogTransaction.java:242 - Unfinished transaction log, deleting /content/apache-cassandra-4.0.12/data/data/system/local-7ad54392bcdd35a684174e047860b377/nb_txn_flush_c6fb4950-3087-11ef-bbae-9362bd432de3.log \n",
            "INFO  [main] 2024-06-22 11:08:38,979 ColumnFamilyStore.java:2319 - Truncate of system.table_estimates is complete\n",
            "INFO  [main] 2024-06-22 11:08:38,989 QueryProcessor.java:167 - Preloaded 0 prepared statements\n",
            "INFO  [main] 2024-06-22 11:08:38,990 StorageService.java:824 - Cassandra version: 4.0.12\n",
            "INFO  [main] 2024-06-22 11:08:38,990 StorageService.java:825 - CQL version: 3.4.5\n",
            "INFO  [main] 2024-06-22 11:08:38,991 StorageService.java:826 - Native protocol supported versions: 3/v3, 4/v4, 5/v5, 6/v6-beta (default: 5/v5)\n",
            "INFO  [main] 2024-06-22 11:08:39,128 IndexSummaryManager.java:83 - Initializing index summary manager with a memory pool size of 161 MB and a resize interval of 60 minutes\n",
            "INFO  [main] 2024-06-22 11:08:39,129 StorageService.java:843 - Loading persisted ring state\n",
            "INFO  [main] 2024-06-22 11:08:39,130 StorageService.java:926 - Populating token metadata from system tables\n",
            "INFO  [main] 2024-06-22 11:08:39,744 InboundConnectionInitiator.java:127 - Listening on address: (localhost/127.0.0.1:7000), nic: lo, encryption: unencrypted\n",
            "INFO  [main] 2024-06-22 11:08:39,973 StorageService.java:741 - Unable to gossip with any peers but continuing anyway since node is in its own seed list\n",
            "INFO  [main] 2024-06-22 11:08:40,119 StorageService.java:1048 - Starting up server gossip\n",
            "INFO  [main] 2024-06-22 11:08:40,159 ColumnFamilyStore.java:881 - Enqueuing flush of local: 0.458KiB (0%) on-heap, 0.000KiB (0%) off-heap\n",
            "INFO  [PerDiskMemtableFlushWriter_0:2] 2024-06-22 11:08:40,202 Memtable.java:499 - Writing Memtable-local@458204271(0.048KiB serialized bytes, 1 ops, 0%/0% of on/off-heap limit), flushed range = (null, null]\n",
            "INFO  [PerDiskMemtableFlushWriter_0:2] 2024-06-22 11:08:40,203 Memtable.java:528 - Completed flushing /content/apache-cassandra-4.0.12/data/data/system/local-7ad54392bcdd35a684174e047860b377/nb-4-big-Data.db (0.028KiB) for commitlog position CommitLogPosition(segmentId=1719054508508, position=31511)\n",
            "INFO  [MemtableFlushWriter:2] 2024-06-22 11:08:40,254 LogTransaction.java:242 - Unfinished transaction log, deleting /content/apache-cassandra-4.0.12/data/data/system/local-7ad54392bcdd35a684174e047860b377/nb_txn_flush_c7bee770-3087-11ef-bbae-9362bd432de3.log \n",
            "INFO  [main] 2024-06-22 11:08:40,747 StorageService.java:1138 - This node will not auto bootstrap because it is configured to be a seed node.\n",
            "INFO  [main] 2024-06-22 11:09:10,794 TokenAllocatorFactory.java:44 - Using ReplicationAwareTokenAllocator.\n",
            "INFO  [main] 2024-06-22 11:09:10,834 TokenAllocation.java:106 - Selected tokens [2888462774198065339, -4349873790783403360, -9160223750025302794, -2581607186009498, 6689351575471091448, -6285547548966777376, -1838104944540787308, 5099347022957192810, 1809089966750463681, -7381589449201715665, 8308374871168134745, -2909605560880820120, 4131982779878657311, -5194250438274565116, -820253539798360292, 1073174274039570040]\n",
            "INFO  [MigrationStage:1] 2024-06-22 11:09:10,891 ColumnFamilyStore.java:881 - Enqueuing flush of columns: 200.121KiB (0%) on-heap, 0.000KiB (0%) off-heap\n",
            "INFO  [PerDiskMemtableFlushWriter_0:1] 2024-06-22 11:09:10,909 Memtable.java:499 - Writing Memtable-columns@1822689883(41.994KiB serialized bytes, 277 ops, 0%/0% of on/off-heap limit), flushed range = (null, null]\n",
            "INFO  [PerDiskMemtableFlushWriter_0:1] 2024-06-22 11:09:10,934 Memtable.java:528 - Completed flushing /content/apache-cassandra-4.0.12/data/data/system_schema/columns-24101c25a2ae3af787c1b40ee1aca33f/nb-1-big-Data.db (20.847KiB) for commitlog position CommitLogPosition(segmentId=1719054508508, position=42137)\n",
            "INFO  [MemtableFlushWriter:1] 2024-06-22 11:09:10,994 LogTransaction.java:242 - Unfinished transaction log, deleting /content/apache-cassandra-4.0.12/data/data/system_schema/columns-24101c25a2ae3af787c1b40ee1aca33f/nb_txn_flush_da0f2ac0-3087-11ef-bbae-9362bd432de3.log \n",
            "INFO  [MigrationStage:1] 2024-06-22 11:09:11,000 ColumnFamilyStore.java:881 - Enqueuing flush of dropped_columns: 1.079KiB (0%) on-heap, 0.000KiB (0%) off-heap\n",
            "INFO  [PerDiskMemtableFlushWriter_0:2] 2024-06-22 11:09:11,019 Memtable.java:499 - Writing Memtable-dropped_columns@527447006(0.120KiB serialized bytes, 3 ops, 0%/0% of on/off-heap limit), flushed range = (null, null]\n",
            "INFO  [PerDiskMemtableFlushWriter_0:2] 2024-06-22 11:09:11,021 Memtable.java:528 - Completed flushing /content/apache-cassandra-4.0.12/data/data/system_schema/dropped_columns-5e7583b5f3f43af19a39b7e1d6f5f11f/nb-1-big-Data.db (0.097KiB) for commitlog position CommitLogPosition(segmentId=1719054508508, position=42145)\n",
            "INFO  [MemtableFlushWriter:2] 2024-06-22 11:09:11,080 LogTransaction.java:242 - Unfinished transaction log, deleting /content/apache-cassandra-4.0.12/data/data/system_schema/dropped_columns-5e7583b5f3f43af19a39b7e1d6f5f11f/nb_txn_flush_da1fcc90-3087-11ef-bbae-9362bd432de3.log \n",
            "INFO  [MigrationStage:1] 2024-06-22 11:09:11,087 ColumnFamilyStore.java:881 - Enqueuing flush of triggers: 0.511KiB (0%) on-heap, 0.000KiB (0%) off-heap\n",
            "INFO  [PerDiskMemtableFlushWriter_0:1] 2024-06-22 11:09:11,109 Memtable.java:499 - Writing Memtable-triggers@2085597013(0.016KiB serialized bytes, 2 ops, 0%/0% of on/off-heap limit), flushed range = (null, null]\n",
            "INFO  [PerDiskMemtableFlushWriter_0:1] 2024-06-22 11:09:11,111 Memtable.java:528 - Completed flushing /content/apache-cassandra-4.0.12/data/data/system_schema/triggers-4df70b666b05325195a132b54005fd48/nb-1-big-Data.db (0.048KiB) for commitlog position CommitLogPosition(segmentId=1719054508508, position=42145)\n",
            "INFO  [MemtableFlushWriter:1] 2024-06-22 11:09:11,159 LogTransaction.java:242 - Unfinished transaction log, deleting /content/apache-cassandra-4.0.12/data/data/system_schema/triggers-4df70b666b05325195a132b54005fd48/nb_txn_flush_da2cebf0-3087-11ef-bbae-9362bd432de3.log \n",
            "INFO  [MigrationStage:1] 2024-06-22 11:09:11,165 ColumnFamilyStore.java:881 - Enqueuing flush of types: 0.511KiB (0%) on-heap, 0.000KiB (0%) off-heap\n",
            "INFO  [PerDiskMemtableFlushWriter_0:2] 2024-06-22 11:09:11,184 Memtable.java:499 - Writing Memtable-types@1517465172(0.016KiB serialized bytes, 2 ops, 0%/0% of on/off-heap limit), flushed range = (null, null]\n",
            "INFO  [PerDiskMemtableFlushWriter_0:2] 2024-06-22 11:09:11,185 Memtable.java:528 - Completed flushing /content/apache-cassandra-4.0.12/data/data/system_schema/types-5a8b1ca866023f77a0459273d308917a/nb-1-big-Data.db (0.048KiB) for commitlog position CommitLogPosition(segmentId=1719054508508, position=42145)\n",
            "INFO  [MemtableFlushWriter:2] 2024-06-22 11:09:11,235 LogTransaction.java:242 - Unfinished transaction log, deleting /content/apache-cassandra-4.0.12/data/data/system_schema/types-5a8b1ca866023f77a0459273d308917a/nb_txn_flush_da38f9e0-3087-11ef-bbae-9362bd432de3.log \n",
            "INFO  [MigrationStage:1] 2024-06-22 11:09:11,243 ColumnFamilyStore.java:881 - Enqueuing flush of functions: 0.511KiB (0%) on-heap, 0.000KiB (0%) off-heap\n",
            "INFO  [PerDiskMemtableFlushWriter_0:1] 2024-06-22 11:09:11,261 Memtable.java:499 - Writing Memtable-functions@320896402(0.016KiB serialized bytes, 2 ops, 0%/0% of on/off-heap limit), flushed range = (null, null]\n",
            "INFO  [PerDiskMemtableFlushWriter_0:1] 2024-06-22 11:09:11,262 Memtable.java:528 - Completed flushing /content/apache-cassandra-4.0.12/data/data/system_schema/functions-96489b7980be3e14a70166a0b9159450/nb-1-big-Data.db (0.048KiB) for commitlog position CommitLogPosition(segmentId=1719054508508, position=42145)\n",
            "INFO  [MemtableFlushWriter:1] 2024-06-22 11:09:11,314 LogTransaction.java:242 - Unfinished transaction log, deleting /content/apache-cassandra-4.0.12/data/data/system_schema/functions-96489b7980be3e14a70166a0b9159450/nb_txn_flush_da44b9b0-3087-11ef-bbae-9362bd432de3.log \n",
            "INFO  [MigrationStage:1] 2024-06-22 11:09:11,320 ColumnFamilyStore.java:881 - Enqueuing flush of aggregates: 0.511KiB (0%) on-heap, 0.000KiB (0%) off-heap\n",
            "INFO  [PerDiskMemtableFlushWriter_0:2] 2024-06-22 11:09:11,338 Memtable.java:499 - Writing Memtable-aggregates@224972956(0.016KiB serialized bytes, 2 ops, 0%/0% of on/off-heap limit), flushed range = (null, null]\n",
            "INFO  [PerDiskMemtableFlushWriter_0:2] 2024-06-22 11:09:11,339 Memtable.java:528 - Completed flushing /content/apache-cassandra-4.0.12/data/data/system_schema/aggregates-924c55872e3a345bb10c12f37c1ba895/nb-1-big-Data.db (0.048KiB) for commitlog position CommitLogPosition(segmentId=1719054508508, position=42145)\n",
            "INFO  [MemtableFlushWriter:2] 2024-06-22 11:09:11,388 LogTransaction.java:242 - Unfinished transaction log, deleting /content/apache-cassandra-4.0.12/data/data/system_schema/aggregates-924c55872e3a345bb10c12f37c1ba895/nb_txn_flush_da50a090-3087-11ef-bbae-9362bd432de3.log \n",
            "INFO  [MigrationStage:1] 2024-06-22 11:09:11,394 ColumnFamilyStore.java:881 - Enqueuing flush of indexes: 0.511KiB (0%) on-heap, 0.000KiB (0%) off-heap\n",
            "INFO  [PerDiskMemtableFlushWriter_0:1] 2024-06-22 11:09:11,412 Memtable.java:499 - Writing Memtable-indexes@1084662929(0.016KiB serialized bytes, 2 ops, 0%/0% of on/off-heap limit), flushed range = (null, null]\n",
            "INFO  [PerDiskMemtableFlushWriter_0:1] 2024-06-22 11:09:11,413 Memtable.java:528 - Completed flushing /content/apache-cassandra-4.0.12/data/data/system_schema/indexes-0feb57ac311f382fba6d9024d305702f/nb-1-big-Data.db (0.048KiB) for commitlog position CommitLogPosition(segmentId=1719054508508, position=42145)\n",
            "INFO  [MemtableFlushWriter:1] 2024-06-22 11:09:11,465 LogTransaction.java:242 - Unfinished transaction log, deleting /content/apache-cassandra-4.0.12/data/data/system_schema/indexes-0feb57ac311f382fba6d9024d305702f/nb_txn_flush_da5beb30-3087-11ef-bbae-9362bd432de3.log \n",
            "INFO  [MigrationStage:1] 2024-06-22 11:09:11,472 ColumnFamilyStore.java:881 - Enqueuing flush of tables: 92.656KiB (0%) on-heap, 0.000KiB (0%) off-heap\n",
            "INFO  [PerDiskMemtableFlushWriter_0:2] 2024-06-22 11:09:11,493 Memtable.java:499 - Writing Memtable-tables@1810002306(28.858KiB serialized bytes, 42 ops, 0%/0% of on/off-heap limit), flushed range = (null, null]\n",
            "INFO  [PerDiskMemtableFlushWriter_0:2] 2024-06-22 11:09:11,501 Memtable.java:528 - Completed flushing /content/apache-cassandra-4.0.12/data/data/system_schema/tables-afddfb9dbc1e30688056eed6c302ba09/nb-1-big-Data.db (17.879KiB) for commitlog position CommitLogPosition(segmentId=1719054508508, position=42145)\n",
            "INFO  [MemtableFlushWriter:2] 2024-06-22 11:09:11,552 LogTransaction.java:242 - Unfinished transaction log, deleting /content/apache-cassandra-4.0.12/data/data/system_schema/tables-afddfb9dbc1e30688056eed6c302ba09/nb_txn_flush_da67ab00-3087-11ef-bbae-9362bd432de3.log \n",
            "INFO  [MigrationStage:1] 2024-06-22 11:09:11,558 ColumnFamilyStore.java:881 - Enqueuing flush of views: 0.511KiB (0%) on-heap, 0.000KiB (0%) off-heap\n",
            "INFO  [PerDiskMemtableFlushWriter_0:1] 2024-06-22 11:09:11,577 Memtable.java:499 - Writing Memtable-views@211589132(0.016KiB serialized bytes, 2 ops, 0%/0% of on/off-heap limit), flushed range = (null, null]\n",
            "INFO  [PerDiskMemtableFlushWriter_0:1] 2024-06-22 11:09:11,578 Memtable.java:528 - Completed flushing /content/apache-cassandra-4.0.12/data/data/system_schema/views-9786ac1cdd583201a7cdad556410c985/nb-1-big-Data.db (0.048KiB) for commitlog position CommitLogPosition(segmentId=1719054508508, position=42145)\n",
            "INFO  [MemtableFlushWriter:1] 2024-06-22 11:09:11,620 LogTransaction.java:242 - Unfinished transaction log, deleting /content/apache-cassandra-4.0.12/data/data/system_schema/views-9786ac1cdd583201a7cdad556410c985/nb_txn_flush_da74f170-3087-11ef-bbae-9362bd432de3.log \n",
            "INFO  [MigrationStage:1] 2024-06-22 11:09:11,626 ColumnFamilyStore.java:881 - Enqueuing flush of keyspaces: 3.243KiB (0%) on-heap, 0.000KiB (0%) off-heap\n",
            "INFO  [PerDiskMemtableFlushWriter_0:2] 2024-06-22 11:09:11,643 Memtable.java:499 - Writing Memtable-keyspaces@1964134883(0.673KiB serialized bytes, 7 ops, 0%/0% of on/off-heap limit), flushed range = (null, null]\n",
            "INFO  [PerDiskMemtableFlushWriter_0:2] 2024-06-22 11:09:11,645 Memtable.java:528 - Completed flushing /content/apache-cassandra-4.0.12/data/data/system_schema/keyspaces-abac5682dea631c5b535b3d6cffd0fb6/nb-1-big-Data.db (0.556KiB) for commitlog position CommitLogPosition(segmentId=1719054508508, position=42145)\n",
            "INFO  [MemtableFlushWriter:2] 2024-06-22 11:09:11,690 LogTransaction.java:242 - Unfinished transaction log, deleting /content/apache-cassandra-4.0.12/data/data/system_schema/keyspaces-abac5682dea631c5b535b3d6cffd0fb6/nb_txn_flush_da7f51b0-3087-11ef-bbae-9362bd432de3.log \n",
            "INFO  [MigrationStage:1] 2024-06-22 11:09:11,843 Keyspace.java:386 - Creating replication strategy system_auth params KeyspaceParams{durable_writes=true, replication=ReplicationParams{class=org.apache.cassandra.locator.SimpleStrategy, replication_factor=1}}\n",
            "INFO  [MigrationStage:1] 2024-06-22 11:09:11,850 ColumnFamilyStore.java:385 - Initializing system_auth.network_permissions\n",
            "INFO  [MigrationStage:1] 2024-06-22 11:09:11,858 ColumnFamilyStore.java:385 - Initializing system_auth.resource_role_permissons_index\n",
            "INFO  [MigrationStage:1] 2024-06-22 11:09:11,869 ColumnFamilyStore.java:385 - Initializing system_auth.role_members\n",
            "INFO  [MigrationStage:1] 2024-06-22 11:09:11,877 ColumnFamilyStore.java:385 - Initializing system_auth.role_permissions\n",
            "INFO  [MigrationStage:1] 2024-06-22 11:09:11,884 ColumnFamilyStore.java:385 - Initializing system_auth.roles\n",
            "INFO  [MigrationStage:1] 2024-06-22 11:09:11,898 Keyspace.java:386 - Creating replication strategy system_distributed params KeyspaceParams{durable_writes=true, replication=ReplicationParams{class=org.apache.cassandra.locator.SimpleStrategy, replication_factor=3}}\n",
            "INFO  [MigrationStage:1] 2024-06-22 11:09:11,902 ColumnFamilyStore.java:385 - Initializing system_distributed.parent_repair_history\n",
            "INFO  [MigrationStage:1] 2024-06-22 11:09:11,911 ColumnFamilyStore.java:385 - Initializing system_distributed.repair_history\n",
            "INFO  [MigrationStage:1] 2024-06-22 11:09:11,919 ColumnFamilyStore.java:385 - Initializing system_distributed.view_build_status\n",
            "INFO  [MigrationStage:1] 2024-06-22 11:09:11,926 Keyspace.java:386 - Creating replication strategy system_traces params KeyspaceParams{durable_writes=true, replication=ReplicationParams{class=org.apache.cassandra.locator.SimpleStrategy, replication_factor=2}}\n",
            "INFO  [MigrationStage:1] 2024-06-22 11:09:11,929 ColumnFamilyStore.java:385 - Initializing system_traces.events\n",
            "INFO  [MigrationStage:1] 2024-06-22 11:09:11,936 ColumnFamilyStore.java:385 - Initializing system_traces.sessions\n",
            "INFO  [main] 2024-06-22 11:09:12,002 StorageService.java:1732 - JOINING: Finish joining ring\n",
            "INFO  [main] 2024-06-22 11:09:12,008 ColumnFamilyStore.java:881 - Enqueuing flush of local: 0.588KiB (0%) on-heap, 0.000KiB (0%) off-heap\n",
            "INFO  [PerDiskMemtableFlushWriter_0:1] 2024-06-22 11:09:12,031 Memtable.java:499 - Writing Memtable-local@220769229(0.084KiB serialized bytes, 3 ops, 0%/0% of on/off-heap limit), flushed range = (null, null]\n",
            "INFO  [PerDiskMemtableFlushWriter_0:1] 2024-06-22 11:09:12,032 Memtable.java:528 - Completed flushing /content/apache-cassandra-4.0.12/data/data/system/local-7ad54392bcdd35a684174e047860b377/nb-5-big-Data.db (0.058KiB) for commitlog position CommitLogPosition(segmentId=1719054508508, position=42301)\n",
            "INFO  [MemtableFlushWriter:1] 2024-06-22 11:09:12,075 LogTransaction.java:242 - Unfinished transaction log, deleting /content/apache-cassandra-4.0.12/data/data/system/local-7ad54392bcdd35a684174e047860b377/nb_txn_flush_daba10c0-3087-11ef-bbae-9362bd432de3.log \n",
            "INFO  [main] 2024-06-22 11:09:12,102 ColumnFamilyStore.java:881 - Enqueuing flush of local: 3.404KiB (0%) on-heap, 0.000KiB (0%) off-heap\n",
            "INFO  [PerDiskMemtableFlushWriter_0:2] 2024-06-22 11:09:12,123 Memtable.java:499 - Writing Memtable-local@979194139(0.592KiB serialized bytes, 1 ops, 0%/0% of on/off-heap limit), flushed range = (null, null]\n",
            "INFO  [PerDiskMemtableFlushWriter_0:2] 2024-06-22 11:09:12,124 Memtable.java:528 - Completed flushing /content/apache-cassandra-4.0.12/data/data/system/local-7ad54392bcdd35a684174e047860b377/nb-6-big-Data.db (0.360KiB) for commitlog position CommitLogPosition(segmentId=1719054508508, position=42714)\n",
            "INFO  [MemtableFlushWriter:2] 2024-06-22 11:09:12,164 LogTransaction.java:242 - Unfinished transaction log, deleting /content/apache-cassandra-4.0.12/data/data/system/local-7ad54392bcdd35a684174e047860b377/nb_txn_flush_dac88fb0-3087-11ef-bbae-9362bd432de3.log \n",
            "INFO  [main] 2024-06-22 11:09:12,193 StorageService.java:2913 - Node localhost/127.0.0.1:7000 state jump to NORMAL\n"
          ]
        }
      ]
    },
    {
      "cell_type": "code",
      "source": [
        "# Criação de Cluster e de sessão\n",
        "\n",
        "from cassandra.cluster import Cluster\n",
        "cluster = Cluster()\n",
        "\n",
        "session = cluster.connect()"
      ],
      "metadata": {
        "colab": {
          "base_uri": "https://localhost:8080/"
        },
        "id": "z-C9FsBxh8rT",
        "outputId": "c1fcb006-ffe1-42b2-b703-69ffc817f2a6"
      },
      "execution_count": null,
      "outputs": [
        {
          "output_type": "stream",
          "name": "stderr",
          "text": [
            "WARNING:cassandra.cluster:Downgrading core protocol version from 66 to 65 for 127.0.0.1:9042. To avoid this, it is best practice to explicitly set Cluster(protocol_version) to the version supported by your cluster. http://datastax.github.io/python-driver/api/cassandra/cluster.html#cassandra.cluster.Cluster.protocol_version\n",
            "WARNING:cassandra.cluster:Downgrading core protocol version from 65 to 5 for 127.0.0.1:9042. To avoid this, it is best practice to explicitly set Cluster(protocol_version) to the version supported by your cluster. http://datastax.github.io/python-driver/api/cassandra/cluster.html#cassandra.cluster.Cluster.protocol_version\n"
          ]
        }
      ]
    },
    {
      "cell_type": "code",
      "source": [
        "# Criação de Keyspace/BD\n",
        "\n",
        "try:\n",
        "    session.execute(\"\"\"\n",
        "    CREATE KEYSPACE IF NOT EXISTS inventory\n",
        "    WITH REPLICATION =\n",
        "    { 'class' : 'SimpleStrategy', 'replication_factor' : 1 }\"\"\"\n",
        ")\n",
        "\n",
        "except Exception as e:\n",
        "    print(e)"
      ],
      "metadata": {
        "id": "4dph-hAmiHQX"
      },
      "execution_count": null,
      "outputs": []
    },
    {
      "cell_type": "code",
      "source": [
        "# Definição de Keyspace/BD\n",
        "\n",
        "try:\n",
        "    session.set_keyspace('inventory')\n",
        "except Exception as e:\n",
        "    print(e)"
      ],
      "metadata": {
        "id": "DQeyVXbAiciD"
      },
      "execution_count": null,
      "outputs": []
    },
    {
      "cell_type": "markdown",
      "source": [
        "### Criação das tabelas Dimensão"
      ],
      "metadata": {
        "id": "CzlFz6jnirMO"
      }
    },
    {
      "cell_type": "code",
      "source": [
        "# Função para ler o conteúdo do arquivo .cql\n",
        "\n",
        "def read_cql_file(file_path):\n",
        "    with open(file_path, 'r') as file:\n",
        "        return file.read()"
      ],
      "metadata": {
        "id": "d_DJQwVEjGxZ"
      },
      "execution_count": null,
      "outputs": []
    },
    {
      "cell_type": "code",
      "source": [
        "%%writefile dim_product.cql\n",
        "\n",
        "CREATE TABLE IF NOT EXISTS dim_product (\n",
        "    product_id UUID PRIMARY KEY,\n",
        "    product_name TEXT,\n",
        "    product_description TEXT,\n",
        "    product_category TEXT,\n",
        "    brand TEXT,\n",
        "    price DECIMAL,\n",
        "    supplier_id UUID\n",
        ");"
      ],
      "metadata": {
        "colab": {
          "base_uri": "https://localhost:8080/"
        },
        "id": "-Rp5EsGNivMe",
        "outputId": "2a1a4e0f-d967-46cb-a8f2-45ec3e3b5a46"
      },
      "execution_count": null,
      "outputs": [
        {
          "output_type": "stream",
          "name": "stdout",
          "text": [
            "Writing dim_product.cql\n"
          ]
        }
      ]
    },
    {
      "cell_type": "code",
      "source": [
        "# Ler o conteúdo do arquivo .cql\n",
        "cql_file_path = '/content/dim_product.cql'\n",
        "cql_commands = read_cql_file(cql_file_path)\n",
        "session.execute(cql_commands)"
      ],
      "metadata": {
        "colab": {
          "base_uri": "https://localhost:8080/"
        },
        "id": "j3i4iAdejNIW",
        "outputId": "95d92270-282a-45fd-f532-b15099cc9854"
      },
      "execution_count": null,
      "outputs": [
        {
          "output_type": "execute_result",
          "data": {
            "text/plain": [
              "<cassandra.cluster.ResultSet at 0x78cd8a00b040>"
            ]
          },
          "metadata": {},
          "execution_count": 13
        }
      ]
    },
    {
      "cell_type": "code",
      "source": [
        "%%writefile dim_location.cql\n",
        "\n",
        "CREATE TABLE IF NOT EXISTS dim_location (\n",
        "    location_id UUID PRIMARY KEY,\n",
        "    location_name TEXT,\n",
        "    location_address TEXT,\n",
        "    location_city TEXT,\n",
        "    location_state TEXT,\n",
        "    location_country TEXT\n",
        ");"
      ],
      "metadata": {
        "colab": {
          "base_uri": "https://localhost:8080/"
        },
        "id": "aE0CsOfkjYzI",
        "outputId": "d2320a0c-e066-4e11-ee36-51876b811f3d"
      },
      "execution_count": null,
      "outputs": [
        {
          "output_type": "stream",
          "name": "stdout",
          "text": [
            "Writing dim_location.cql\n"
          ]
        }
      ]
    },
    {
      "cell_type": "code",
      "source": [
        "# Ler o conteúdo do arquivo .cql\n",
        "cql_file_path = '/content/dim_location.cql'\n",
        "cql_commands = read_cql_file(cql_file_path)\n",
        "session.execute(cql_commands)"
      ],
      "metadata": {
        "colab": {
          "base_uri": "https://localhost:8080/"
        },
        "id": "b5xUOl-ljd6l",
        "outputId": "c3804a87-74eb-419d-ebd0-f6ef95dbd2d2"
      },
      "execution_count": null,
      "outputs": [
        {
          "output_type": "execute_result",
          "data": {
            "text/plain": [
              "<cassandra.cluster.ResultSet at 0x78cd75a60dc0>"
            ]
          },
          "metadata": {},
          "execution_count": 15
        }
      ]
    },
    {
      "cell_type": "code",
      "source": [
        "%%writefile dim_supplier.cql\n",
        "\n",
        "CREATE TABLE IF NOT EXISTS dim_supplier (\n",
        "    supplier_id UUID PRIMARY KEY,\n",
        "    supplier_name TEXT,\n",
        "    supplier_contact_name TEXT,\n",
        "    supplier_phone TEXT,\n",
        "    supplier_email TEXT,\n",
        "    supplier_address TEXT\n",
        ");"
      ],
      "metadata": {
        "colab": {
          "base_uri": "https://localhost:8080/"
        },
        "id": "PNwPDI0AjjiY",
        "outputId": "f4d4183a-0d2d-48ad-f19d-5e2e785991e1"
      },
      "execution_count": null,
      "outputs": [
        {
          "output_type": "stream",
          "name": "stdout",
          "text": [
            "Writing dim_supplier.cql\n"
          ]
        }
      ]
    },
    {
      "cell_type": "code",
      "source": [
        "# Ler o conteúdo do arquivo .cql\n",
        "cql_file_path = '/content/dim_supplier.cql'\n",
        "cql_commands = read_cql_file(cql_file_path)\n",
        "session.execute(cql_commands)"
      ],
      "metadata": {
        "colab": {
          "base_uri": "https://localhost:8080/"
        },
        "id": "ehcvnqTijk7X",
        "outputId": "999f1aa2-ece2-4045-bdf6-223906a805f3"
      },
      "execution_count": null,
      "outputs": [
        {
          "output_type": "execute_result",
          "data": {
            "text/plain": [
              "<cassandra.cluster.ResultSet at 0x78cd8ae2e680>"
            ]
          },
          "metadata": {},
          "execution_count": 17
        }
      ]
    },
    {
      "cell_type": "code",
      "source": [
        "%%writefile dim_time.cql\n",
        "\n",
        "CREATE TABLE IF NOT EXISTS dim_time (\n",
        "    time_id UUID PRIMARY KEY,\n",
        "    date DATE,\n",
        "    day INT,\n",
        "    month INT,\n",
        "    quarter INT,\n",
        "    year INT,\n",
        "    day_of_week TEXT,\n",
        "    is_weekend BOOLEAN\n",
        ");"
      ],
      "metadata": {
        "colab": {
          "base_uri": "https://localhost:8080/"
        },
        "id": "mBpnmPO4ju5Y",
        "outputId": "41621f67-01e2-4219-a53c-94845ab34325"
      },
      "execution_count": null,
      "outputs": [
        {
          "output_type": "stream",
          "name": "stdout",
          "text": [
            "Writing dim_time.cql\n"
          ]
        }
      ]
    },
    {
      "cell_type": "code",
      "source": [
        "# Ler o conteúdo do arquivo .cql\n",
        "cql_file_path = '/content/dim_time.cql'\n",
        "cql_commands = read_cql_file(cql_file_path)\n",
        "session.execute(cql_commands)"
      ],
      "metadata": {
        "colab": {
          "base_uri": "https://localhost:8080/"
        },
        "id": "_aW6yCzEjwqQ",
        "outputId": "636f693d-80e0-46e1-ec15-28ed65fe9546"
      },
      "execution_count": null,
      "outputs": [
        {
          "output_type": "execute_result",
          "data": {
            "text/plain": [
              "<cassandra.cluster.ResultSet at 0x78cd75e5f2b0>"
            ]
          },
          "metadata": {},
          "execution_count": 19
        }
      ]
    },
    {
      "cell_type": "code",
      "source": [
        "%%writefile dim_customer.cql\n",
        "\n",
        "CREATE TABLE IF NOT EXISTS dim_customer (\n",
        "    customer_id UUID PRIMARY KEY,\n",
        "    customer_name TEXT,\n",
        "    customer_email TEXT,\n",
        "    customer_phone TEXT,\n",
        "    customer_address TEXT,\n",
        "    customer_city TEXT,\n",
        "    customer_state TEXT,\n",
        "    customer_country TEXT\n",
        ");"
      ],
      "metadata": {
        "colab": {
          "base_uri": "https://localhost:8080/"
        },
        "id": "SUyc8A04j9HY",
        "outputId": "836ae1db-4266-4288-f039-cdc5d48885c5"
      },
      "execution_count": null,
      "outputs": [
        {
          "output_type": "stream",
          "name": "stdout",
          "text": [
            "Writing dim_customer.cql\n"
          ]
        }
      ]
    },
    {
      "cell_type": "code",
      "source": [
        "# Ler o conteúdo do arquivo .cql\n",
        "cql_file_path = '/content/dim_customer.cql'\n",
        "cql_commands = read_cql_file(cql_file_path)\n",
        "session.execute(cql_commands)"
      ],
      "metadata": {
        "colab": {
          "base_uri": "https://localhost:8080/"
        },
        "id": "YWrkh39Dj-Uo",
        "outputId": "5c9d9de5-b262-4bba-cd44-a519018e8a32"
      },
      "execution_count": null,
      "outputs": [
        {
          "output_type": "execute_result",
          "data": {
            "text/plain": [
              "<cassandra.cluster.ResultSet at 0x78cd75a2edd0>"
            ]
          },
          "metadata": {},
          "execution_count": 21
        }
      ]
    },
    {
      "cell_type": "code",
      "source": [
        "%%writefile dim_product_category.cql\n",
        "\n",
        "CREATE TABLE IF NOT EXISTS dim_product_category (\n",
        "    product_category_id UUID PRIMARY KEY,\n",
        "    product_category_name TEXT,\n",
        "    product_category_description TEXT\n",
        ");"
      ],
      "metadata": {
        "colab": {
          "base_uri": "https://localhost:8080/"
        },
        "id": "BK_kGEoLkEpx",
        "outputId": "da9ab536-5960-4002-b70a-53e88b2a71da"
      },
      "execution_count": null,
      "outputs": [
        {
          "output_type": "stream",
          "name": "stdout",
          "text": [
            "Writing dim_product_category.cql\n"
          ]
        }
      ]
    },
    {
      "cell_type": "code",
      "source": [
        "# Ler o conteúdo do arquivo .cql\n",
        "cql_file_path = '/content/dim_product_category.cql'\n",
        "cql_commands = read_cql_file(cql_file_path)\n",
        "session.execute(cql_commands)"
      ],
      "metadata": {
        "colab": {
          "base_uri": "https://localhost:8080/"
        },
        "id": "QndXJYkZkF9v",
        "outputId": "b978bd6e-16c3-4d1d-c15f-57c64654feaa"
      },
      "execution_count": null,
      "outputs": [
        {
          "output_type": "execute_result",
          "data": {
            "text/plain": [
              "<cassandra.cluster.ResultSet at 0x78cd759f9300>"
            ]
          },
          "metadata": {},
          "execution_count": 23
        }
      ]
    },
    {
      "cell_type": "markdown",
      "source": [
        "### Criação da tabela Fato\n"
      ],
      "metadata": {
        "id": "QGz02OPHkZLM"
      }
    },
    {
      "cell_type": "code",
      "source": [
        "%%writefile fact_stock_movement.cql\n",
        "\n",
        "CREATE TABLE IF NOT EXISTS fact_stock_movement (\n",
        "    movement_id UUID,\n",
        "    product_id UUID,\n",
        "    location_id UUID,\n",
        "    time_id UUID,\n",
        "    supplier_id UUID,\n",
        "    customer_id UUID,\n",
        "    product_category_id UUID,\n",
        "    movement_type TEXT,\n",
        "    quantity INT,\n",
        "    unit_price DECIMAL,\n",
        "    total_value DECIMAL,\n",
        "    PRIMARY KEY ((movement_id, product_id), location_id, time_id, supplier_id, customer_id, product_category_id)\n",
        ");\n"
      ],
      "metadata": {
        "colab": {
          "base_uri": "https://localhost:8080/"
        },
        "id": "-c2CMuAXkYw5",
        "outputId": "21cdc131-109e-45f7-98eb-9586c9c6cb1b"
      },
      "execution_count": null,
      "outputs": [
        {
          "output_type": "stream",
          "name": "stdout",
          "text": [
            "Writing fact_stock_movement.cql\n"
          ]
        }
      ]
    },
    {
      "cell_type": "code",
      "source": [
        "# Ler o conteúdo do arquivo .cql\n",
        "cql_file_path = '/content/fact_stock_movement.cql'\n",
        "cql_commands = read_cql_file(cql_file_path)\n",
        "session.execute(cql_commands)"
      ],
      "metadata": {
        "colab": {
          "base_uri": "https://localhost:8080/"
        },
        "id": "fLvDgeWSkkmV",
        "outputId": "2333861b-0e46-4b54-c46e-796baf116f4c"
      },
      "execution_count": null,
      "outputs": [
        {
          "output_type": "execute_result",
          "data": {
            "text/plain": [
              "<cassandra.cluster.ResultSet at 0x78cd8a00b8b0>"
            ]
          },
          "metadata": {},
          "execution_count": 25
        }
      ]
    },
    {
      "cell_type": "markdown",
      "source": [
        "### Insert nas tabelas Dimensão"
      ],
      "metadata": {
        "id": "-Qagb70zsgkS"
      }
    },
    {
      "cell_type": "code",
      "source": [
        "%%writefile insert_dim_product.cql\n",
        "\n",
        "INSERT INTO dim_product (product_id, product_name, product_description, product_category, brand, price, supplier_id) VALUES (uuid(), 'Maçã Gala', 'Maçã Gala fresca e suculenta', 'Frutas', 'Gala', 4.99, uuid());\n",
        "INSERT INTO dim_product (product_id, product_name, product_description, product_category, brand, price, supplier_id) VALUES (uuid(), 'Arroz Integral', 'Arroz Integral Orgânico 1kg', 'Grãos', 'Orgânico', 8.49, uuid());\n",
        "INSERT INTO dim_product (product_id, product_name, product_description, product_category, brand, price, supplier_id) VALUES (uuid(), 'Feijão Preto', 'Feijão Preto Premium 500g', 'Grãos', 'Premium', 5.99, uuid());\n",
        "INSERT INTO dim_product (product_id, product_name, product_description, product_category, brand, price, supplier_id) VALUES (uuid(), 'Leite Desnatado', 'Leite Desnatado 1L', 'Laticínios', 'Desnatado', 3.29, uuid());\n",
        "INSERT INTO dim_product (product_id, product_name, product_description, product_category, brand, price, supplier_id) VALUES (uuid(), 'Café Torrado e Moído', 'Café Torrado e Moído Extra Forte 250g', 'Bebidas', 'Extra Forte', 12.99, uuid());\n",
        "INSERT INTO dim_product (product_id, product_name, product_description, product_category, brand, price, supplier_id) VALUES (uuid(), 'Azeite de Oliva Extra Virgem', 'Azeite de Oliva Extra Virgem 500ml', 'Condimentos', 'Extra Virgem', 19.99, uuid());\n",
        "INSERT INTO dim_product (product_id, product_name, product_description, product_category, brand, price, supplier_id) VALUES (uuid(), 'Atum em Lata', 'Atum em Lata ao Natural 170g', 'Enlatados', 'Ao Natural', 6.49, uuid());\n",
        "INSERT INTO dim_product (product_id, product_name, product_description, product_category, brand, price, supplier_id) VALUES (uuid(), 'Pasta de Amendoim', 'Pasta de Amendoim Integral 500g', 'Saudáveis', 'Integral', 10.99, uuid());\n",
        "INSERT INTO dim_product (product_id, product_name, product_description, product_category, brand, price, supplier_id) VALUES (uuid(), 'Chocolate Amargo 70%', 'Chocolate Amargo 70% Cacau 100g', 'Doces', 'Amargo', 7.99, uuid());\n",
        "INSERT INTO dim_product (product_id, product_name, product_description, product_category, brand, price, supplier_id) VALUES (uuid(), 'Molho de Tomate', 'Molho de Tomate Tradicional 340g', 'Molhos', 'Tradicional', 2.99, uuid());\n",
        "INSERT INTO dim_product (product_id, product_name, product_description, product_category, brand, price, supplier_id) VALUES (uuid(), 'Sabonete Líquido', 'Sabonete Líquido Suave 250ml', 'Higiene', 'Suave', 4.49, uuid());\n",
        "INSERT INTO dim_product (product_id, product_name, product_description, product_category, brand, price, supplier_id) VALUES (uuid(), 'Papel Higiênico', 'Papel Higiênico Folha Dupla 4 rolos', 'Higiene', 'Folha Dupla', 6.99, uuid());\n",
        "INSERT INTO dim_product (product_id, product_name, product_description, product_category, brand, price, supplier_id) VALUES (uuid(), 'Detergente Líquido', 'Detergente Líquido Limão 500ml', 'Limpeza', 'Limão', 3.79, uuid());\n",
        "INSERT INTO dim_product (product_id, product_name, product_description, product_category, brand, price, supplier_id) VALUES (uuid(), 'Desinfetante', 'Desinfetante Floral 1L', 'Limpeza', 'Floral', 5.49, uuid());\n",
        "INSERT INTO dim_product (product_id, product_name, product_description, product_category, brand, price, supplier_id) VALUES (uuid(), 'Vinho Tinto', 'Vinho Tinto Seco 750ml', 'Bebidas Alcoólicas', 'Seco', 29.99, uuid());\n",
        "INSERT INTO dim_product (product_id, product_name, product_description, product_category, brand, price, supplier_id) VALUES (uuid(), 'Cerveja Artesanal IPA', 'Cerveja Artesanal India Pale Ale 500ml', 'Bebidas Alcoólicas', 'IPA', 14.99, uuid());\n",
        "INSERT INTO dim_product (product_id, product_name, product_description, product_category, brand, price, supplier_id) VALUES (uuid(), 'Iogurte Natural', 'Iogurte Natural Integral 500g', 'Laticínios', 'Integral', 3.99, uuid());\n",
        "INSERT INTO dim_product (product_id, product_name, product_description, product_category, brand, price, supplier_id) VALUES (uuid(), 'Queijo Minas Frescal', 'Queijo Minas Frescal 300g', 'Laticínios', 'Frescal', 9.99, uuid());\n",
        "INSERT INTO dim_product (product_id, product_name, product_description, product_category, brand, price, supplier_id) VALUES (uuid(), 'Salmão Fresco', 'Filé de Salmão Fresco 200g', 'Peixes e Frutos do Mar', 'Fresco', 22.99, uuid());\n",
        "INSERT INTO dim_product (product_id, product_name, product_description, product_category, brand, price, supplier_id) VALUES (uuid(), 'Pão de Forma Integral', 'Pão de Forma Integral 500g', 'Padaria', 'Integral', 5.49, uuid());\n"
      ],
      "metadata": {
        "colab": {
          "base_uri": "https://localhost:8080/"
        },
        "id": "uC4tpZAKsqwB",
        "outputId": "04f33bb7-8072-4d15-9018-f77203a1e24e"
      },
      "execution_count": null,
      "outputs": [
        {
          "output_type": "stream",
          "name": "stdout",
          "text": [
            "Writing insert_dim_product.cql\n"
          ]
        }
      ]
    },
    {
      "cell_type": "code",
      "source": [
        "# Ler o conteúdo do arquivo .cql\n",
        "cql_file_path = '/content/insert_dim_product.cql'\n",
        "cql_commands = read_cql_file(cql_file_path)\n",
        "# Executar os comandos CQL\n",
        "for command in cql_commands.split(';'):\n",
        "    if command.strip():\n",
        "        session.execute(command.strip())"
      ],
      "metadata": {
        "id": "YGUe2ghQsuy9"
      },
      "execution_count": null,
      "outputs": []
    },
    {
      "cell_type": "code",
      "source": [
        "%%writefile insert_dim_location.cql\n",
        "\n",
        "INSERT INTO dim_location (location_id, location_name, location_address, location_city, location_state, location_country) VALUES (uuid(), 'Armazém A', 'Rua das Flores, 123', 'São Paulo', 'SP', 'Brasil');\n",
        "INSERT INTO dim_location (location_id, location_name, location_address, location_city, location_state, location_country) VALUES (uuid(), 'Loja Central', 'Avenida das Palmeiras, 456', 'Rio de Janeiro', 'RJ', 'Brasil');\n",
        "INSERT INTO dim_location (location_id, location_name, location_address, location_city, location_state, location_country) VALUES (uuid(), 'Filial Norte', 'Rua das Oliveiras, 789', 'Fortaleza', 'CE', 'Brasil');\n",
        "INSERT INTO dim_location (location_id, location_name, location_address, location_city, location_state, location_country) VALUES (uuid(), 'Depósito Sul', 'Avenida dos Coqueiros, 321', 'Florianópolis', 'SC', 'Brasil');\n",
        "INSERT INTO dim_location (location_id, location_name, location_address, location_city, location_state, location_country) VALUES (uuid(), 'Armazém B', 'Rua das Acácias, 567', 'Salvador', 'BA', 'Brasil');\n",
        "INSERT INTO dim_location (location_id, location_name, location_address, location_city, location_state, location_country) VALUES (uuid(), 'Loja Centro-Oeste', 'Avenida dos Ipês, 890', 'Brasília', 'DF', 'Brasil');\n",
        "INSERT INTO dim_location (location_id, location_name, location_address, location_city, location_state, location_country) VALUES (uuid(), 'Centro de Distribuição', 'Rua das Violetas, 234', 'Curitiba', 'PR', 'Brasil');\n",
        "INSERT INTO dim_location (location_id, location_name, location_address, location_city, location_state, location_country) VALUES (uuid(), 'Matriz', 'Avenida das Magnólias, 567', 'Belém', 'PA', 'Brasil');\n",
        "INSERT INTO dim_location (location_id, location_name, location_address, location_city, location_state, location_country) VALUES (uuid(), 'Depósito Leste', 'Rua das Orquídeas, 890', 'Recife', 'PE', 'Brasil');\n",
        "INSERT INTO dim_location (location_id, location_name, location_address, location_city, location_state, location_country) VALUES (uuid(), 'Armazém C', 'Avenida das Begônias, 123', 'Porto Alegre', 'RS', 'Brasil');\n",
        "INSERT INTO dim_location (location_id, location_name, location_address, location_city, location_state, location_country) VALUES (uuid(), 'Loja Sul', 'Rua dos Girassóis, 456', 'Porto Velho', 'RO', 'Brasil');\n",
        "INSERT INTO dim_location (location_id, location_name, location_address, location_city, location_state, location_country) VALUES (uuid(), 'Armazém D', 'Avenida das Hortênsias, 789', 'Manaus', 'AM', 'Brasil');\n",
        "INSERT INTO dim_location (location_id, location_name, location_address, location_city, location_state, location_country) VALUES (uuid(), 'Loja Norte', 'Rua dos Jasmins, 321', 'João Pessoa', 'PB', 'Brasil');\n",
        "INSERT INTO dim_location (location_id, location_name, location_address, location_city, location_state, location_country) VALUES (uuid(), 'Filial Oeste', 'Avenida das Tulipas, 567', 'Maceió', 'AL', 'Brasil');\n",
        "INSERT INTO dim_location (location_id, location_name, location_address, location_city, location_state, location_country) VALUES (uuid(), 'Depósito Central', 'Rua das Margaridas, 890', 'Natal', 'RN', 'Brasil');\n",
        "INSERT INTO dim_location (location_id, location_name, location_address, location_city, location_state, location_country) VALUES (uuid(), 'Loja Leste', 'Avenida das Rosas, 234', 'Vitória', 'ES', 'Brasil');\n",
        "INSERT INTO dim_location (location_id, location_name, location_address, location_city, location_state, location_country) VALUES (uuid(), 'Armazém E', 'Rua dos Lírios, 567', 'Cuiabá', 'MT', 'Brasil');\n",
        "INSERT INTO dim_location (location_id, location_name, location_address, location_city, location_state, location_country) VALUES (uuid(), 'Centro de Distribuição Norte', 'Avenida das Dálias, 890', 'Goiânia', 'GO', 'Brasil');\n",
        "INSERT INTO dim_location (location_id, location_name, location_address, location_city, location_state, location_country) VALUES (uuid(), 'Filial Centro', 'Rua das Papoulas, 123', 'Campo Grande', 'MS', 'Brasil');\n",
        "INSERT INTO dim_location (location_id, location_name, location_address, location_city, location_state, location_country) VALUES (uuid(), 'Depósito Oeste', 'Avenida das Gardênias, 456', 'São Luís', 'MA', 'Brasil');\n",
        "\n"
      ],
      "metadata": {
        "colab": {
          "base_uri": "https://localhost:8080/"
        },
        "id": "IAYpn9bhvfcM",
        "outputId": "8f06eddc-10cb-4aaa-cbd6-c86406d65fd1"
      },
      "execution_count": null,
      "outputs": [
        {
          "output_type": "stream",
          "name": "stdout",
          "text": [
            "Writing insert_dim_location.cql\n"
          ]
        }
      ]
    },
    {
      "cell_type": "code",
      "source": [
        "# Ler o conteúdo do arquivo .cql\n",
        "cql_file_path = '/content/insert_dim_location.cql'\n",
        "cql_commands = read_cql_file(cql_file_path)\n",
        "# Executar os comandos CQL\n",
        "for command in cql_commands.split(';'):\n",
        "    if command.strip():\n",
        "        session.execute(command.strip())"
      ],
      "metadata": {
        "id": "Su01xGEYvwUQ"
      },
      "execution_count": null,
      "outputs": []
    },
    {
      "cell_type": "code",
      "source": [
        "%%writefile insert_dim_supplier.cql\n",
        "\n",
        "INSERT INTO dim_supplier (supplier_id, supplier_name, supplier_contact_name, supplier_phone, supplier_email, supplier_address) VALUES (uuid(), 'Fornecedor A', 'João da Silva', '+55 11 98765-4321', 'joao.silva@fornecedor.com', 'Rua das Flores, 123, São Paulo, SP');\n",
        "INSERT INTO dim_supplier (supplier_id, supplier_name, supplier_contact_name, supplier_phone, supplier_email, supplier_address) VALUES (uuid(), 'Fornecedor B', 'Maria Oliveira', '+55 21 98765-8765', 'maria.oliveira@fornecedor.com', 'Avenida das Palmeiras, 456, Rio de Janeiro, RJ');\n",
        "INSERT INTO dim_supplier (supplier_id, supplier_name, supplier_contact_name, supplier_phone, supplier_email, supplier_address) VALUES (uuid(), 'Fornecedor C', 'Pedro Santos', '+55 85 98765-9988', 'pedro.santos@fornecedor.com', 'Rua das Oliveiras, 789, Fortaleza, CE');\n",
        "INSERT INTO dim_supplier (supplier_id, supplier_name, supplier_contact_name, supplier_phone, supplier_email, supplier_address) VALUES (uuid(), 'Fornecedor D', 'Ana Souza', '+55 48 98765-3322', 'ana.souza@fornecedor.com', 'Avenida dos Coqueiros, 321, Florianópolis, SC');\n",
        "INSERT INTO dim_supplier (supplier_id, supplier_name, supplier_contact_name, supplier_phone, supplier_email, supplier_address) VALUES (uuid(), 'Fornecedor E', 'Carlos Lima', '+55 71 98765-4455', 'carlos.lima@fornecedor.com', 'Rua das Acácias, 567, Salvador, BA');\n",
        "INSERT INTO dim_supplier (supplier_id, supplier_name, supplier_contact_name, supplier_phone, supplier_email, supplier_address) VALUES (uuid(), 'Fornecedor F', 'Mariana Costa', '+55 61 98765-7788', 'mariana.costa@fornecedor.com', 'Avenida dos Ipês, 890, Brasília, DF');\n",
        "INSERT INTO dim_supplier (supplier_id, supplier_name, supplier_contact_name, supplier_phone, supplier_email, supplier_address) VALUES (uuid(), 'Fornecedor G', 'Rafaela Pereira', '+55 41 98765-1122', 'rafaela.pereira@fornecedor.com', 'Rua das Violetas, 234, Curitiba, PR');\n",
        "INSERT INTO dim_supplier (supplier_id, supplier_name, supplier_contact_name, supplier_phone, supplier_email, supplier_address) VALUES (uuid(), 'Fornecedor H', 'Luiz Gonzaga', '+55 91 98765-6677', 'luiz.gonzaga@fornecedor.com', 'Avenida das Magnólias, 567, Belém, PA');\n",
        "INSERT INTO dim_supplier (supplier_id, supplier_name, supplier_contact_name, supplier_phone, supplier_email, supplier_address) VALUES (uuid(), 'Fornecedor I', 'Patrícia Silva', '+55 81 98765-8899', 'patricia.silva@fornecedor.com', 'Rua das Orquídeas, 890, Recife, PE');\n",
        "INSERT INTO dim_supplier (supplier_id, supplier_name, supplier_contact_name, supplier_phone, supplier_email, supplier_address) VALUES (uuid(), 'Fornecedor J', 'Roberto Oliveira', '+55 51 98765-2233', 'roberto.oliveira@fornecedor.com', 'Avenida das Begônias, 123, Porto Alegre, RS');\n",
        "INSERT INTO dim_supplier (supplier_id, supplier_name, supplier_contact_name, supplier_phone, supplier_email, supplier_address) VALUES (uuid(), 'Fornecedor K', 'Fernando Alves', '+55 65 98765-5544', 'fernando.alves@fornecedor.com', 'Rua dos Girassóis, 456, Cuiabá, MT');\n",
        "INSERT INTO dim_supplier (supplier_id, supplier_name, supplier_contact_name, supplier_phone, supplier_email, supplier_address) VALUES (uuid(), 'Fornecedor L', 'Gabriela Santos', '+55 98 98765-1123', 'gabriela.santos@fornecedor.com', 'Avenida das Hortênsias, 789, São Luís, MA');\n",
        "INSERT INTO dim_supplier (supplier_id, supplier_name, supplier_contact_name, supplier_phone, supplier_email, supplier_address) VALUES (uuid(), 'Fornecedor M', 'Ricardo Mendes', '+55 83 98765-4456', 'ricardo.mendes@fornecedor.com', 'Rua dos Jasmins, 321, João Pessoa, PB');\n",
        "INSERT INTO dim_supplier (supplier_id, supplier_name, supplier_contact_name, supplier_phone, supplier_email, supplier_address) VALUES (uuid(), 'Fornecedor N', 'Vanessa Martins', '+55 62 98765-7789', 'vanessa.martins@fornecedor.com', 'Avenida das Tulipas, 567, Goiânia, GO');\n",
        "INSERT INTO dim_supplier (supplier_id, supplier_name, supplier_contact_name, supplier_phone, supplier_email, supplier_address) VALUES (uuid(), 'Fornecedor O', 'Marcelo Rocha', '+55 82 98765-2234', 'marcelo.rocha@fornecedor.com', 'Rua das Margaridas, 890, Maceió, AL');\n",
        "INSERT INTO dim_supplier (supplier_id, supplier_name, supplier_contact_name, supplier_phone, supplier_email, supplier_address) VALUES (uuid(), 'Fornecedor P', 'Daniela Souza', '+55 84 98765-5567', 'daniela.souza@fornecedor.com', 'Avenida das Rosas, 234, Natal, RN');\n",
        "INSERT INTO dim_supplier (supplier_id, supplier_name, supplier_contact_name, supplier_phone, supplier_email, supplier_address) VALUES (uuid(), 'Fornecedor Q', 'Carlos Pereira', '+55 27 98765-8890', 'carlos.pereira@fornecedor.com', 'Rua dos Lírios, 567, Vitória, ES');\n",
        "INSERT INTO dim_supplier (supplier_id, supplier_name, supplier_contact_name, supplier_phone, supplier_email, supplier_address) VALUES (uuid(), 'Fornecedor R', 'Juliana Lima', '+55 92 98765-3344', 'juliana.lima@fornecedor.com', 'Avenida das Dálias, 890, Manaus, AM');\n",
        "INSERT INTO dim_supplier (supplier_id, supplier_name, supplier_contact_name, supplier_phone, supplier_email, supplier_address) VALUES (uuid(), 'Fornecedor S', 'Leonardo Oliveira', '+55 69 98765-6678', 'leonardo.oliveira@fornecedor.com', 'Rua das Papoulas, 123, Porto Velho, RO');\n",
        "INSERT INTO dim_supplier (supplier_id, supplier_name, supplier_contact_name, supplier_phone, supplier_email, supplier_address) VALUES (uuid(), 'Fornecedor T', 'Isabela Costa', '+55 63 98765-1124', 'isabela.costa@fornecedor.com', 'Avenida das Gardênias, 456, Palmas, TO');\n"
      ],
      "metadata": {
        "colab": {
          "base_uri": "https://localhost:8080/"
        },
        "id": "gjMEcH5XwATY",
        "outputId": "ad00b941-1058-4b78-bc57-85e26b17ec2f"
      },
      "execution_count": null,
      "outputs": [
        {
          "output_type": "stream",
          "name": "stdout",
          "text": [
            "Writing insert_dim_supplier.cql\n"
          ]
        }
      ]
    },
    {
      "cell_type": "code",
      "source": [
        "# Ler o conteúdo do arquivo .cql\n",
        "cql_file_path = '/content/insert_dim_supplier.cql'\n",
        "cql_commands = read_cql_file(cql_file_path)\n",
        "# Executar os comandos CQL\n",
        "for command in cql_commands.split(';'):\n",
        "    if command.strip():\n",
        "        session.execute(command.strip())"
      ],
      "metadata": {
        "id": "pFr6iC3iwB6g"
      },
      "execution_count": null,
      "outputs": []
    },
    {
      "cell_type": "code",
      "source": [
        "%%writefile insert_dim_time.cql\n",
        "\n",
        "INSERT INTO dim_time (time_id, date, day, month, quarter, year, day_of_week, is_weekend) VALUES (uuid(), '2023-01-01', 1, 1, 1, 2023, 'Sunday', true);\n",
        "INSERT INTO dim_time (time_id, date, day, month, quarter, year, day_of_week, is_weekend) VALUES (uuid(), '2023-02-15', 15, 2, 1, 2023, 'Wednesday', false);\n",
        "INSERT INTO dim_time (time_id, date, day, month, quarter, year, day_of_week, is_weekend) VALUES (uuid(), '2023-03-30', 30, 3, 1, 2023, 'Thursday', false);\n",
        "INSERT INTO dim_time (time_id, date, day, month, quarter, year, day_of_week, is_weekend) VALUES (uuid(), '2023-04-20', 20, 4, 2, 2023, 'Thursday', false);\n",
        "INSERT INTO dim_time (time_id, date, day, month, quarter, year, day_of_week, is_weekend) VALUES (uuid(), '2023-05-05', 5, 5, 2, 2023, 'Friday', false);\n",
        "INSERT INTO dim_time (time_id, date, day, month, quarter, year, day_of_week, is_weekend) VALUES (uuid(), '2023-06-18', 18, 6, 2, 2023, 'Sunday', true);\n",
        "INSERT INTO dim_time (time_id, date, day, month, quarter, year, day_of_week, is_weekend) VALUES (uuid(), '2023-07-04', 4, 7, 3, 2023, 'Tuesday', false);\n",
        "INSERT INTO dim_time (time_id, date, day, month, quarter, year, day_of_week, is_weekend) VALUES (uuid(), '2023-08-10', 10, 8, 3, 2023, 'Thursday', false);\n",
        "INSERT INTO dim_time (time_id, date, day, month, quarter, year, day_of_week, is_weekend) VALUES (uuid(), '2023-09-22', 22, 9, 3, 2023, 'Friday', false);\n",
        "INSERT INTO dim_time (time_id, date, day, month, quarter, year, day_of_week, is_weekend) VALUES (uuid(), '2023-10-15', 15, 10, 4, 2023, 'Sunday', true);\n",
        "INSERT INTO dim_time (time_id, date, day, month, quarter, year, day_of_week, is_weekend) VALUES (uuid(), '2023-11-02', 2, 11, 4, 2023, 'Thursday', false);\n",
        "INSERT INTO dim_time (time_id, date, day, month, quarter, year, day_of_week, is_weekend) VALUES (uuid(), '2023-12-25', 25, 12, 4, 2023, 'Monday', true);\n",
        "INSERT INTO dim_time (time_id, date, day, month, quarter, year, day_of_week, is_weekend) VALUES (uuid(), '2023-01-14', 14, 1, 1, 2023, 'Saturday', true);\n",
        "INSERT INTO dim_time (time_id, date, day, month, quarter, year, day_of_week, is_weekend) VALUES (uuid(), '2023-02-20', 20, 2, 1, 2023, 'Monday', false);\n",
        "INSERT INTO dim_time (time_id, date, day, month, quarter, year, day_of_week, is_weekend) VALUES (uuid(), '2023-03-10', 10, 3, 1, 2023, 'Friday', false);\n",
        "INSERT INTO dim_time (time_id, date, day, month, quarter, year, day_of_week, is_weekend) VALUES (uuid(), '2023-04-01', 1, 4, 2, 2023, 'Saturday', true);\n",
        "INSERT INTO dim_time (time_id, date, day, month, quarter, year, day_of_week, is_weekend) VALUES (uuid(), '2023-05-28', 28, 5, 2, 2023, 'Sunday', true);\n",
        "INSERT INTO dim_time (time_id, date, day, month, quarter, year, day_of_week, is_weekend) VALUES (uuid(), '2023-06-15', 15, 6, 2, 2023, 'Thursday', false);\n",
        "INSERT INTO dim_time (time_id, date, day, month, quarter, year, day_of_week, is_weekend) VALUES (uuid(), '2023-07-19', 19, 7, 3, 2023, 'Wednesday', false);\n",
        "INSERT INTO dim_time (time_id, date, day, month, quarter, year, day_of_week, is_weekend) VALUES (uuid(), '2023-08-25', 25, 8, 3, 2023, 'Friday', false);\n"
      ],
      "metadata": {
        "colab": {
          "base_uri": "https://localhost:8080/"
        },
        "id": "IXphca5XwTip",
        "outputId": "d7bc53d4-3d36-4ced-c9c5-9bdab2a528a9"
      },
      "execution_count": null,
      "outputs": [
        {
          "output_type": "stream",
          "name": "stdout",
          "text": [
            "Writing insert_dim_time.cql\n"
          ]
        }
      ]
    },
    {
      "cell_type": "code",
      "source": [
        "# Ler o conteúdo do arquivo .cql\n",
        "cql_file_path = '/content/insert_dim_time.cql'\n",
        "cql_commands = read_cql_file(cql_file_path)\n",
        "# Executar os comandos CQL\n",
        "for command in cql_commands.split(';'):\n",
        "    if command.strip():\n",
        "        session.execute(command.strip())"
      ],
      "metadata": {
        "id": "sv58xFxPwVgh"
      },
      "execution_count": null,
      "outputs": []
    },
    {
      "cell_type": "code",
      "source": [
        "%%writefile insert_dim_customer.cql\n",
        "\n",
        "INSERT INTO dim_customer (customer_id, customer_name, customer_email, customer_phone, customer_address, customer_city, customer_state, customer_country) VALUES (uuid(), 'João da Silva', 'joao.silva@example.com', '+55 11 98765-4321', 'Rua das Flores, 123', 'São Paulo', 'SP', 'Brasil');\n",
        "INSERT INTO dim_customer (customer_id, customer_name, customer_email, customer_phone, customer_address, customer_city, customer_state, customer_country) VALUES (uuid(), 'Maria Oliveira', 'maria.oliveira@example.com', '+55 21 98765-8765', 'Avenida das Palmeiras, 456', 'Rio de Janeiro', 'RJ', 'Brasil');\n",
        "INSERT INTO dim_customer (customer_id, customer_name, customer_email, customer_phone, customer_address, customer_city, customer_state, customer_country) VALUES (uuid(), 'Pedro Santos', 'pedro.santos@example.com', '+55 85 98765-9988', 'Rua das Oliveiras, 789', 'Fortaleza', 'CE', 'Brasil');\n",
        "INSERT INTO dim_customer (customer_id, customer_name, customer_email, customer_phone, customer_address, customer_city, customer_state, customer_country) VALUES (uuid(), 'Ana Souza', 'ana.souza@example.com', '+55 48 98765-3322', 'Avenida dos Coqueiros, 321', 'Florianópolis', 'SC', 'Brasil');\n",
        "INSERT INTO dim_customer (customer_id, customer_name, customer_email, customer_phone, customer_address, customer_city, customer_state, customer_country) VALUES (uuid(), 'Carlos Lima', 'carlos.lima@example.com', '+55 71 98765-4455', 'Rua das Acácias, 567', 'Salvador', 'BA', 'Brasil');\n",
        "INSERT INTO dim_customer (customer_id, customer_name, customer_email, customer_phone, customer_address, customer_city, customer_state, customer_country) VALUES (uuid(), 'Mariana Costa', 'mariana.costa@example.com', '+55 61 98765-7788', 'Avenida dos Ipês, 890', 'Brasília', 'DF', 'Brasil');\n",
        "INSERT INTO dim_customer (customer_id, customer_name, customer_email, customer_phone, customer_address, customer_city, customer_state, customer_country) VALUES (uuid(), 'Rafaela Pereira', 'rafaela.pereira@example.com', '+55 41 98765-1122', 'Rua das Violetas, 234', 'Curitiba', 'PR', 'Brasil');\n",
        "INSERT INTO dim_customer (customer_id, customer_name, customer_email, customer_phone, customer_address, customer_city, customer_state, customer_country) VALUES (uuid(), 'Luiz Gonzaga', 'luiz.gonzaga@example.com', '+55 91 98765-6677', 'Avenida das Magnólias, 567', 'Belém', 'PA', 'Brasil');\n",
        "INSERT INTO dim_customer (customer_id, customer_name, customer_email, customer_phone, customer_address, customer_city, customer_state, customer_country) VALUES (uuid(), 'Patrícia Silva', 'patricia.silva@example.com', '+55 81 98765-8899', 'Rua das Orquídeas, 890', 'Recife', 'PE', 'Brasil');\n",
        "INSERT INTO dim_customer (customer_id, customer_name, customer_email, customer_phone, customer_address, customer_city, customer_state, customer_country) VALUES (uuid(), 'Roberto Oliveira', 'roberto.oliveira@example.com', '+55 51 98765-2233', 'Avenida das Begônias, 123', 'Porto Alegre', 'RS', 'Brasil');\n",
        "INSERT INTO dim_customer (customer_id, customer_name, customer_email, customer_phone, customer_address, customer_city, customer_state, customer_country) VALUES (uuid(), 'Fernanda Santos', 'fernanda.santos@example.com', '+55 11 98765-1122', 'Rua das Rosas, 456', 'São Paulo', 'SP', 'Brasil');\n",
        "INSERT INTO dim_customer (customer_id, customer_name, customer_email, customer_phone, customer_address, customer_city, customer_state, customer_country) VALUES (uuid(), 'Gustavo Lima', 'gustavo.lima@example.com', '+55 21 98765-3344', 'Avenida dos Jasmim, 789', 'Rio de Janeiro', 'RJ', 'Brasil');\n",
        "INSERT INTO dim_customer (customer_id, customer_name, customer_email, customer_phone, customer_address, customer_city, customer_state, customer_country) VALUES (uuid(), 'Carla Silva', 'carla.silva@example.com', '+55 85 98765-5566', 'Rua das Orquídeas, 123', 'Fortaleza', 'CE', 'Brasil');\n",
        "INSERT INTO dim_customer (customer_id, customer_name, customer_email, customer_phone, customer_address, customer_city, customer_state, customer_country) VALUES (uuid(), 'Lucas Oliveira', 'lucas.oliveira@example.com', '+55 48 98765-7788', 'Avenida dos Girassóis, 456', 'Florianópolis', 'SC', 'Brasil');\n",
        "INSERT INTO dim_customer (customer_id, customer_name, customer_email, customer_phone, customer_address, customer_city, customer_state, customer_country) VALUES (uuid(), 'Camila Santos', 'camila.santos@example.com', '+55 71 98765-9900', 'Rua das Bromélias, 789', 'Salvador', 'BA', 'Brasil');\n",
        "INSERT INTO dim_customer (customer_id, customer_name, customer_email, customer_phone, customer_address, customer_city, customer_state, customer_country) VALUES (uuid(), 'Paulo Costa', 'paulo.costa@example.com', '+55 61 98765-1122', 'Avenida dos Crisântemos, 234', 'Brasília', 'DF', 'Brasil');\n",
        "INSERT INTO dim_customer (customer_id, customer_name, customer_email, customer_phone, customer_address, customer_city, customer_state, customer_country) VALUES (uuid(), 'Juliana Pereira', 'juliana.pereira@example.com', '+55 41 98765-3344', 'Rua das Margaridas, 567', 'Curitiba', 'PR', 'Brasil');\n",
        "INSERT INTO dim_customer (customer_id, customer_name, customer_email, customer_phone, customer_address, customer_city, customer_state, customer_country) VALUES (uuid(), 'Marcos Silva', 'marcos.silva@example.com', '+55 91 98765-5566', 'Avenida das Orquídeas, 123', 'Belém', 'PA', 'Brasil');\n",
        "INSERT INTO dim_customer (customer_id, customer_name, customer_email, customer_phone, customer_address, customer_city, customer_state, customer_country) VALUES (uuid(), 'Vanessa Oliveira', 'vanessa.oliveira@example.com', '+55 81 98765-7788', 'Rua dos Lírios, 456', 'Recife', 'PE', 'Brasil');\n",
        "INSERT INTO dim_customer (customer_id, customer_name, customer_email, customer_phone, customer_address, customer_city, customer_state, customer_country) VALUES (uuid(), 'Rodrigo Souza', 'rodrigo.souza@example.com', '+55 51 98765-9900', 'Avenida das Violetas, 789', 'Porto Alegre', 'RS', 'Brasil');\n"
      ],
      "metadata": {
        "colab": {
          "base_uri": "https://localhost:8080/"
        },
        "id": "0DtaOgmpw3cQ",
        "outputId": "dedb4e86-dc0f-49b8-ec23-194f17def855"
      },
      "execution_count": null,
      "outputs": [
        {
          "output_type": "stream",
          "name": "stdout",
          "text": [
            "Writing insert_dim_customer.cql\n"
          ]
        }
      ]
    },
    {
      "cell_type": "code",
      "source": [
        "# Ler o conteúdo do arquivo .cql\n",
        "cql_file_path = '/content/insert_dim_customer.cql'\n",
        "cql_commands = read_cql_file(cql_file_path)\n",
        "# Executar os comandos CQL\n",
        "for command in cql_commands.split(';'):\n",
        "    if command.strip():\n",
        "        session.execute(command.strip())"
      ],
      "metadata": {
        "id": "AppEpUvtw4yo"
      },
      "execution_count": null,
      "outputs": []
    },
    {
      "cell_type": "code",
      "source": [
        "%%writefile insert_dim_product_category.cql\n",
        "\n",
        "INSERT INTO dim_product_category (product_category_id, product_category_name, product_category_description) VALUES (uuid(), 'Frutas', 'Categoria de produtos relacionados a frutas');\n",
        "INSERT INTO dim_product_category (product_category_id, product_category_name, product_category_description) VALUES (uuid(), 'Grãos', 'Categoria de produtos relacionados a grãos e cereais');\n",
        "INSERT INTO dim_product_category (product_category_id, product_category_name, product_category_description) VALUES (uuid(), 'Laticínios', 'Categoria de produtos relacionados a laticínios e derivados do leite');\n",
        "INSERT INTO dim_product_category (product_category_id, product_category_name, product_category_description) VALUES (uuid(), 'Bebidas', 'Categoria de produtos relacionados a bebidas');\n",
        "INSERT INTO dim_product_category (product_category_id, product_category_name, product_category_description) VALUES (uuid(), 'Condimentos', 'Categoria de produtos relacionados a condimentos e temperos');\n",
        "INSERT INTO dim_product_category (product_category_id, product_category_name, product_category_description) VALUES (uuid(), 'Enlatados', 'Categoria de produtos enlatados e conservas');\n",
        "INSERT INTO dim_product_category (product_category_id, product_category_name, product_category_description) VALUES (uuid(), 'Saudáveis', 'Categoria de produtos saudáveis e naturais');\n",
        "INSERT INTO dim_product_category (product_category_id, product_category_name, product_category_description) VALUES (uuid(), 'Doces', 'Categoria de produtos relacionados a doces e chocolates');\n",
        "INSERT INTO dim_product_category (product_category_id, product_category_name, product_category_description) VALUES (uuid(), 'Molhos', 'Categoria de produtos relacionados a molhos e condimentos');\n",
        "INSERT INTO dim_product_category (product_category_id, product_category_name, product_category_description) VALUES (uuid(), 'Higiene', 'Categoria de produtos relacionados a produtos de higiene pessoal e limpeza');\n",
        "INSERT INTO dim_product_category (product_category_id, product_category_name, product_category_description) VALUES (uuid(), 'Farinhas', 'Categoria de produtos relacionados a farinhas e derivados');\n",
        "INSERT INTO dim_product_category (product_category_id, product_category_name, product_category_description) VALUES (uuid(), 'Carnes', 'Categoria de produtos relacionados a carnes e embutidos');\n",
        "INSERT INTO dim_product_category (product_category_id, product_category_name, product_category_description) VALUES (uuid(), 'Congelados', 'Categoria de produtos congelados e semi-preparados');\n",
        "INSERT INTO dim_product_category (product_category_id, product_category_name, product_category_description) VALUES (uuid(), 'Padaria', 'Categoria de produtos relacionados a padaria e confeitaria');\n",
        "INSERT INTO dim_product_category (product_category_id, product_category_name, product_category_description) VALUES (uuid(), 'Vegetais', 'Categoria de produtos relacionados a vegetais e legumes');\n",
        "INSERT INTO dim_product_category (product_category_id, product_category_name, product_category_description) VALUES (uuid(), 'Petiscos', 'Categoria de produtos relacionados a petiscos e snacks');\n",
        "INSERT INTO dim_product_category (product_category_id, product_category_name, product_category_description) VALUES (uuid(), 'Peixes', 'Categoria de produtos relacionados a peixes e frutos do mar');\n",
        "INSERT INTO dim_product_category (product_category_id, product_category_name, product_category_description) VALUES (uuid(), 'Infantil', 'Categoria de produtos relacionados a alimentação infantil');\n",
        "INSERT INTO dim_product_category (product_category_id, product_category_name, product_category_description) VALUES (uuid(), 'Massas', 'Categoria de produtos relacionados a massas e pastas');\n",
        "INSERT INTO dim_product_category (product_category_id, product_category_name, product_category_description) VALUES (uuid(), 'Especiarias', 'Categoria de produtos relacionados a especiarias e temperos especiais');\n"
      ],
      "metadata": {
        "colab": {
          "base_uri": "https://localhost:8080/"
        },
        "id": "5i0wfIqf2fpQ",
        "outputId": "33b96d57-361c-47d3-8a9f-93da4c60492f"
      },
      "execution_count": null,
      "outputs": [
        {
          "output_type": "stream",
          "name": "stdout",
          "text": [
            "Writing insert_dim_product_category.cql\n"
          ]
        }
      ]
    },
    {
      "cell_type": "code",
      "source": [
        "# Ler o conteúdo do arquivo .cql\n",
        "cql_file_path = '/content/insert_dim_product_category.cql'\n",
        "cql_commands = read_cql_file(cql_file_path)\n",
        "# Executar os comandos CQL\n",
        "for command in cql_commands.split(';'):\n",
        "    if command.strip():\n",
        "        session.execute(command.strip())"
      ],
      "metadata": {
        "id": "N_nKtZIm2gwJ"
      },
      "execution_count": null,
      "outputs": []
    },
    {
      "cell_type": "markdown",
      "source": [
        "### Insert na tabela Fato"
      ],
      "metadata": {
        "id": "1_bJnrsQ3ang"
      }
    },
    {
      "cell_type": "code",
      "source": [
        "linhas=session.execute(\"SElECT * FROM dim_product;\")\n",
        "dim_product_ids=[]\n",
        "for linha in linhas:\n",
        "    dim_product_ids.append(linha.product_id)\n",
        "    print(linha.product_name)"
      ],
      "metadata": {
        "colab": {
          "base_uri": "https://localhost:8080/"
        },
        "id": "EbuPuuZR3c-M",
        "outputId": "3feebc5a-db82-4261-d43f-63fba9013975"
      },
      "execution_count": null,
      "outputs": [
        {
          "output_type": "stream",
          "name": "stdout",
          "text": [
            "Azeite de Oliva Extra Virgem\n",
            "Papel Higiênico\n",
            "Pão de Forma Integral\n",
            "Sabonete Líquido\n",
            "Cerveja Artesanal IPA\n",
            "Café Torrado e Moído\n",
            "Salmão Fresco\n",
            "Feijão Preto\n",
            "Maçã Gala\n",
            "Molho de Tomate\n",
            "Vinho Tinto\n",
            "Detergente Líquido\n",
            "Leite Desnatado\n",
            "Atum em Lata\n",
            "Pasta de Amendoim\n",
            "Arroz Integral\n",
            "Chocolate Amargo 70%\n",
            "Queijo Minas Frescal\n",
            "Desinfetante\n",
            "Iogurte Natural\n"
          ]
        }
      ]
    },
    {
      "cell_type": "code",
      "source": [
        "linhas=session.execute(\"SElECT * FROM dim_location;\")\n",
        "dim_location_ids=[]\n",
        "for linha in linhas:\n",
        "    dim_location_ids.append(linha.location_id)\n",
        "    print(linha.location_name)"
      ],
      "metadata": {
        "colab": {
          "base_uri": "https://localhost:8080/"
        },
        "id": "clt6D9BnYa1W",
        "outputId": "bc602030-79c3-4cb5-b6b6-202ee417dcb4"
      },
      "execution_count": null,
      "outputs": [
        {
          "output_type": "stream",
          "name": "stdout",
          "text": [
            "Loja Norte\n",
            "Depósito Oeste\n",
            "Depósito Leste\n",
            "Depósito Sul\n",
            "Filial Centro\n",
            "Armazém C\n",
            "Loja Centro-Oeste\n",
            "Matriz\n",
            "Centro de Distribuição Norte\n",
            "Armazém A\n",
            "Loja Central\n",
            "Armazém B\n",
            "Depósito Central\n",
            "Filial Oeste\n",
            "Loja Sul\n",
            "Armazém E\n",
            "Loja Leste\n",
            "Filial Norte\n",
            "Centro de Distribuição\n",
            "Armazém D\n"
          ]
        }
      ]
    },
    {
      "cell_type": "code",
      "source": [
        "linhas=session.execute(\"SElECT * FROM dim_supplier;\")\n",
        "dim_supplier_ids=[]\n",
        "for linha in linhas:\n",
        "    dim_supplier_ids.append(linha.supplier_id)\n",
        "    print(linha.supplier_name)"
      ],
      "metadata": {
        "colab": {
          "base_uri": "https://localhost:8080/"
        },
        "id": "dIMuQ50BYukC",
        "outputId": "9fcf3f4c-06a4-4919-c904-b7e723557c44"
      },
      "execution_count": null,
      "outputs": [
        {
          "output_type": "stream",
          "name": "stdout",
          "text": [
            "Fornecedor P\n",
            "Fornecedor A\n",
            "Fornecedor G\n",
            "Fornecedor N\n",
            "Fornecedor T\n",
            "Fornecedor D\n",
            "Fornecedor E\n",
            "Fornecedor M\n",
            "Fornecedor K\n",
            "Fornecedor H\n",
            "Fornecedor Q\n",
            "Fornecedor S\n",
            "Fornecedor C\n",
            "Fornecedor R\n",
            "Fornecedor J\n",
            "Fornecedor B\n",
            "Fornecedor I\n",
            "Fornecedor F\n",
            "Fornecedor O\n",
            "Fornecedor L\n"
          ]
        }
      ]
    },
    {
      "cell_type": "code",
      "source": [
        "linhas=session.execute(\"SElECT * FROM dim_time;\")\n",
        "dim_time_ids=[]\n",
        "for linha in linhas:\n",
        "    dim_time_ids.append(linha.time_id)\n",
        "    print(linha.day_of_week)"
      ],
      "metadata": {
        "colab": {
          "base_uri": "https://localhost:8080/"
        },
        "id": "E2D_hiyRY88k",
        "outputId": "0e339c8a-869b-4695-8460-11952c964d10"
      },
      "execution_count": null,
      "outputs": [
        {
          "output_type": "stream",
          "name": "stdout",
          "text": [
            "Monday\n",
            "Friday\n",
            "Wednesday\n",
            "Thursday\n",
            "Friday\n",
            "Sunday\n",
            "Sunday\n",
            "Sunday\n",
            "Thursday\n",
            "Thursday\n",
            "Saturday\n",
            "Saturday\n",
            "Thursday\n",
            "Sunday\n",
            "Thursday\n",
            "Friday\n",
            "Monday\n",
            "Friday\n",
            "Wednesday\n",
            "Tuesday\n"
          ]
        }
      ]
    },
    {
      "cell_type": "code",
      "source": [
        "linhas=session.execute(\"SElECT * FROM dim_customer;\")\n",
        "dim_customer_ids=[]\n",
        "for linha in linhas:\n",
        "    dim_customer_ids.append(linha.customer_id)\n",
        "    print(linha.customer_name)"
      ],
      "metadata": {
        "colab": {
          "base_uri": "https://localhost:8080/"
        },
        "id": "c9PbN36oZJKa",
        "outputId": "169daa28-d1b9-445e-8492-e73dc0751764"
      },
      "execution_count": null,
      "outputs": [
        {
          "output_type": "stream",
          "name": "stdout",
          "text": [
            "Maria Oliveira\n",
            "Roberto Oliveira\n",
            "Marcos Silva\n",
            "Carlos Lima\n",
            "João da Silva\n",
            "Fernanda Santos\n",
            "Rodrigo Souza\n",
            "Paulo Costa\n",
            "Luiz Gonzaga\n",
            "Rafaela Pereira\n",
            "Pedro Santos\n",
            "Ana Souza\n",
            "Carla Silva\n",
            "Patrícia Silva\n",
            "Mariana Costa\n",
            "Gustavo Lima\n",
            "Lucas Oliveira\n",
            "Juliana Pereira\n",
            "Vanessa Oliveira\n",
            "Camila Santos\n"
          ]
        }
      ]
    },
    {
      "cell_type": "code",
      "source": [
        "linhas=session.execute(\"SElECT * FROM dim_product_category;\")\n",
        "dim_product_category_ids=[]\n",
        "for linha in linhas:\n",
        "    dim_product_category_ids.append(linha.product_category_id)\n",
        "    print(linha.product_category_name)"
      ],
      "metadata": {
        "colab": {
          "base_uri": "https://localhost:8080/"
        },
        "id": "M3uepqjkZVGZ",
        "outputId": "251057e2-b655-4121-99b9-090fa5f5424c"
      },
      "execution_count": null,
      "outputs": [
        {
          "output_type": "stream",
          "name": "stdout",
          "text": [
            "Enlatados\n",
            "Laticínios\n",
            "Petiscos\n",
            "Higiene\n",
            "Bebidas\n",
            "Peixes\n",
            "Especiarias\n",
            "Congelados\n",
            "Padaria\n",
            "Grãos\n",
            "Doces\n",
            "Condimentos\n",
            "Massas\n",
            "Molhos\n",
            "Frutas\n",
            "Farinhas\n",
            "Carnes\n",
            "Infantil\n",
            "Vegetais\n",
            "Saudáveis\n"
          ]
        }
      ]
    },
    {
      "cell_type": "code",
      "source": [
        "# Valores da tabela Fato\n",
        "\n",
        "movement_types = ['SAÍDA','ENTRADA','SAÍDA','ENTRADA','ENTRADA','SAÍDA','ENTRADA','SAÍDA','ENTRADA','SAÍDA','ENTRADA','ENTRADA','SAÍDA','ENTRADA','SAÍDA','ENTRADA','SAÍDA','ENTRADA','SAÍDA','ENTRADA']\n",
        "\n",
        "quantities = [10,20,15,30,25,12,18,22,16,20,25,100,50,200,30,150,80,120,40,180]\n",
        "\n",
        "unit_prices = [5.99,8.49,12.99,3.29,6.49,7.99,19.99,2.99,3.79,5.49,7.49,5.99,8.49,3.29,12.99,19.99,7.99,2.99,6.49,6.99]\n",
        "\n",
        "total_values = [59.90,169.80,194.85,98.70,162.25,95.88,359.82,65.78,60.64,109.80,187.25,599.00,424.50,658.00,389.70,2998.50,639.20,358.80,259.60,1258.20]"
      ],
      "metadata": {
        "id": "tImU_w6RZ_Qa"
      },
      "execution_count": null,
      "outputs": []
    },
    {
      "cell_type": "code",
      "source": [
        "# Insert tabela FATO\n",
        "\n",
        "for product_id, location_id, time_id, supplier_id, customer_id, product_category_id, movement_type, quantity, unit_price, total_value in zip(dim_product_ids, dim_location_ids, dim_time_ids, dim_supplier_ids, dim_customer_ids, dim_product_category_ids, movement_types, quantities, unit_prices, total_values):\n",
        "    # Converte valores em strings e numéricos conforme necessário\n",
        "    product_id_str = str(product_id)\n",
        "    location_id_str = str(location_id)\n",
        "    time_id_str = str(time_id)\n",
        "    supplier_id_str = str(supplier_id)\n",
        "    customer_id_str = str(customer_id)\n",
        "    product_category_id_str = str(product_category_id)\n",
        "    movement_type_str = str(movement_type)\n",
        "    quantity_val = int(quantity)\n",
        "    unit_price_val = float(unit_price)\n",
        "    total_value_val = float(total_value)\n",
        "\n",
        "    # Aqui você pode criar sua instrução de inserção usando os IDs das dimensões\n",
        "    insert_query = f\"\"\"\n",
        "    INSERT INTO fact_stock_movement (movement_id, product_id, location_id, time_id, supplier_id, customer_id, product_category_id, movement_type, quantity, unit_price, total_value)\n",
        "    VALUES (uuid(), {product_id_str}, {location_id_str}, {time_id_str}, {supplier_id_str}, {customer_id_str}, {product_category_id_str}, '{movement_type_str}', {quantity_val}, {unit_price_val}, {total_value_val});\n",
        "    \"\"\"\n",
        "\n",
        "    # Execute a instrução de inserção\n",
        "    session.execute(insert_query)\n"
      ],
      "metadata": {
        "id": "5yK53bdwcgDC"
      },
      "execution_count": null,
      "outputs": []
    },
    {
      "cell_type": "markdown",
      "source": [
        "###Consulta de verificação de dados"
      ],
      "metadata": {
        "id": "7y_1ZlwShVBM"
      }
    },
    {
      "cell_type": "code",
      "source": [
        "# Recuperar todos os dados das tabelas Dimensões\n",
        "\n",
        "# Recuperar dados da Dimensão Produto\n",
        "dim_product_data = session.execute(\"SELECT * FROM dim_product;\")\n",
        "print(\"Dados da tabela Dimensão Produto (dim_product):\")\n",
        "for row in dim_product_data:\n",
        "    print(row)\n",
        "\n",
        "# Recuperar dados da Dimensão Localização\n",
        "dim_location_data = session.execute(\"SELECT * FROM dim_location;\")\n",
        "print(\"\\nDados da tabela Dimensão Localização (dim_location):\")\n",
        "for row in dim_location_data:\n",
        "    print(row)\n",
        "\n",
        "# Recuperar dados da Dimensão Fornecedor\n",
        "dim_supplier_data = session.execute(\"SELECT * FROM dim_supplier;\")\n",
        "print(\"\\nDados da tabela Dimensão Fornecedor (dim_supplier):\")\n",
        "for row in dim_supplier_data:\n",
        "    print(row)\n",
        "\n",
        "# Recuperar dados da Dimensão Tempo\n",
        "dim_time_data = session.execute(\"SELECT * FROM dim_time;\")\n",
        "print(\"\\nDados da tabela Dimensão Tempo (dim_time):\")\n",
        "for row in dim_time_data:\n",
        "    print(row)\n",
        "\n",
        "# Recuperar dados da Dimensão Cliente\n",
        "dim_customer_data = session.execute(\"SELECT * FROM dim_customer;\")\n",
        "print(\"\\nDados da tabela Dimensão Cliente (dim_customer):\")\n",
        "for row in dim_customer_data:\n",
        "    print(row)\n",
        "\n",
        "# Recuperar dados da Dimensão Categoria de Produto\n",
        "dim_product_category_data = session.execute(\"SELECT * FROM dim_product_category;\")\n",
        "print(\"\\nDados da tabela Dimensão Categoria de Produto (dim_product_category):\")\n",
        "for row in dim_product_category_data:\n",
        "    print(row)\n",
        "\n",
        "# Recuperar dados da Tabela Fato Movimento de Estoque\n",
        "fact_stock_movement_data = session.execute(\"SELECT * FROM fact_stock_movement;\")\n",
        "print(\"\\nDados da tabela Fato (fact_stock_movement):\")\n",
        "for row in fact_stock_movement_data:\n",
        "    print(row)\n"
      ],
      "metadata": {
        "colab": {
          "base_uri": "https://localhost:8080/"
        },
        "id": "QWp4gZjPhX85",
        "outputId": "5d6287cd-b875-4eaf-bcde-03c0d8efb603"
      },
      "execution_count": null,
      "outputs": [
        {
          "output_type": "stream",
          "name": "stdout",
          "text": [
            "Dados da tabela Dimensão Produto (dim_product):\n",
            "Row(product_id=UUID('af5ece54-33a6-477b-8b60-43243fbe8339'), brand='Extra Virgem', price=Decimal('19.99'), product_category='Condimentos', product_description='Azeite de Oliva Extra Virgem 500ml', product_name='Azeite de Oliva Extra Virgem', supplier_id=UUID('42fc10cd-eaf3-4c28-8121-a9aa1076ad60'))\n",
            "Row(product_id=UUID('733c6186-fc1c-4f26-bc6e-768c943cc7fb'), brand='Folha Dupla', price=Decimal('6.99'), product_category='Higiene', product_description='Papel Higiênico Folha Dupla 4 rolos', product_name='Papel Higiênico', supplier_id=UUID('e50b0bff-3fa1-4c95-a01f-05e2ead4cbaa'))\n",
            "Row(product_id=UUID('6ca4049b-d57a-4d46-b4ea-89e5256d1f06'), brand='Integral', price=Decimal('5.49'), product_category='Padaria', product_description='Pão de Forma Integral 500g', product_name='Pão de Forma Integral', supplier_id=UUID('0f0c8e5c-f268-4c2a-8728-fb8be3f492ba'))\n",
            "Row(product_id=UUID('e2a3b136-6120-4bb1-acf9-3cf1b3fb6a0f'), brand='Suave', price=Decimal('4.49'), product_category='Higiene', product_description='Sabonete Líquido Suave 250ml', product_name='Sabonete Líquido', supplier_id=UUID('ba3f85f1-b84b-4584-bfff-2a09ff8fb727'))\n",
            "Row(product_id=UUID('02de204c-ffa0-488e-8adc-6bae3fdfd5e2'), brand='IPA', price=Decimal('14.99'), product_category='Bebidas Alcoólicas', product_description='Cerveja Artesanal India Pale Ale 500ml', product_name='Cerveja Artesanal IPA', supplier_id=UUID('8da9a1d9-e708-435d-ab17-0de40750e7f8'))\n",
            "Row(product_id=UUID('998bb081-3e7b-484e-b062-b8c7377c1302'), brand='Extra Forte', price=Decimal('12.99'), product_category='Bebidas', product_description='Café Torrado e Moído Extra Forte 250g', product_name='Café Torrado e Moído', supplier_id=UUID('e9097ded-7a5c-46b1-8369-d3884e10ff96'))\n",
            "Row(product_id=UUID('d698cc0d-a67d-479f-b44e-cce11a98a2ec'), brand='Fresco', price=Decimal('22.99'), product_category='Peixes e Frutos do Mar', product_description='Filé de Salmão Fresco 200g', product_name='Salmão Fresco', supplier_id=UUID('99072498-9a6f-40f1-b10d-4dbd93e6556b'))\n",
            "Row(product_id=UUID('36f433d7-b8e4-43b7-a564-d202bc88deb3'), brand='Premium', price=Decimal('5.99'), product_category='Grãos', product_description='Feijão Preto Premium 500g', product_name='Feijão Preto', supplier_id=UUID('6c5b28a9-5224-48a6-aaf8-cd08904000a3'))\n",
            "Row(product_id=UUID('9c843ad4-df78-447e-ad16-db8d20998c6f'), brand='Gala', price=Decimal('4.99'), product_category='Frutas', product_description='Maçã Gala fresca e suculenta', product_name='Maçã Gala', supplier_id=UUID('25831985-4073-465a-802b-7be214deedd3'))\n",
            "Row(product_id=UUID('5c826b67-93f8-4c39-bf57-11b5cfa37324'), brand='Tradicional', price=Decimal('2.99'), product_category='Molhos', product_description='Molho de Tomate Tradicional 340g', product_name='Molho de Tomate', supplier_id=UUID('3d7a2161-e727-40ff-8b93-44eeb9229896'))\n",
            "Row(product_id=UUID('7815071b-067d-4907-9737-3b127f6a2466'), brand='Seco', price=Decimal('29.99'), product_category='Bebidas Alcoólicas', product_description='Vinho Tinto Seco 750ml', product_name='Vinho Tinto', supplier_id=UUID('f7c4fbee-6c15-4c53-b453-1cf85d771b06'))\n",
            "Row(product_id=UUID('e75e58d8-ae7d-4bbb-8091-7116401fa44c'), brand='Limão', price=Decimal('3.79'), product_category='Limpeza', product_description='Detergente Líquido Limão 500ml', product_name='Detergente Líquido', supplier_id=UUID('85386538-85bf-4cd1-b675-2a6d306cd624'))\n",
            "Row(product_id=UUID('1e99d561-991f-4f0c-94b2-55cfa18f6db4'), brand='Desnatado', price=Decimal('3.29'), product_category='Laticínios', product_description='Leite Desnatado 1L', product_name='Leite Desnatado', supplier_id=UUID('76b17693-dbaa-4150-b447-d92622306acc'))\n",
            "Row(product_id=UUID('f7cae460-6043-4f14-83e8-b644d2357f92'), brand='Ao Natural', price=Decimal('6.49'), product_category='Enlatados', product_description='Atum em Lata ao Natural 170g', product_name='Atum em Lata', supplier_id=UUID('9482e6b2-ac45-4f7a-9e18-2f68dc36314d'))\n",
            "Row(product_id=UUID('f937b28f-d5de-4e45-b5f0-eb49cb67c1c6'), brand='Integral', price=Decimal('10.99'), product_category='Saudáveis', product_description='Pasta de Amendoim Integral 500g', product_name='Pasta de Amendoim', supplier_id=UUID('820b41cd-53a5-4463-93e4-77dc0a18d3ca'))\n",
            "Row(product_id=UUID('00f65f6c-28ad-4fd7-a43b-e630e395e5c8'), brand='Orgânico', price=Decimal('8.49'), product_category='Grãos', product_description='Arroz Integral Orgânico 1kg', product_name='Arroz Integral', supplier_id=UUID('a8969d6d-936c-46cc-b273-2b3583b331bf'))\n",
            "Row(product_id=UUID('dfb15b82-c5b9-4c53-9803-be61ea83e7d0'), brand='Amargo', price=Decimal('7.99'), product_category='Doces', product_description='Chocolate Amargo 70% Cacau 100g', product_name='Chocolate Amargo 70%', supplier_id=UUID('15d06a64-df36-4774-875c-e2f25ff3f869'))\n",
            "Row(product_id=UUID('cca29fef-e5ad-48de-97ea-191228a3a18e'), brand='Frescal', price=Decimal('9.99'), product_category='Laticínios', product_description='Queijo Minas Frescal 300g', product_name='Queijo Minas Frescal', supplier_id=UUID('97846455-8fdc-48bc-9aed-083c5e6fa7c4'))\n",
            "Row(product_id=UUID('5b749bea-9563-42cd-a6f4-6b938bd5d06a'), brand='Floral', price=Decimal('5.49'), product_category='Limpeza', product_description='Desinfetante Floral 1L', product_name='Desinfetante', supplier_id=UUID('a3362e85-e3da-4ec7-bdae-409040609291'))\n",
            "Row(product_id=UUID('ab8b43e8-7964-44d9-aeca-509041aabd48'), brand='Integral', price=Decimal('3.99'), product_category='Laticínios', product_description='Iogurte Natural Integral 500g', product_name='Iogurte Natural', supplier_id=UUID('4d7aed13-bbd8-4253-a948-f561c4c22ce0'))\n",
            "\n",
            "Dados da tabela Dimensão Localização (dim_location):\n",
            "Row(location_id=UUID('d0c4a6b7-19d6-4292-8de9-0791b66d497f'), location_address='Rua dos Jasmins, 321', location_city='João Pessoa', location_country='Brasil', location_name='Loja Norte', location_state='PB')\n",
            "Row(location_id=UUID('8215773c-5ce5-4ce1-80a2-e1d4e6423a25'), location_address='Avenida das Gardênias, 456', location_city='São Luís', location_country='Brasil', location_name='Depósito Oeste', location_state='MA')\n",
            "Row(location_id=UUID('4a8cc610-87f6-4149-b60e-7177cc328768'), location_address='Rua das Orquídeas, 890', location_city='Recife', location_country='Brasil', location_name='Depósito Leste', location_state='PE')\n",
            "Row(location_id=UUID('950bb4c1-2a3e-458c-9a34-a1d24f86af12'), location_address='Avenida dos Coqueiros, 321', location_city='Florianópolis', location_country='Brasil', location_name='Depósito Sul', location_state='SC')\n",
            "Row(location_id=UUID('03306898-9e74-4609-ae70-0b6ad7988d01'), location_address='Rua das Papoulas, 123', location_city='Campo Grande', location_country='Brasil', location_name='Filial Centro', location_state='MS')\n",
            "Row(location_id=UUID('3e828d8b-16ec-4cb7-ab0e-5489e0d5b1f8'), location_address='Avenida das Begônias, 123', location_city='Porto Alegre', location_country='Brasil', location_name='Armazém C', location_state='RS')\n",
            "Row(location_id=UUID('a77853d2-6b33-49ae-a7a6-debaba707242'), location_address='Avenida dos Ipês, 890', location_city='Brasília', location_country='Brasil', location_name='Loja Centro-Oeste', location_state='DF')\n",
            "Row(location_id=UUID('6290aa21-8719-42ab-a3ac-279dbfb9830b'), location_address='Avenida das Magnólias, 567', location_city='Belém', location_country='Brasil', location_name='Matriz', location_state='PA')\n",
            "Row(location_id=UUID('606862b0-ddc7-4bac-a5f9-2addbfb4081f'), location_address='Avenida das Dálias, 890', location_city='Goiânia', location_country='Brasil', location_name='Centro de Distribuição Norte', location_state='GO')\n",
            "Row(location_id=UUID('764f604e-3b68-4c0e-a53a-f06c63c0d08b'), location_address='Rua das Flores, 123', location_city='São Paulo', location_country='Brasil', location_name='Armazém A', location_state='SP')\n",
            "Row(location_id=UUID('7e571df1-8428-4e70-a19b-43b5cec79d12'), location_address='Avenida das Palmeiras, 456', location_city='Rio de Janeiro', location_country='Brasil', location_name='Loja Central', location_state='RJ')\n",
            "Row(location_id=UUID('f5ad0702-76c9-4d7a-9aa5-c179404391bb'), location_address='Rua das Acácias, 567', location_city='Salvador', location_country='Brasil', location_name='Armazém B', location_state='BA')\n",
            "Row(location_id=UUID('f1768bc1-d30a-40e7-9785-b61491f5e9b7'), location_address='Rua das Margaridas, 890', location_city='Natal', location_country='Brasil', location_name='Depósito Central', location_state='RN')\n",
            "Row(location_id=UUID('dfd9930a-0fc2-4d4f-b00a-5c1bc2fa33db'), location_address='Avenida das Tulipas, 567', location_city='Maceió', location_country='Brasil', location_name='Filial Oeste', location_state='AL')\n",
            "Row(location_id=UUID('d3edbb7e-405e-4439-bfed-91e585d3c1d6'), location_address='Rua dos Girassóis, 456', location_city='Porto Velho', location_country='Brasil', location_name='Loja Sul', location_state='RO')\n",
            "Row(location_id=UUID('2dd4eef2-066c-4dd1-a56d-13ce11baa2e0'), location_address='Rua dos Lírios, 567', location_city='Cuiabá', location_country='Brasil', location_name='Armazém E', location_state='MT')\n",
            "Row(location_id=UUID('817ef9aa-51f8-4dbe-adfd-5a52de10c4ca'), location_address='Avenida das Rosas, 234', location_city='Vitória', location_country='Brasil', location_name='Loja Leste', location_state='ES')\n",
            "Row(location_id=UUID('a5dbb4e8-73ae-43e9-87f7-9fc39006fa55'), location_address='Rua das Oliveiras, 789', location_city='Fortaleza', location_country='Brasil', location_name='Filial Norte', location_state='CE')\n",
            "Row(location_id=UUID('dfc65074-b93c-4d2d-81d3-845850f9eb2c'), location_address='Rua das Violetas, 234', location_city='Curitiba', location_country='Brasil', location_name='Centro de Distribuição', location_state='PR')\n",
            "Row(location_id=UUID('d1e0af55-669c-40f7-a6c4-c740db469fde'), location_address='Avenida das Hortênsias, 789', location_city='Manaus', location_country='Brasil', location_name='Armazém D', location_state='AM')\n",
            "\n",
            "Dados da tabela Dimensão Fornecedor (dim_supplier):\n",
            "Row(supplier_id=UUID('8f4313a1-cd16-4ae4-9ed2-ff8229306008'), supplier_address='Avenida das Rosas, 234, Natal, RN', supplier_contact_name='Daniela Souza', supplier_email='daniela.souza@fornecedor.com', supplier_name='Fornecedor P', supplier_phone='+55 84 98765-5567')\n",
            "Row(supplier_id=UUID('94c73975-be6b-4444-a45a-b1a2fde66863'), supplier_address='Rua das Flores, 123, São Paulo, SP', supplier_contact_name='João da Silva', supplier_email='joao.silva@fornecedor.com', supplier_name='Fornecedor A', supplier_phone='+55 11 98765-4321')\n",
            "Row(supplier_id=UUID('af488d78-123e-44b3-9518-3d0c417432df'), supplier_address='Rua das Violetas, 234, Curitiba, PR', supplier_contact_name='Rafaela Pereira', supplier_email='rafaela.pereira@fornecedor.com', supplier_name='Fornecedor G', supplier_phone='+55 41 98765-1122')\n",
            "Row(supplier_id=UUID('21d58a15-8631-4df1-b278-741e1883ddfb'), supplier_address='Avenida das Tulipas, 567, Goiânia, GO', supplier_contact_name='Vanessa Martins', supplier_email='vanessa.martins@fornecedor.com', supplier_name='Fornecedor N', supplier_phone='+55 62 98765-7789')\n",
            "Row(supplier_id=UUID('feea620e-6731-469c-9110-163c35b71dd5'), supplier_address='Avenida das Gardênias, 456, Palmas, TO', supplier_contact_name='Isabela Costa', supplier_email='isabela.costa@fornecedor.com', supplier_name='Fornecedor T', supplier_phone='+55 63 98765-1124')\n",
            "Row(supplier_id=UUID('8a6c23ba-07d6-47fb-9d30-20320319060a'), supplier_address='Avenida dos Coqueiros, 321, Florianópolis, SC', supplier_contact_name='Ana Souza', supplier_email='ana.souza@fornecedor.com', supplier_name='Fornecedor D', supplier_phone='+55 48 98765-3322')\n",
            "Row(supplier_id=UUID('29e703da-d99a-4874-87ba-c7183047f981'), supplier_address='Rua das Acácias, 567, Salvador, BA', supplier_contact_name='Carlos Lima', supplier_email='carlos.lima@fornecedor.com', supplier_name='Fornecedor E', supplier_phone='+55 71 98765-4455')\n",
            "Row(supplier_id=UUID('633de62e-3fd2-4d0c-9b93-648a0a1e274f'), supplier_address='Rua dos Jasmins, 321, João Pessoa, PB', supplier_contact_name='Ricardo Mendes', supplier_email='ricardo.mendes@fornecedor.com', supplier_name='Fornecedor M', supplier_phone='+55 83 98765-4456')\n",
            "Row(supplier_id=UUID('43a4d54d-f246-430a-8fda-81e2ccab8393'), supplier_address='Rua dos Girassóis, 456, Cuiabá, MT', supplier_contact_name='Fernando Alves', supplier_email='fernando.alves@fornecedor.com', supplier_name='Fornecedor K', supplier_phone='+55 65 98765-5544')\n",
            "Row(supplier_id=UUID('65e420fc-ceaa-4f85-9723-cce17059534e'), supplier_address='Avenida das Magnólias, 567, Belém, PA', supplier_contact_name='Luiz Gonzaga', supplier_email='luiz.gonzaga@fornecedor.com', supplier_name='Fornecedor H', supplier_phone='+55 91 98765-6677')\n",
            "Row(supplier_id=UUID('ec888d15-2b31-4567-89a4-5cd26197c6fd'), supplier_address='Rua dos Lírios, 567, Vitória, ES', supplier_contact_name='Carlos Pereira', supplier_email='carlos.pereira@fornecedor.com', supplier_name='Fornecedor Q', supplier_phone='+55 27 98765-8890')\n",
            "Row(supplier_id=UUID('0706da96-bbf8-4ec4-bd9c-be97ebcf3ea4'), supplier_address='Rua das Papoulas, 123, Porto Velho, RO', supplier_contact_name='Leonardo Oliveira', supplier_email='leonardo.oliveira@fornecedor.com', supplier_name='Fornecedor S', supplier_phone='+55 69 98765-6678')\n",
            "Row(supplier_id=UUID('4d906321-66b5-4729-b494-495e0087da00'), supplier_address='Rua das Oliveiras, 789, Fortaleza, CE', supplier_contact_name='Pedro Santos', supplier_email='pedro.santos@fornecedor.com', supplier_name='Fornecedor C', supplier_phone='+55 85 98765-9988')\n",
            "Row(supplier_id=UUID('d026ae5f-70a8-4a27-b6f5-eab63ff1fab0'), supplier_address='Avenida das Dálias, 890, Manaus, AM', supplier_contact_name='Juliana Lima', supplier_email='juliana.lima@fornecedor.com', supplier_name='Fornecedor R', supplier_phone='+55 92 98765-3344')\n",
            "Row(supplier_id=UUID('9c1984ef-5fc2-45df-946a-d0dac279bee5'), supplier_address='Avenida das Begônias, 123, Porto Alegre, RS', supplier_contact_name='Roberto Oliveira', supplier_email='roberto.oliveira@fornecedor.com', supplier_name='Fornecedor J', supplier_phone='+55 51 98765-2233')\n",
            "Row(supplier_id=UUID('58465260-99c3-4ec6-ab39-2b676639ecac'), supplier_address='Avenida das Palmeiras, 456, Rio de Janeiro, RJ', supplier_contact_name='Maria Oliveira', supplier_email='maria.oliveira@fornecedor.com', supplier_name='Fornecedor B', supplier_phone='+55 21 98765-8765')\n",
            "Row(supplier_id=UUID('c99a2664-a2a3-4b4a-9e06-4ba70268378f'), supplier_address='Rua das Orquídeas, 890, Recife, PE', supplier_contact_name='Patrícia Silva', supplier_email='patricia.silva@fornecedor.com', supplier_name='Fornecedor I', supplier_phone='+55 81 98765-8899')\n",
            "Row(supplier_id=UUID('141cf7a8-3ce3-4601-8341-a7bc5f416166'), supplier_address='Avenida dos Ipês, 890, Brasília, DF', supplier_contact_name='Mariana Costa', supplier_email='mariana.costa@fornecedor.com', supplier_name='Fornecedor F', supplier_phone='+55 61 98765-7788')\n",
            "Row(supplier_id=UUID('239cef36-6cfe-450f-91b4-8f5dafdeb031'), supplier_address='Rua das Margaridas, 890, Maceió, AL', supplier_contact_name='Marcelo Rocha', supplier_email='marcelo.rocha@fornecedor.com', supplier_name='Fornecedor O', supplier_phone='+55 82 98765-2234')\n",
            "Row(supplier_id=UUID('b9646c91-1e29-48c5-b5c5-0c2f63864f71'), supplier_address='Avenida das Hortênsias, 789, São Luís, MA', supplier_contact_name='Gabriela Santos', supplier_email='gabriela.santos@fornecedor.com', supplier_name='Fornecedor L', supplier_phone='+55 98 98765-1123')\n",
            "\n",
            "Dados da tabela Dimensão Tempo (dim_time):\n",
            "Row(time_id=UUID('1183ebd3-c625-4193-a0ac-342c82f1380f'), date=Date(19408), day=20, day_of_week='Monday', is_weekend=False, month=2, quarter=1, year=2023)\n",
            "Row(time_id=UUID('d9c64303-c252-49d3-a911-46713fe2a92a'), date=Date(19482), day=5, day_of_week='Friday', is_weekend=False, month=5, quarter=2, year=2023)\n",
            "Row(time_id=UUID('6544275c-5b9b-4952-9a6c-6de17708154b'), date=Date(19557), day=19, day_of_week='Wednesday', is_weekend=False, month=7, quarter=3, year=2023)\n",
            "Row(time_id=UUID('5172228f-3864-45cc-a8f9-81bc4f74f5c1'), date=Date(19523), day=15, day_of_week='Thursday', is_weekend=False, month=6, quarter=2, year=2023)\n",
            "Row(time_id=UUID('ec3fd36c-511b-4a1c-b88d-d7296cd2505c'), date=Date(19622), day=22, day_of_week='Friday', is_weekend=False, month=9, quarter=3, year=2023)\n",
            "Row(time_id=UUID('ad26a8b0-3b2c-4c0c-8cf7-31997e47e9d6'), date=Date(19526), day=18, day_of_week='Sunday', is_weekend=True, month=6, quarter=2, year=2023)\n",
            "Row(time_id=UUID('60abebcc-fa05-44ca-b276-965543d0d611'), date=Date(19358), day=1, day_of_week='Sunday', is_weekend=True, month=1, quarter=1, year=2023)\n",
            "Row(time_id=UUID('ee647602-a4e4-4517-8ccf-055405510cfe'), date=Date(19645), day=15, day_of_week='Sunday', is_weekend=True, month=10, quarter=4, year=2023)\n",
            "Row(time_id=UUID('78925fe7-484c-4f2d-a79c-348b37a31adc'), date=Date(19446), day=30, day_of_week='Thursday', is_weekend=False, month=3, quarter=1, year=2023)\n",
            "Row(time_id=UUID('9627422b-1af8-4763-a90c-18c1f85b81bf'), date=Date(19467), day=20, day_of_week='Thursday', is_weekend=False, month=4, quarter=2, year=2023)\n",
            "Row(time_id=UUID('118414ad-5636-4e8e-bef5-fe7803eb86c5'), date=Date(19448), day=1, day_of_week='Saturday', is_weekend=True, month=4, quarter=2, year=2023)\n",
            "Row(time_id=UUID('b1e4d011-204e-4dd7-a237-5db989ed3293'), date=Date(19371), day=14, day_of_week='Saturday', is_weekend=True, month=1, quarter=1, year=2023)\n",
            "Row(time_id=UUID('8753082c-b1b2-4b88-abba-0de6ee5b866c'), date=Date(19579), day=10, day_of_week='Thursday', is_weekend=False, month=8, quarter=3, year=2023)\n",
            "Row(time_id=UUID('9431e336-d4c0-4d28-9e33-092276e8586b'), date=Date(19505), day=28, day_of_week='Sunday', is_weekend=True, month=5, quarter=2, year=2023)\n",
            "Row(time_id=UUID('65a6208c-f148-4613-89a9-add78225ec86'), date=Date(19663), day=2, day_of_week='Thursday', is_weekend=False, month=11, quarter=4, year=2023)\n",
            "Row(time_id=UUID('f173ae5c-40d9-4cb7-ae90-73c02c67ecce'), date=Date(19594), day=25, day_of_week='Friday', is_weekend=False, month=8, quarter=3, year=2023)\n",
            "Row(time_id=UUID('6c9aeb4d-f4c9-42c2-be18-55e196ccb81f'), date=Date(19716), day=25, day_of_week='Monday', is_weekend=True, month=12, quarter=4, year=2023)\n",
            "Row(time_id=UUID('1318c89f-7483-4acb-b148-51e2c46a1b75'), date=Date(19426), day=10, day_of_week='Friday', is_weekend=False, month=3, quarter=1, year=2023)\n",
            "Row(time_id=UUID('c2abb58e-f619-42fa-84a0-a306a2f01452'), date=Date(19403), day=15, day_of_week='Wednesday', is_weekend=False, month=2, quarter=1, year=2023)\n",
            "Row(time_id=UUID('4a4e6308-4180-4af9-9328-b170d51c3bd4'), date=Date(19542), day=4, day_of_week='Tuesday', is_weekend=False, month=7, quarter=3, year=2023)\n",
            "\n",
            "Dados da tabela Dimensão Cliente (dim_customer):\n",
            "Row(customer_id=UUID('493f0db9-614b-4e49-9753-07e974c1ae09'), customer_address='Avenida das Palmeiras, 456', customer_city='Rio de Janeiro', customer_country='Brasil', customer_email='maria.oliveira@example.com', customer_name='Maria Oliveira', customer_phone='+55 21 98765-8765', customer_state='RJ')\n",
            "Row(customer_id=UUID('b5cc47d5-0cd9-4447-9e01-e00ed584d793'), customer_address='Avenida das Begônias, 123', customer_city='Porto Alegre', customer_country='Brasil', customer_email='roberto.oliveira@example.com', customer_name='Roberto Oliveira', customer_phone='+55 51 98765-2233', customer_state='RS')\n",
            "Row(customer_id=UUID('fd278203-d206-490a-84c2-64944005ff38'), customer_address='Avenida das Orquídeas, 123', customer_city='Belém', customer_country='Brasil', customer_email='marcos.silva@example.com', customer_name='Marcos Silva', customer_phone='+55 91 98765-5566', customer_state='PA')\n",
            "Row(customer_id=UUID('152dce35-cd89-4efb-a7e4-c9d036436bdb'), customer_address='Rua das Acácias, 567', customer_city='Salvador', customer_country='Brasil', customer_email='carlos.lima@example.com', customer_name='Carlos Lima', customer_phone='+55 71 98765-4455', customer_state='BA')\n",
            "Row(customer_id=UUID('d52b7d17-af9e-4e1d-8846-d7f85be2969f'), customer_address='Rua das Flores, 123', customer_city='São Paulo', customer_country='Brasil', customer_email='joao.silva@example.com', customer_name='João da Silva', customer_phone='+55 11 98765-4321', customer_state='SP')\n",
            "Row(customer_id=UUID('538b781e-1284-4b3e-832d-0cc63210e937'), customer_address='Rua das Rosas, 456', customer_city='São Paulo', customer_country='Brasil', customer_email='fernanda.santos@example.com', customer_name='Fernanda Santos', customer_phone='+55 11 98765-1122', customer_state='SP')\n",
            "Row(customer_id=UUID('d76e84b0-ad04-48cf-b990-3fa6c5cfac85'), customer_address='Avenida das Violetas, 789', customer_city='Porto Alegre', customer_country='Brasil', customer_email='rodrigo.souza@example.com', customer_name='Rodrigo Souza', customer_phone='+55 51 98765-9900', customer_state='RS')\n",
            "Row(customer_id=UUID('c4006441-8a21-4a79-8abb-64ca8b31d4de'), customer_address='Avenida dos Crisântemos, 234', customer_city='Brasília', customer_country='Brasil', customer_email='paulo.costa@example.com', customer_name='Paulo Costa', customer_phone='+55 61 98765-1122', customer_state='DF')\n",
            "Row(customer_id=UUID('807a8297-70d3-4cc0-8241-c53b770e52f2'), customer_address='Avenida das Magnólias, 567', customer_city='Belém', customer_country='Brasil', customer_email='luiz.gonzaga@example.com', customer_name='Luiz Gonzaga', customer_phone='+55 91 98765-6677', customer_state='PA')\n",
            "Row(customer_id=UUID('ab94ae37-40ee-48b3-877e-c9249d1a7746'), customer_address='Rua das Violetas, 234', customer_city='Curitiba', customer_country='Brasil', customer_email='rafaela.pereira@example.com', customer_name='Rafaela Pereira', customer_phone='+55 41 98765-1122', customer_state='PR')\n",
            "Row(customer_id=UUID('0859bf41-f870-43dc-bcf8-9c565b81c717'), customer_address='Rua das Oliveiras, 789', customer_city='Fortaleza', customer_country='Brasil', customer_email='pedro.santos@example.com', customer_name='Pedro Santos', customer_phone='+55 85 98765-9988', customer_state='CE')\n",
            "Row(customer_id=UUID('901adf6b-d722-4416-abe5-e7d3d0e8bf42'), customer_address='Avenida dos Coqueiros, 321', customer_city='Florianópolis', customer_country='Brasil', customer_email='ana.souza@example.com', customer_name='Ana Souza', customer_phone='+55 48 98765-3322', customer_state='SC')\n",
            "Row(customer_id=UUID('20ba8455-bf47-4cd5-9dff-5d86a0983598'), customer_address='Rua das Orquídeas, 123', customer_city='Fortaleza', customer_country='Brasil', customer_email='carla.silva@example.com', customer_name='Carla Silva', customer_phone='+55 85 98765-5566', customer_state='CE')\n",
            "Row(customer_id=UUID('8269169c-e38c-4601-9f0f-236b3ee4620a'), customer_address='Rua das Orquídeas, 890', customer_city='Recife', customer_country='Brasil', customer_email='patricia.silva@example.com', customer_name='Patrícia Silva', customer_phone='+55 81 98765-8899', customer_state='PE')\n",
            "Row(customer_id=UUID('63bb73b2-6050-4ea1-b77c-fa251c6add33'), customer_address='Avenida dos Ipês, 890', customer_city='Brasília', customer_country='Brasil', customer_email='mariana.costa@example.com', customer_name='Mariana Costa', customer_phone='+55 61 98765-7788', customer_state='DF')\n",
            "Row(customer_id=UUID('32259a35-1d8e-472f-accf-8ed4e43bfb82'), customer_address='Avenida dos Jasmim, 789', customer_city='Rio de Janeiro', customer_country='Brasil', customer_email='gustavo.lima@example.com', customer_name='Gustavo Lima', customer_phone='+55 21 98765-3344', customer_state='RJ')\n",
            "Row(customer_id=UUID('7ab4e1e4-6fb0-4d23-b28e-50757804e827'), customer_address='Avenida dos Girassóis, 456', customer_city='Florianópolis', customer_country='Brasil', customer_email='lucas.oliveira@example.com', customer_name='Lucas Oliveira', customer_phone='+55 48 98765-7788', customer_state='SC')\n",
            "Row(customer_id=UUID('c69f0a35-e863-4f8e-8101-57b58097dc01'), customer_address='Rua das Margaridas, 567', customer_city='Curitiba', customer_country='Brasil', customer_email='juliana.pereira@example.com', customer_name='Juliana Pereira', customer_phone='+55 41 98765-3344', customer_state='PR')\n",
            "Row(customer_id=UUID('15c9989d-e84d-48ef-a305-2c0b11ae7015'), customer_address='Rua dos Lírios, 456', customer_city='Recife', customer_country='Brasil', customer_email='vanessa.oliveira@example.com', customer_name='Vanessa Oliveira', customer_phone='+55 81 98765-7788', customer_state='PE')\n",
            "Row(customer_id=UUID('2094fa60-a266-4975-8173-5ab6fdd386f1'), customer_address='Rua das Bromélias, 789', customer_city='Salvador', customer_country='Brasil', customer_email='camila.santos@example.com', customer_name='Camila Santos', customer_phone='+55 71 98765-9900', customer_state='BA')\n",
            "\n",
            "Dados da tabela Dimensão Categoria de Produto (dim_product_category):\n",
            "Row(product_category_id=UUID('422325ba-b73f-4850-a153-9a1231efe355'), product_category_description='Categoria de produtos enlatados e conservas', product_category_name='Enlatados')\n",
            "Row(product_category_id=UUID('b8c29547-82f1-4984-8590-875bfe0e48b6'), product_category_description='Categoria de produtos relacionados a laticínios e derivados do leite', product_category_name='Laticínios')\n",
            "Row(product_category_id=UUID('c2a121ae-67c8-4c83-a2b0-15170a12b623'), product_category_description='Categoria de produtos relacionados a petiscos e snacks', product_category_name='Petiscos')\n",
            "Row(product_category_id=UUID('a889f556-a651-4206-aa28-1c0d191bf922'), product_category_description='Categoria de produtos relacionados a produtos de higiene pessoal e limpeza', product_category_name='Higiene')\n",
            "Row(product_category_id=UUID('281c7d86-ae4a-4645-841f-2f26289d43c0'), product_category_description='Categoria de produtos relacionados a bebidas', product_category_name='Bebidas')\n",
            "Row(product_category_id=UUID('afab372b-5446-4835-a663-fb73cf0037a2'), product_category_description='Categoria de produtos relacionados a peixes e frutos do mar', product_category_name='Peixes')\n",
            "Row(product_category_id=UUID('1feac8ab-5d9c-434d-91a7-d311e69e3202'), product_category_description='Categoria de produtos relacionados a especiarias e temperos especiais', product_category_name='Especiarias')\n",
            "Row(product_category_id=UUID('1e734ce2-ce2d-49cf-9164-855f4dbe53ea'), product_category_description='Categoria de produtos congelados e semi-preparados', product_category_name='Congelados')\n",
            "Row(product_category_id=UUID('2df285da-734b-4bfa-b24c-342e1cd57acf'), product_category_description='Categoria de produtos relacionados a padaria e confeitaria', product_category_name='Padaria')\n",
            "Row(product_category_id=UUID('e07569b0-75f4-4152-8050-557f7b6124ea'), product_category_description='Categoria de produtos relacionados a grãos e cereais', product_category_name='Grãos')\n",
            "Row(product_category_id=UUID('b9b38d4a-a5a5-4407-aca3-3cd6fb6b99b9'), product_category_description='Categoria de produtos relacionados a doces e chocolates', product_category_name='Doces')\n",
            "Row(product_category_id=UUID('ff7f0a49-7fa8-44ca-910d-30cf1f3b6ac8'), product_category_description='Categoria de produtos relacionados a condimentos e temperos', product_category_name='Condimentos')\n",
            "Row(product_category_id=UUID('9717dcbc-859a-4b66-88c6-29d42ee1f2b8'), product_category_description='Categoria de produtos relacionados a massas e pastas', product_category_name='Massas')\n",
            "Row(product_category_id=UUID('908b96c4-a6a6-469b-8065-e8ab1d90c97c'), product_category_description='Categoria de produtos relacionados a molhos e condimentos', product_category_name='Molhos')\n",
            "Row(product_category_id=UUID('ca41697e-acdf-45e8-8311-d9fc437f47d9'), product_category_description='Categoria de produtos relacionados a frutas', product_category_name='Frutas')\n",
            "Row(product_category_id=UUID('638c7283-123b-4357-92ed-f59432209c38'), product_category_description='Categoria de produtos relacionados a farinhas e derivados', product_category_name='Farinhas')\n",
            "Row(product_category_id=UUID('4c6647b7-baa1-496a-b2bc-eb0fb144b9fc'), product_category_description='Categoria de produtos relacionados a carnes e embutidos', product_category_name='Carnes')\n",
            "Row(product_category_id=UUID('99a6924d-9e0a-48c7-82dc-eeeb6a2ae49d'), product_category_description='Categoria de produtos relacionados a alimentação infantil', product_category_name='Infantil')\n",
            "Row(product_category_id=UUID('aa7c03a3-46a3-494d-a731-168896c12d78'), product_category_description='Categoria de produtos relacionados a vegetais e legumes', product_category_name='Vegetais')\n",
            "Row(product_category_id=UUID('e6c20036-9f88-4722-8f0c-bb72bc0d8ade'), product_category_description='Categoria de produtos saudáveis e naturais', product_category_name='Saudáveis')\n",
            "\n",
            "Dados da tabela Fato (fact_stock_movement):\n",
            "Row(movement_id=UUID('82ac122e-0301-45ca-97c5-b28940590b2d'), product_id=UUID('36f433d7-b8e4-43b7-a564-d202bc88deb3'), location_id=UUID('6290aa21-8719-42ab-a3ac-279dbfb9830b'), time_id=UUID('ee647602-a4e4-4517-8ccf-055405510cfe'), supplier_id=UUID('633de62e-3fd2-4d0c-9b93-648a0a1e274f'), customer_id=UUID('c4006441-8a21-4a79-8abb-64ca8b31d4de'), product_category_id=UUID('1e734ce2-ce2d-49cf-9164-855f4dbe53ea'), movement_type='SAÍDA', quantity=22, total_value=Decimal('65.78'), unit_price=Decimal('2.99'))\n",
            "Row(movement_id=UUID('a555c714-14ba-4f71-aeec-2f6d85384ed5'), product_id=UUID('9c843ad4-df78-447e-ad16-db8d20998c6f'), location_id=UUID('606862b0-ddc7-4bac-a5f9-2addbfb4081f'), time_id=UUID('78925fe7-484c-4f2d-a79c-348b37a31adc'), supplier_id=UUID('43a4d54d-f246-430a-8fda-81e2ccab8393'), customer_id=UUID('807a8297-70d3-4cc0-8241-c53b770e52f2'), product_category_id=UUID('2df285da-734b-4bfa-b24c-342e1cd57acf'), movement_type='ENTRADA', quantity=16, total_value=Decimal('60.64'), unit_price=Decimal('3.79'))\n",
            "Row(movement_id=UUID('f4a64cb3-a9b0-4b37-9eeb-3c54583c28b6'), product_id=UUID('1e99d561-991f-4f0c-94b2-55cfa18f6db4'), location_id=UUID('f1768bc1-d30a-40e7-9785-b61491f5e9b7'), time_id=UUID('8753082c-b1b2-4b88-abba-0de6ee5b866c'), supplier_id=UUID('4d906321-66b5-4729-b494-495e0087da00'), customer_id=UUID('20ba8455-bf47-4cd5-9dff-5d86a0983598'), product_category_id=UUID('9717dcbc-859a-4b66-88c6-29d42ee1f2b8'), movement_type='SAÍDA', quantity=50, total_value=Decimal('424.5'), unit_price=Decimal('8.49'))\n",
            "Row(movement_id=UUID('7ed52b10-88c3-4e18-8fe4-7a087de80ede'), product_id=UUID('d698cc0d-a67d-479f-b44e-cce11a98a2ec'), location_id=UUID('a77853d2-6b33-49ae-a7a6-debaba707242'), time_id=UUID('60abebcc-fa05-44ca-b276-965543d0d611'), supplier_id=UUID('29e703da-d99a-4874-87ba-c7183047f981'), customer_id=UUID('d76e84b0-ad04-48cf-b990-3fa6c5cfac85'), product_category_id=UUID('1feac8ab-5d9c-434d-91a7-d311e69e3202'), movement_type='ENTRADA', quantity=18, total_value=Decimal('359.82'), unit_price=Decimal('19.99'))\n",
            "Row(movement_id=UUID('e6932292-0453-4770-8f6d-a814476ebec3'), product_id=UUID('cca29fef-e5ad-48de-97ea-191228a3a18e'), location_id=UUID('a5dbb4e8-73ae-43e9-87f7-9fc39006fa55'), time_id=UUID('1318c89f-7483-4acb-b148-51e2c46a1b75'), supplier_id=UUID('141cf7a8-3ce3-4601-8341-a7bc5f416166'), customer_id=UUID('c69f0a35-e863-4f8e-8101-57b58097dc01'), product_category_id=UUID('99a6924d-9e0a-48c7-82dc-eeeb6a2ae49d'), movement_type='ENTRADA', quantity=120, total_value=Decimal('358.8'), unit_price=Decimal('2.99'))\n",
            "Row(movement_id=UUID('ba00b710-40f2-4623-a5c3-1133a860aa7d'), product_id=UUID('e2a3b136-6120-4bb1-acf9-3cf1b3fb6a0f'), location_id=UUID('950bb4c1-2a3e-458c-9a34-a1d24f86af12'), time_id=UUID('5172228f-3864-45cc-a8f9-81bc4f74f5c1'), supplier_id=UUID('21d58a15-8631-4df1-b278-741e1883ddfb'), customer_id=UUID('152dce35-cd89-4efb-a7e4-c9d036436bdb'), product_category_id=UUID('a889f556-a651-4206-aa28-1c0d191bf922'), movement_type='ENTRADA', quantity=30, total_value=Decimal('98.7'), unit_price=Decimal('3.29'))\n",
            "Row(movement_id=UUID('574d5e02-af65-4ae9-b88d-e282b2d2c36b'), product_id=UUID('dfb15b82-c5b9-4c53-9803-be61ea83e7d0'), location_id=UUID('817ef9aa-51f8-4dbe-adfd-5a52de10c4ca'), time_id=UUID('6c9aeb4d-f4c9-42c2-be18-55e196ccb81f'), supplier_id=UUID('c99a2664-a2a3-4b4a-9e06-4ba70268378f'), customer_id=UUID('7ab4e1e4-6fb0-4d23-b28e-50757804e827'), product_category_id=UUID('4c6647b7-baa1-496a-b2bc-eb0fb144b9fc'), movement_type='SAÍDA', quantity=80, total_value=Decimal('639.2'), unit_price=Decimal('7.99'))\n",
            "Row(movement_id=UUID('1242f439-e1a7-4672-838a-35cae28037e9'), product_id=UUID('f937b28f-d5de-4e45-b5f0-eb49cb67c1c6'), location_id=UUID('d3edbb7e-405e-4439-bfed-91e585d3c1d6'), time_id=UUID('65a6208c-f148-4613-89a9-add78225ec86'), supplier_id=UUID('9c1984ef-5fc2-45df-946a-d0dac279bee5'), customer_id=UUID('63bb73b2-6050-4ea1-b77c-fa251c6add33'), product_category_id=UUID('ca41697e-acdf-45e8-8311-d9fc437f47d9'), movement_type='SAÍDA', quantity=30, total_value=Decimal('389.7'), unit_price=Decimal('12.99'))\n",
            "Row(movement_id=UUID('a03ce7d4-0a6c-4d1b-a5c9-3ef16c5cdcba'), product_id=UUID('998bb081-3e7b-484e-b062-b8c7377c1302'), location_id=UUID('3e828d8b-16ec-4cb7-ab0e-5489e0d5b1f8'), time_id=UUID('ad26a8b0-3b2c-4c0c-8cf7-31997e47e9d6'), supplier_id=UUID('8a6c23ba-07d6-47fb-9d30-20320319060a'), customer_id=UUID('538b781e-1284-4b3e-832d-0cc63210e937'), product_category_id=UUID('afab372b-5446-4835-a663-fb73cf0037a2'), movement_type='SAÍDA', quantity=12, total_value=Decimal('95.88'), unit_price=Decimal('7.99'))\n",
            "Row(movement_id=UUID('ca700f0b-dadd-46dc-bc2f-39401363bd21'), product_id=UUID('5b749bea-9563-42cd-a6f4-6b938bd5d06a'), location_id=UUID('dfc65074-b93c-4d2d-81d3-845850f9eb2c'), time_id=UUID('c2abb58e-f619-42fa-84a0-a306a2f01452'), supplier_id=UUID('239cef36-6cfe-450f-91b4-8f5dafdeb031'), customer_id=UUID('15c9989d-e84d-48ef-a305-2c0b11ae7015'), product_category_id=UUID('aa7c03a3-46a3-494d-a731-168896c12d78'), movement_type='SAÍDA', quantity=40, total_value=Decimal('259.6'), unit_price=Decimal('6.49'))\n",
            "Row(movement_id=UUID('47a1896f-39ce-4a8c-b835-c5cf21810801'), product_id=UUID('7815071b-067d-4907-9737-3b127f6a2466'), location_id=UUID('7e571df1-8428-4e70-a19b-43b5cec79d12'), time_id=UUID('118414ad-5636-4e8e-bef5-fe7803eb86c5'), supplier_id=UUID('ec888d15-2b31-4567-89a4-5cd26197c6fd'), customer_id=UUID('0859bf41-f870-43dc-bcf8-9c565b81c717'), product_category_id=UUID('b9b38d4a-a5a5-4407-aca3-3cd6fb6b99b9'), movement_type='ENTRADA', quantity=25, total_value=Decimal('187.25'), unit_price=Decimal('7.49'))\n",
            "Row(movement_id=UUID('d29d0075-73bd-46a5-b947-05d26d5c3df7'), product_id=UUID('ab8b43e8-7964-44d9-aeca-509041aabd48'), location_id=UUID('d1e0af55-669c-40f7-a6c4-c740db469fde'), time_id=UUID('4a4e6308-4180-4af9-9328-b170d51c3bd4'), supplier_id=UUID('b9646c91-1e29-48c5-b5c5-0c2f63864f71'), customer_id=UUID('2094fa60-a266-4975-8173-5ab6fdd386f1'), product_category_id=UUID('e6c20036-9f88-4722-8f0c-bb72bc0d8ade'), movement_type='ENTRADA', quantity=180, total_value=Decimal('1258.2'), unit_price=Decimal('6.99'))\n",
            "Row(movement_id=UUID('7cf47523-989b-4479-96a5-51450fd92829'), product_id=UUID('af5ece54-33a6-477b-8b60-43243fbe8339'), location_id=UUID('d0c4a6b7-19d6-4292-8de9-0791b66d497f'), time_id=UUID('1183ebd3-c625-4193-a0ac-342c82f1380f'), supplier_id=UUID('8f4313a1-cd16-4ae4-9ed2-ff8229306008'), customer_id=UUID('493f0db9-614b-4e49-9753-07e974c1ae09'), product_category_id=UUID('422325ba-b73f-4850-a153-9a1231efe355'), movement_type='SAÍDA', quantity=10, total_value=Decimal('59.9'), unit_price=Decimal('5.99'))\n",
            "Row(movement_id=UUID('9a67554e-bc98-4b35-a1fd-6b6eaab7c2ba'), product_id=UUID('6ca4049b-d57a-4d46-b4ea-89e5256d1f06'), location_id=UUID('4a8cc610-87f6-4149-b60e-7177cc328768'), time_id=UUID('6544275c-5b9b-4952-9a6c-6de17708154b'), supplier_id=UUID('af488d78-123e-44b3-9518-3d0c417432df'), customer_id=UUID('fd278203-d206-490a-84c2-64944005ff38'), product_category_id=UUID('c2a121ae-67c8-4c83-a2b0-15170a12b623'), movement_type='SAÍDA', quantity=15, total_value=Decimal('194.85'), unit_price=Decimal('12.99'))\n",
            "Row(movement_id=UUID('fdaad6e6-b588-4844-aa4a-0b04f3d61c8c'), product_id=UUID('5c826b67-93f8-4c39-bf57-11b5cfa37324'), location_id=UUID('764f604e-3b68-4c0e-a53a-f06c63c0d08b'), time_id=UUID('9627422b-1af8-4763-a90c-18c1f85b81bf'), supplier_id=UUID('65e420fc-ceaa-4f85-9723-cce17059534e'), customer_id=UUID('ab94ae37-40ee-48b3-877e-c9249d1a7746'), product_category_id=UUID('e07569b0-75f4-4152-8050-557f7b6124ea'), movement_type='SAÍDA', quantity=20, total_value=Decimal('109.8'), unit_price=Decimal('5.49'))\n",
            "Row(movement_id=UUID('035149fa-03ad-41bf-8ff1-e549f38f8903'), product_id=UUID('f7cae460-6043-4f14-83e8-b644d2357f92'), location_id=UUID('dfd9930a-0fc2-4d4f-b00a-5c1bc2fa33db'), time_id=UUID('9431e336-d4c0-4d28-9e33-092276e8586b'), supplier_id=UUID('d026ae5f-70a8-4a27-b6f5-eab63ff1fab0'), customer_id=UUID('8269169c-e38c-4601-9f0f-236b3ee4620a'), product_category_id=UUID('908b96c4-a6a6-469b-8065-e8ab1d90c97c'), movement_type='ENTRADA', quantity=200, total_value=Decimal('658.0'), unit_price=Decimal('3.29'))\n",
            "Row(movement_id=UUID('cea9022a-073b-4fbb-8191-022b628b3929'), product_id=UUID('733c6186-fc1c-4f26-bc6e-768c943cc7fb'), location_id=UUID('8215773c-5ce5-4ce1-80a2-e1d4e6423a25'), time_id=UUID('d9c64303-c252-49d3-a911-46713fe2a92a'), supplier_id=UUID('94c73975-be6b-4444-a45a-b1a2fde66863'), customer_id=UUID('b5cc47d5-0cd9-4447-9e01-e00ed584d793'), product_category_id=UUID('b8c29547-82f1-4984-8590-875bfe0e48b6'), movement_type='ENTRADA', quantity=20, total_value=Decimal('169.8'), unit_price=Decimal('8.49'))\n",
            "Row(movement_id=UUID('c83eaaaa-b844-4716-8780-d0bec508b734'), product_id=UUID('e75e58d8-ae7d-4bbb-8091-7116401fa44c'), location_id=UUID('f5ad0702-76c9-4d7a-9aa5-c179404391bb'), time_id=UUID('b1e4d011-204e-4dd7-a237-5db989ed3293'), supplier_id=UUID('0706da96-bbf8-4ec4-bd9c-be97ebcf3ea4'), customer_id=UUID('901adf6b-d722-4416-abe5-e7d3d0e8bf42'), product_category_id=UUID('ff7f0a49-7fa8-44ca-910d-30cf1f3b6ac8'), movement_type='ENTRADA', quantity=100, total_value=Decimal('599.0'), unit_price=Decimal('5.99'))\n",
            "Row(movement_id=UUID('00e67eb1-43c1-4c25-bf06-f0f2d2904381'), product_id=UUID('02de204c-ffa0-488e-8adc-6bae3fdfd5e2'), location_id=UUID('03306898-9e74-4609-ae70-0b6ad7988d01'), time_id=UUID('ec3fd36c-511b-4a1c-b88d-d7296cd2505c'), supplier_id=UUID('feea620e-6731-469c-9110-163c35b71dd5'), customer_id=UUID('d52b7d17-af9e-4e1d-8846-d7f85be2969f'), product_category_id=UUID('281c7d86-ae4a-4645-841f-2f26289d43c0'), movement_type='ENTRADA', quantity=25, total_value=Decimal('162.25'), unit_price=Decimal('6.49'))\n",
            "Row(movement_id=UUID('7cfb28ca-f7c4-4ede-9f32-e3461d7a5064'), product_id=UUID('00f65f6c-28ad-4fd7-a43b-e630e395e5c8'), location_id=UUID('2dd4eef2-066c-4dd1-a56d-13ce11baa2e0'), time_id=UUID('f173ae5c-40d9-4cb7-ae90-73c02c67ecce'), supplier_id=UUID('58465260-99c3-4ec6-ab39-2b676639ecac'), customer_id=UUID('32259a35-1d8e-472f-accf-8ed4e43bfb82'), product_category_id=UUID('638c7283-123b-4357-92ed-f59432209c38'), movement_type='ENTRADA', quantity=150, total_value=Decimal('2998.5'), unit_price=Decimal('19.99'))\n"
          ]
        }
      ]
    },
    {
      "cell_type": "markdown",
      "source": [
        "###Transformando em DataFrame"
      ],
      "metadata": {
        "id": "7S12zlubnxMX"
      }
    },
    {
      "cell_type": "code",
      "source": [
        "import pandas as pd\n",
        "from decimal import Decimal"
      ],
      "metadata": {
        "id": "sBlYMa0VnvU-"
      },
      "execution_count": null,
      "outputs": []
    },
    {
      "cell_type": "code",
      "source": [
        "# Os dados originais\n",
        "original_data = [\n",
        "    {'movement_id': 'c951cb94-2f4a-49e9-ba4b-6220d863f9b3', 'product_id': '776ed069-4be4-4f28-8806-4d4e3516e99c', 'location_id': '981ed99e-476f-4953-ae8f-bb10874eea42', 'time_id': 'ffb470dc-1dfb-4182-afb9-e7eda91e47c2', 'supplier_id': 'c44f19eb-534d-4f64-a33c-35f17d1c9e86', 'customer_id': 'fd907e42-472d-488a-9a5e-6d562c40b145', 'product_category_id': '9e7c41fc-fab6-40d7-b2fa-5fcf6cca661a', 'movement_type': 'ENTRADA', 'quantity': 200, 'total_value': Decimal('658.0'), 'unit_price': Decimal('3.29')},\n",
        "    {'movement_id': '1acd7ace-37f7-43cb-96aa-722817c5b865', 'product_id': '05435a82-042c-4de4-9653-e98fd141d17e', 'location_id': 'd0bfcda9-c111-41b6-9d4f-a2e1d16c770f', 'time_id': '388046f4-f1b3-49e0-b2d1-7b8f5c7e7611', 'supplier_id': '54d4c759-a6a8-4315-a8f7-0fc38934b90f', 'customer_id': '48cafff3-0a43-4349-ac69-fd26b8438f46', 'product_category_id': '1ea006bb-639b-4555-b0f6-6bb89d276e83', 'movement_type': 'SAÍDA', 'quantity': 22, 'total_value': Decimal('65.78'), 'unit_price': Decimal('2.99')},\n",
        "    {'movement_id': 'df52cd7b-513c-44bd-8f68-5dfd1f1d14c7', 'product_id': 'c9516801-9d50-48c0-9162-a73a705a2c90', 'location_id': '6f3de67f-bb84-4707-a7db-aa636430b6f6', 'time_id': '072ad8ed-6bea-4c0e-8e69-d2f930465064', 'supplier_id': '59143f33-6723-48a7-8141-6e8936c1abf0', 'customer_id': '3e0e638e-76c6-4ca6-92ca-6f79234bdaab', 'product_category_id': '4cdfc133-88f8-4ea4-a0fa-e114669b2bba', 'movement_type': 'SAÍDA', 'quantity': 12, 'total_value': Decimal('95.88'), 'unit_price': Decimal('7.99')},\n",
        "    {'movement_id': 'e737bb41-cc1a-476d-82d5-b58a5aefb497', 'product_id': 'c1c6a587-67ba-4ea3-b4e0-89aff9af9dc1', 'location_id': 'e8278bf5-f5d4-4061-919e-fad15e59838b', 'time_id': '5ea53f1b-a6b6-4617-8059-83bd133b62c0', 'supplier_id': '850a0cce-7fc5-4808-8e94-0d0a6a2f7d67', 'customer_id': 'c8062295-8d5f-41a4-bfb4-6d90499f5bd1', 'product_category_id': 'a40d150e-273e-43e1-9d93-0470e546edf7', 'movement_type': 'SAÍDA', 'quantity': 40, 'total_value': Decimal('259.6'), 'unit_price': Decimal('6.49')},\n",
        "    {'movement_id': '92aa0581-3c91-4499-bc4b-5715e450c93a', 'product_id': '85b9fb25-7c78-4642-920d-419bb007ce96', 'location_id': '261f247d-6d6a-49ae-b404-8199cdd46075', 'time_id': 'f4eb528d-619d-486e-b788-a297eedced02', 'supplier_id': 'cb6c10df-caa7-41ec-8466-23660c5d3b3f', 'customer_id': '49b1be7b-f162-4704-973d-6eb0aabc526f', 'product_category_id': '825908b5-e533-4dfc-9927-3d63aa2b5e28', 'movement_type': 'ENTRADA', 'quantity': 18, 'total_value': Decimal('359.82'), 'unit_price': Decimal('19.99')},\n",
        "    {'movement_id': '6cead7a5-fdc0-4c18-8b41-234e1a56b74f', 'product_id': 'caa02d0b-c629-45bd-9098-eb514dc680ac', 'location_id': '9baf0306-71e0-465a-93ff-b687d4cb4ddd', 'time_id': '9ef1ecfa-8a02-42c6-8b5f-ddda559629ad', 'supplier_id': '5c334948-ae70-4f0e-9b3b-cce8bb2898c5', 'customer_id': 'ab77812c-3fa5-40eb-be7b-3e9ee65fdf52', 'product_category_id': 'ee748719-740a-4858-9488-138354957da3', 'movement_type': 'ENTRADA', 'quantity': 30, 'total_value': Decimal('98.7'), 'unit_price': Decimal('3.29')},\n",
        "    {'movement_id': 'eadf2fa2-a07a-49ae-b1e6-338740b080db', 'product_id': 'eebeed0a-1d41-4948-b100-8932ec57de63', 'location_id': 'f658b5ca-6dae-4f04-9481-19b7cf8d5e90', 'time_id': '18aa1b42-68d1-42e9-97ea-49702447064e', 'supplier_id': 'd21ce55b-00fc-4b79-9c35-390a26f3ddf9', 'customer_id': '9aa33f50-2384-45f7-a0a7-abca783094ba', 'product_category_id': '4813f84f-3e2a-4dea-a9ba-ed84c5be0440', 'movement_type': 'SAÍDA', 'quantity': 80, 'total_value': Decimal('639.2'), 'unit_price': Decimal('7.99')},\n",
        "    {'movement_id': '4dc44610-5695-454f-b250-2e7078254d50', 'product_id': '1e7663ef-b344-484c-947d-7fee7999e733', 'location_id': 'f609417f-49a1-4f76-ba4c-aa46fa26a85c', 'time_id': '4a524ec5-d1e5-4151-9203-6d5083d73a34', 'supplier_id': '498cd8b6-8dea-432c-b897-e33cd52d0d1c', 'customer_id': 'ec2ce529-6ce4-430b-b7e4-97d26167b664', 'product_category_id': '1f09c0fb-c3f7-4d43-9d5d-44c46f5e107f', 'movement_type': 'ENTRADA', 'quantity': 120, 'total_value': Decimal('358.8'), 'unit_price': Decimal('2.99')},\n",
        "    {'movement_id': 'a5714be6-a2ec-4d02-ae17-4a6d51b6fd45', 'product_id': '0f75af9a-11aa-468b-9b4a-1f2f91e58784', 'location_id': '7a5f491f-7d6d-4ac1-87f3-8d2e7e0db24e', 'time_id': 'f52e72cf-0136-40e5-9b5a-c07e8be1985f', 'supplier_id': 'de1be59a-4e23-44e5-ba72-614e2b49d13c', 'customer_id': '2ef02299-bf19-463f-bd00-3b350f1a9d9f', 'product_category_id': '0d8e7f7d-2e00-4c71-bf15-9c56e00ac3a8', 'movement_type': 'ENTRADA', 'quantity': 15, 'total_value': Decimal('38.85'), 'unit_price': Decimal('2.59')},\n",
        "    {'movement_id': '4dd0d5b3-b6d6-4912-a5b7-b5bf2baf5270', 'product_id': '3a8b885c-ef55-4e64-a37f-52e2e9384a0e', 'location_id': 'f11b1a01-4b97-43cd-b76e-b71d0b3e50e4', 'time_id': '94a1ed0e-52bc-4f61-8c6a-7dfb83bc8c82', 'supplier_id': '6c1bb2e0-6545-4b3d-91e6-6fca5e2d9df5', 'customer_id': '1e82f3ae-30b5-49b5-bbb7-0d1ef9db0786', 'product_category_id': '62b78a65-9131-46b4-bc54-0b8e9b97e05b', 'movement_type': 'SAÍDA', 'quantity': 18, 'total_value': Decimal('197.64'), 'unit_price': Decimal('10.98')}\n",
        "]\n",
        "\n",
        "# Lista para armazenar os dados no formato desejado\n",
        "transformed_data = []\n",
        "\n",
        "# Iterar sobre os dados originais e criar os dicionários no novo formato\n",
        "for entry in original_data:\n",
        "    transformed_data.append({\n",
        "        'movement_id': entry['movement_id'],\n",
        "        'product_id': entry['product_id'],\n",
        "        'location_id': entry['location_id'],\n",
        "        'time_id': entry['time_id'],\n",
        "        'supplier_id': entry['supplier_id'],\n",
        "        'customer_id': entry['customer_id'],\n",
        "        'product_category_id': entry['product_category_id'],\n",
        "        'movement_type': entry['movement_type'],\n",
        "        'quantity': entry['quantity'],\n",
        "        'total_value': float(entry['total_value']),\n",
        "        'unit_price': float(entry['unit_price'])\n",
        "    })\n",
        "\n",
        "# Mostrar o resultado final\n",
        "print(transformed_data)\n",
        "\n",
        "# Definição do DataFrame\n",
        "df = pd.DataFrame(transformed_data)"
      ],
      "metadata": {
        "colab": {
          "base_uri": "https://localhost:8080/"
        },
        "id": "2MpcbzJvn1xL",
        "outputId": "47147552-4dbb-4cfe-d80d-9661db9df278"
      },
      "execution_count": null,
      "outputs": [
        {
          "output_type": "stream",
          "name": "stdout",
          "text": [
            "[{'movement_id': 'c951cb94-2f4a-49e9-ba4b-6220d863f9b3', 'product_id': '776ed069-4be4-4f28-8806-4d4e3516e99c', 'location_id': '981ed99e-476f-4953-ae8f-bb10874eea42', 'time_id': 'ffb470dc-1dfb-4182-afb9-e7eda91e47c2', 'supplier_id': 'c44f19eb-534d-4f64-a33c-35f17d1c9e86', 'customer_id': 'fd907e42-472d-488a-9a5e-6d562c40b145', 'product_category_id': '9e7c41fc-fab6-40d7-b2fa-5fcf6cca661a', 'movement_type': 'ENTRADA', 'quantity': 200, 'total_value': 658.0, 'unit_price': 3.29}, {'movement_id': '1acd7ace-37f7-43cb-96aa-722817c5b865', 'product_id': '05435a82-042c-4de4-9653-e98fd141d17e', 'location_id': 'd0bfcda9-c111-41b6-9d4f-a2e1d16c770f', 'time_id': '388046f4-f1b3-49e0-b2d1-7b8f5c7e7611', 'supplier_id': '54d4c759-a6a8-4315-a8f7-0fc38934b90f', 'customer_id': '48cafff3-0a43-4349-ac69-fd26b8438f46', 'product_category_id': '1ea006bb-639b-4555-b0f6-6bb89d276e83', 'movement_type': 'SAÍDA', 'quantity': 22, 'total_value': 65.78, 'unit_price': 2.99}, {'movement_id': 'df52cd7b-513c-44bd-8f68-5dfd1f1d14c7', 'product_id': 'c9516801-9d50-48c0-9162-a73a705a2c90', 'location_id': '6f3de67f-bb84-4707-a7db-aa636430b6f6', 'time_id': '072ad8ed-6bea-4c0e-8e69-d2f930465064', 'supplier_id': '59143f33-6723-48a7-8141-6e8936c1abf0', 'customer_id': '3e0e638e-76c6-4ca6-92ca-6f79234bdaab', 'product_category_id': '4cdfc133-88f8-4ea4-a0fa-e114669b2bba', 'movement_type': 'SAÍDA', 'quantity': 12, 'total_value': 95.88, 'unit_price': 7.99}, {'movement_id': 'e737bb41-cc1a-476d-82d5-b58a5aefb497', 'product_id': 'c1c6a587-67ba-4ea3-b4e0-89aff9af9dc1', 'location_id': 'e8278bf5-f5d4-4061-919e-fad15e59838b', 'time_id': '5ea53f1b-a6b6-4617-8059-83bd133b62c0', 'supplier_id': '850a0cce-7fc5-4808-8e94-0d0a6a2f7d67', 'customer_id': 'c8062295-8d5f-41a4-bfb4-6d90499f5bd1', 'product_category_id': 'a40d150e-273e-43e1-9d93-0470e546edf7', 'movement_type': 'SAÍDA', 'quantity': 40, 'total_value': 259.6, 'unit_price': 6.49}, {'movement_id': '92aa0581-3c91-4499-bc4b-5715e450c93a', 'product_id': '85b9fb25-7c78-4642-920d-419bb007ce96', 'location_id': '261f247d-6d6a-49ae-b404-8199cdd46075', 'time_id': 'f4eb528d-619d-486e-b788-a297eedced02', 'supplier_id': 'cb6c10df-caa7-41ec-8466-23660c5d3b3f', 'customer_id': '49b1be7b-f162-4704-973d-6eb0aabc526f', 'product_category_id': '825908b5-e533-4dfc-9927-3d63aa2b5e28', 'movement_type': 'ENTRADA', 'quantity': 18, 'total_value': 359.82, 'unit_price': 19.99}, {'movement_id': '6cead7a5-fdc0-4c18-8b41-234e1a56b74f', 'product_id': 'caa02d0b-c629-45bd-9098-eb514dc680ac', 'location_id': '9baf0306-71e0-465a-93ff-b687d4cb4ddd', 'time_id': '9ef1ecfa-8a02-42c6-8b5f-ddda559629ad', 'supplier_id': '5c334948-ae70-4f0e-9b3b-cce8bb2898c5', 'customer_id': 'ab77812c-3fa5-40eb-be7b-3e9ee65fdf52', 'product_category_id': 'ee748719-740a-4858-9488-138354957da3', 'movement_type': 'ENTRADA', 'quantity': 30, 'total_value': 98.7, 'unit_price': 3.29}, {'movement_id': 'eadf2fa2-a07a-49ae-b1e6-338740b080db', 'product_id': 'eebeed0a-1d41-4948-b100-8932ec57de63', 'location_id': 'f658b5ca-6dae-4f04-9481-19b7cf8d5e90', 'time_id': '18aa1b42-68d1-42e9-97ea-49702447064e', 'supplier_id': 'd21ce55b-00fc-4b79-9c35-390a26f3ddf9', 'customer_id': '9aa33f50-2384-45f7-a0a7-abca783094ba', 'product_category_id': '4813f84f-3e2a-4dea-a9ba-ed84c5be0440', 'movement_type': 'SAÍDA', 'quantity': 80, 'total_value': 639.2, 'unit_price': 7.99}, {'movement_id': '4dc44610-5695-454f-b250-2e7078254d50', 'product_id': '1e7663ef-b344-484c-947d-7fee7999e733', 'location_id': 'f609417f-49a1-4f76-ba4c-aa46fa26a85c', 'time_id': '4a524ec5-d1e5-4151-9203-6d5083d73a34', 'supplier_id': '498cd8b6-8dea-432c-b897-e33cd52d0d1c', 'customer_id': 'ec2ce529-6ce4-430b-b7e4-97d26167b664', 'product_category_id': '1f09c0fb-c3f7-4d43-9d5d-44c46f5e107f', 'movement_type': 'ENTRADA', 'quantity': 120, 'total_value': 358.8, 'unit_price': 2.99}, {'movement_id': 'a5714be6-a2ec-4d02-ae17-4a6d51b6fd45', 'product_id': '0f75af9a-11aa-468b-9b4a-1f2f91e58784', 'location_id': '7a5f491f-7d6d-4ac1-87f3-8d2e7e0db24e', 'time_id': 'f52e72cf-0136-40e5-9b5a-c07e8be1985f', 'supplier_id': 'de1be59a-4e23-44e5-ba72-614e2b49d13c', 'customer_id': '2ef02299-bf19-463f-bd00-3b350f1a9d9f', 'product_category_id': '0d8e7f7d-2e00-4c71-bf15-9c56e00ac3a8', 'movement_type': 'ENTRADA', 'quantity': 15, 'total_value': 38.85, 'unit_price': 2.59}, {'movement_id': '4dd0d5b3-b6d6-4912-a5b7-b5bf2baf5270', 'product_id': '3a8b885c-ef55-4e64-a37f-52e2e9384a0e', 'location_id': 'f11b1a01-4b97-43cd-b76e-b71d0b3e50e4', 'time_id': '94a1ed0e-52bc-4f61-8c6a-7dfb83bc8c82', 'supplier_id': '6c1bb2e0-6545-4b3d-91e6-6fca5e2d9df5', 'customer_id': '1e82f3ae-30b5-49b5-bbb7-0d1ef9db0786', 'product_category_id': '62b78a65-9131-46b4-bc54-0b8e9b97e05b', 'movement_type': 'SAÍDA', 'quantity': 18, 'total_value': 197.64, 'unit_price': 10.98}]\n"
          ]
        }
      ]
    },
    {
      "cell_type": "code",
      "source": [
        "# Amostra dataFrame\n",
        "df.head()"
      ],
      "metadata": {
        "colab": {
          "base_uri": "https://localhost:8080/",
          "height": 379
        },
        "id": "u9OkC7KRn4FQ",
        "outputId": "4bb9cd71-b0bc-476c-c682-26bd610e3d57"
      },
      "execution_count": null,
      "outputs": [
        {
          "output_type": "execute_result",
          "data": {
            "text/plain": [
              "                            movement_id                            product_id  \\\n",
              "0  c951cb94-2f4a-49e9-ba4b-6220d863f9b3  776ed069-4be4-4f28-8806-4d4e3516e99c   \n",
              "1  1acd7ace-37f7-43cb-96aa-722817c5b865  05435a82-042c-4de4-9653-e98fd141d17e   \n",
              "2  df52cd7b-513c-44bd-8f68-5dfd1f1d14c7  c9516801-9d50-48c0-9162-a73a705a2c90   \n",
              "3  e737bb41-cc1a-476d-82d5-b58a5aefb497  c1c6a587-67ba-4ea3-b4e0-89aff9af9dc1   \n",
              "4  92aa0581-3c91-4499-bc4b-5715e450c93a  85b9fb25-7c78-4642-920d-419bb007ce96   \n",
              "\n",
              "                            location_id                               time_id  \\\n",
              "0  981ed99e-476f-4953-ae8f-bb10874eea42  ffb470dc-1dfb-4182-afb9-e7eda91e47c2   \n",
              "1  d0bfcda9-c111-41b6-9d4f-a2e1d16c770f  388046f4-f1b3-49e0-b2d1-7b8f5c7e7611   \n",
              "2  6f3de67f-bb84-4707-a7db-aa636430b6f6  072ad8ed-6bea-4c0e-8e69-d2f930465064   \n",
              "3  e8278bf5-f5d4-4061-919e-fad15e59838b  5ea53f1b-a6b6-4617-8059-83bd133b62c0   \n",
              "4  261f247d-6d6a-49ae-b404-8199cdd46075  f4eb528d-619d-486e-b788-a297eedced02   \n",
              "\n",
              "                            supplier_id                           customer_id  \\\n",
              "0  c44f19eb-534d-4f64-a33c-35f17d1c9e86  fd907e42-472d-488a-9a5e-6d562c40b145   \n",
              "1  54d4c759-a6a8-4315-a8f7-0fc38934b90f  48cafff3-0a43-4349-ac69-fd26b8438f46   \n",
              "2  59143f33-6723-48a7-8141-6e8936c1abf0  3e0e638e-76c6-4ca6-92ca-6f79234bdaab   \n",
              "3  850a0cce-7fc5-4808-8e94-0d0a6a2f7d67  c8062295-8d5f-41a4-bfb4-6d90499f5bd1   \n",
              "4  cb6c10df-caa7-41ec-8466-23660c5d3b3f  49b1be7b-f162-4704-973d-6eb0aabc526f   \n",
              "\n",
              "                    product_category_id movement_type  quantity  total_value  \\\n",
              "0  9e7c41fc-fab6-40d7-b2fa-5fcf6cca661a       ENTRADA       200       658.00   \n",
              "1  1ea006bb-639b-4555-b0f6-6bb89d276e83         SAÍDA        22        65.78   \n",
              "2  4cdfc133-88f8-4ea4-a0fa-e114669b2bba         SAÍDA        12        95.88   \n",
              "3  a40d150e-273e-43e1-9d93-0470e546edf7         SAÍDA        40       259.60   \n",
              "4  825908b5-e533-4dfc-9927-3d63aa2b5e28       ENTRADA        18       359.82   \n",
              "\n",
              "   unit_price  \n",
              "0        3.29  \n",
              "1        2.99  \n",
              "2        7.99  \n",
              "3        6.49  \n",
              "4       19.99  "
            ],
            "text/html": [
              "\n",
              "  <div id=\"df-a5f01d3e-9a07-4fb2-aba9-f1344e5d17f5\" class=\"colab-df-container\">\n",
              "    <div>\n",
              "<style scoped>\n",
              "    .dataframe tbody tr th:only-of-type {\n",
              "        vertical-align: middle;\n",
              "    }\n",
              "\n",
              "    .dataframe tbody tr th {\n",
              "        vertical-align: top;\n",
              "    }\n",
              "\n",
              "    .dataframe thead th {\n",
              "        text-align: right;\n",
              "    }\n",
              "</style>\n",
              "<table border=\"1\" class=\"dataframe\">\n",
              "  <thead>\n",
              "    <tr style=\"text-align: right;\">\n",
              "      <th></th>\n",
              "      <th>movement_id</th>\n",
              "      <th>product_id</th>\n",
              "      <th>location_id</th>\n",
              "      <th>time_id</th>\n",
              "      <th>supplier_id</th>\n",
              "      <th>customer_id</th>\n",
              "      <th>product_category_id</th>\n",
              "      <th>movement_type</th>\n",
              "      <th>quantity</th>\n",
              "      <th>total_value</th>\n",
              "      <th>unit_price</th>\n",
              "    </tr>\n",
              "  </thead>\n",
              "  <tbody>\n",
              "    <tr>\n",
              "      <th>0</th>\n",
              "      <td>c951cb94-2f4a-49e9-ba4b-6220d863f9b3</td>\n",
              "      <td>776ed069-4be4-4f28-8806-4d4e3516e99c</td>\n",
              "      <td>981ed99e-476f-4953-ae8f-bb10874eea42</td>\n",
              "      <td>ffb470dc-1dfb-4182-afb9-e7eda91e47c2</td>\n",
              "      <td>c44f19eb-534d-4f64-a33c-35f17d1c9e86</td>\n",
              "      <td>fd907e42-472d-488a-9a5e-6d562c40b145</td>\n",
              "      <td>9e7c41fc-fab6-40d7-b2fa-5fcf6cca661a</td>\n",
              "      <td>ENTRADA</td>\n",
              "      <td>200</td>\n",
              "      <td>658.00</td>\n",
              "      <td>3.29</td>\n",
              "    </tr>\n",
              "    <tr>\n",
              "      <th>1</th>\n",
              "      <td>1acd7ace-37f7-43cb-96aa-722817c5b865</td>\n",
              "      <td>05435a82-042c-4de4-9653-e98fd141d17e</td>\n",
              "      <td>d0bfcda9-c111-41b6-9d4f-a2e1d16c770f</td>\n",
              "      <td>388046f4-f1b3-49e0-b2d1-7b8f5c7e7611</td>\n",
              "      <td>54d4c759-a6a8-4315-a8f7-0fc38934b90f</td>\n",
              "      <td>48cafff3-0a43-4349-ac69-fd26b8438f46</td>\n",
              "      <td>1ea006bb-639b-4555-b0f6-6bb89d276e83</td>\n",
              "      <td>SAÍDA</td>\n",
              "      <td>22</td>\n",
              "      <td>65.78</td>\n",
              "      <td>2.99</td>\n",
              "    </tr>\n",
              "    <tr>\n",
              "      <th>2</th>\n",
              "      <td>df52cd7b-513c-44bd-8f68-5dfd1f1d14c7</td>\n",
              "      <td>c9516801-9d50-48c0-9162-a73a705a2c90</td>\n",
              "      <td>6f3de67f-bb84-4707-a7db-aa636430b6f6</td>\n",
              "      <td>072ad8ed-6bea-4c0e-8e69-d2f930465064</td>\n",
              "      <td>59143f33-6723-48a7-8141-6e8936c1abf0</td>\n",
              "      <td>3e0e638e-76c6-4ca6-92ca-6f79234bdaab</td>\n",
              "      <td>4cdfc133-88f8-4ea4-a0fa-e114669b2bba</td>\n",
              "      <td>SAÍDA</td>\n",
              "      <td>12</td>\n",
              "      <td>95.88</td>\n",
              "      <td>7.99</td>\n",
              "    </tr>\n",
              "    <tr>\n",
              "      <th>3</th>\n",
              "      <td>e737bb41-cc1a-476d-82d5-b58a5aefb497</td>\n",
              "      <td>c1c6a587-67ba-4ea3-b4e0-89aff9af9dc1</td>\n",
              "      <td>e8278bf5-f5d4-4061-919e-fad15e59838b</td>\n",
              "      <td>5ea53f1b-a6b6-4617-8059-83bd133b62c0</td>\n",
              "      <td>850a0cce-7fc5-4808-8e94-0d0a6a2f7d67</td>\n",
              "      <td>c8062295-8d5f-41a4-bfb4-6d90499f5bd1</td>\n",
              "      <td>a40d150e-273e-43e1-9d93-0470e546edf7</td>\n",
              "      <td>SAÍDA</td>\n",
              "      <td>40</td>\n",
              "      <td>259.60</td>\n",
              "      <td>6.49</td>\n",
              "    </tr>\n",
              "    <tr>\n",
              "      <th>4</th>\n",
              "      <td>92aa0581-3c91-4499-bc4b-5715e450c93a</td>\n",
              "      <td>85b9fb25-7c78-4642-920d-419bb007ce96</td>\n",
              "      <td>261f247d-6d6a-49ae-b404-8199cdd46075</td>\n",
              "      <td>f4eb528d-619d-486e-b788-a297eedced02</td>\n",
              "      <td>cb6c10df-caa7-41ec-8466-23660c5d3b3f</td>\n",
              "      <td>49b1be7b-f162-4704-973d-6eb0aabc526f</td>\n",
              "      <td>825908b5-e533-4dfc-9927-3d63aa2b5e28</td>\n",
              "      <td>ENTRADA</td>\n",
              "      <td>18</td>\n",
              "      <td>359.82</td>\n",
              "      <td>19.99</td>\n",
              "    </tr>\n",
              "  </tbody>\n",
              "</table>\n",
              "</div>\n",
              "    <div class=\"colab-df-buttons\">\n",
              "\n",
              "  <div class=\"colab-df-container\">\n",
              "    <button class=\"colab-df-convert\" onclick=\"convertToInteractive('df-a5f01d3e-9a07-4fb2-aba9-f1344e5d17f5')\"\n",
              "            title=\"Convert this dataframe to an interactive table.\"\n",
              "            style=\"display:none;\">\n",
              "\n",
              "  <svg xmlns=\"http://www.w3.org/2000/svg\" height=\"24px\" viewBox=\"0 -960 960 960\">\n",
              "    <path d=\"M120-120v-720h720v720H120Zm60-500h600v-160H180v160Zm220 220h160v-160H400v160Zm0 220h160v-160H400v160ZM180-400h160v-160H180v160Zm440 0h160v-160H620v160ZM180-180h160v-160H180v160Zm440 0h160v-160H620v160Z\"/>\n",
              "  </svg>\n",
              "    </button>\n",
              "\n",
              "  <style>\n",
              "    .colab-df-container {\n",
              "      display:flex;\n",
              "      gap: 12px;\n",
              "    }\n",
              "\n",
              "    .colab-df-convert {\n",
              "      background-color: #E8F0FE;\n",
              "      border: none;\n",
              "      border-radius: 50%;\n",
              "      cursor: pointer;\n",
              "      display: none;\n",
              "      fill: #1967D2;\n",
              "      height: 32px;\n",
              "      padding: 0 0 0 0;\n",
              "      width: 32px;\n",
              "    }\n",
              "\n",
              "    .colab-df-convert:hover {\n",
              "      background-color: #E2EBFA;\n",
              "      box-shadow: 0px 1px 2px rgba(60, 64, 67, 0.3), 0px 1px 3px 1px rgba(60, 64, 67, 0.15);\n",
              "      fill: #174EA6;\n",
              "    }\n",
              "\n",
              "    .colab-df-buttons div {\n",
              "      margin-bottom: 4px;\n",
              "    }\n",
              "\n",
              "    [theme=dark] .colab-df-convert {\n",
              "      background-color: #3B4455;\n",
              "      fill: #D2E3FC;\n",
              "    }\n",
              "\n",
              "    [theme=dark] .colab-df-convert:hover {\n",
              "      background-color: #434B5C;\n",
              "      box-shadow: 0px 1px 3px 1px rgba(0, 0, 0, 0.15);\n",
              "      filter: drop-shadow(0px 1px 2px rgba(0, 0, 0, 0.3));\n",
              "      fill: #FFFFFF;\n",
              "    }\n",
              "  </style>\n",
              "\n",
              "    <script>\n",
              "      const buttonEl =\n",
              "        document.querySelector('#df-a5f01d3e-9a07-4fb2-aba9-f1344e5d17f5 button.colab-df-convert');\n",
              "      buttonEl.style.display =\n",
              "        google.colab.kernel.accessAllowed ? 'block' : 'none';\n",
              "\n",
              "      async function convertToInteractive(key) {\n",
              "        const element = document.querySelector('#df-a5f01d3e-9a07-4fb2-aba9-f1344e5d17f5');\n",
              "        const dataTable =\n",
              "          await google.colab.kernel.invokeFunction('convertToInteractive',\n",
              "                                                    [key], {});\n",
              "        if (!dataTable) return;\n",
              "\n",
              "        const docLinkHtml = 'Like what you see? Visit the ' +\n",
              "          '<a target=\"_blank\" href=https://colab.research.google.com/notebooks/data_table.ipynb>data table notebook</a>'\n",
              "          + ' to learn more about interactive tables.';\n",
              "        element.innerHTML = '';\n",
              "        dataTable['output_type'] = 'display_data';\n",
              "        await google.colab.output.renderOutput(dataTable, element);\n",
              "        const docLink = document.createElement('div');\n",
              "        docLink.innerHTML = docLinkHtml;\n",
              "        element.appendChild(docLink);\n",
              "      }\n",
              "    </script>\n",
              "  </div>\n",
              "\n",
              "\n",
              "<div id=\"df-b360de06-1d1e-4d83-b76a-be440e0e73a9\">\n",
              "  <button class=\"colab-df-quickchart\" onclick=\"quickchart('df-b360de06-1d1e-4d83-b76a-be440e0e73a9')\"\n",
              "            title=\"Suggest charts\"\n",
              "            style=\"display:none;\">\n",
              "\n",
              "<svg xmlns=\"http://www.w3.org/2000/svg\" height=\"24px\"viewBox=\"0 0 24 24\"\n",
              "     width=\"24px\">\n",
              "    <g>\n",
              "        <path d=\"M19 3H5c-1.1 0-2 .9-2 2v14c0 1.1.9 2 2 2h14c1.1 0 2-.9 2-2V5c0-1.1-.9-2-2-2zM9 17H7v-7h2v7zm4 0h-2V7h2v10zm4 0h-2v-4h2v4z\"/>\n",
              "    </g>\n",
              "</svg>\n",
              "  </button>\n",
              "\n",
              "<style>\n",
              "  .colab-df-quickchart {\n",
              "      --bg-color: #E8F0FE;\n",
              "      --fill-color: #1967D2;\n",
              "      --hover-bg-color: #E2EBFA;\n",
              "      --hover-fill-color: #174EA6;\n",
              "      --disabled-fill-color: #AAA;\n",
              "      --disabled-bg-color: #DDD;\n",
              "  }\n",
              "\n",
              "  [theme=dark] .colab-df-quickchart {\n",
              "      --bg-color: #3B4455;\n",
              "      --fill-color: #D2E3FC;\n",
              "      --hover-bg-color: #434B5C;\n",
              "      --hover-fill-color: #FFFFFF;\n",
              "      --disabled-bg-color: #3B4455;\n",
              "      --disabled-fill-color: #666;\n",
              "  }\n",
              "\n",
              "  .colab-df-quickchart {\n",
              "    background-color: var(--bg-color);\n",
              "    border: none;\n",
              "    border-radius: 50%;\n",
              "    cursor: pointer;\n",
              "    display: none;\n",
              "    fill: var(--fill-color);\n",
              "    height: 32px;\n",
              "    padding: 0;\n",
              "    width: 32px;\n",
              "  }\n",
              "\n",
              "  .colab-df-quickchart:hover {\n",
              "    background-color: var(--hover-bg-color);\n",
              "    box-shadow: 0 1px 2px rgba(60, 64, 67, 0.3), 0 1px 3px 1px rgba(60, 64, 67, 0.15);\n",
              "    fill: var(--button-hover-fill-color);\n",
              "  }\n",
              "\n",
              "  .colab-df-quickchart-complete:disabled,\n",
              "  .colab-df-quickchart-complete:disabled:hover {\n",
              "    background-color: var(--disabled-bg-color);\n",
              "    fill: var(--disabled-fill-color);\n",
              "    box-shadow: none;\n",
              "  }\n",
              "\n",
              "  .colab-df-spinner {\n",
              "    border: 2px solid var(--fill-color);\n",
              "    border-color: transparent;\n",
              "    border-bottom-color: var(--fill-color);\n",
              "    animation:\n",
              "      spin 1s steps(1) infinite;\n",
              "  }\n",
              "\n",
              "  @keyframes spin {\n",
              "    0% {\n",
              "      border-color: transparent;\n",
              "      border-bottom-color: var(--fill-color);\n",
              "      border-left-color: var(--fill-color);\n",
              "    }\n",
              "    20% {\n",
              "      border-color: transparent;\n",
              "      border-left-color: var(--fill-color);\n",
              "      border-top-color: var(--fill-color);\n",
              "    }\n",
              "    30% {\n",
              "      border-color: transparent;\n",
              "      border-left-color: var(--fill-color);\n",
              "      border-top-color: var(--fill-color);\n",
              "      border-right-color: var(--fill-color);\n",
              "    }\n",
              "    40% {\n",
              "      border-color: transparent;\n",
              "      border-right-color: var(--fill-color);\n",
              "      border-top-color: var(--fill-color);\n",
              "    }\n",
              "    60% {\n",
              "      border-color: transparent;\n",
              "      border-right-color: var(--fill-color);\n",
              "    }\n",
              "    80% {\n",
              "      border-color: transparent;\n",
              "      border-right-color: var(--fill-color);\n",
              "      border-bottom-color: var(--fill-color);\n",
              "    }\n",
              "    90% {\n",
              "      border-color: transparent;\n",
              "      border-bottom-color: var(--fill-color);\n",
              "    }\n",
              "  }\n",
              "</style>\n",
              "\n",
              "  <script>\n",
              "    async function quickchart(key) {\n",
              "      const quickchartButtonEl =\n",
              "        document.querySelector('#' + key + ' button');\n",
              "      quickchartButtonEl.disabled = true;  // To prevent multiple clicks.\n",
              "      quickchartButtonEl.classList.add('colab-df-spinner');\n",
              "      try {\n",
              "        const charts = await google.colab.kernel.invokeFunction(\n",
              "            'suggestCharts', [key], {});\n",
              "      } catch (error) {\n",
              "        console.error('Error during call to suggestCharts:', error);\n",
              "      }\n",
              "      quickchartButtonEl.classList.remove('colab-df-spinner');\n",
              "      quickchartButtonEl.classList.add('colab-df-quickchart-complete');\n",
              "    }\n",
              "    (() => {\n",
              "      let quickchartButtonEl =\n",
              "        document.querySelector('#df-b360de06-1d1e-4d83-b76a-be440e0e73a9 button');\n",
              "      quickchartButtonEl.style.display =\n",
              "        google.colab.kernel.accessAllowed ? 'block' : 'none';\n",
              "    })();\n",
              "  </script>\n",
              "</div>\n",
              "\n",
              "    </div>\n",
              "  </div>\n"
            ],
            "application/vnd.google.colaboratory.intrinsic+json": {
              "type": "dataframe",
              "variable_name": "df",
              "summary": "{\n  \"name\": \"df\",\n  \"rows\": 10,\n  \"fields\": [\n    {\n      \"column\": \"movement_id\",\n      \"properties\": {\n        \"dtype\": \"string\",\n        \"num_unique_values\": 10,\n        \"samples\": [\n          \"a5714be6-a2ec-4d02-ae17-4a6d51b6fd45\",\n          \"1acd7ace-37f7-43cb-96aa-722817c5b865\",\n          \"6cead7a5-fdc0-4c18-8b41-234e1a56b74f\"\n        ],\n        \"semantic_type\": \"\",\n        \"description\": \"\"\n      }\n    },\n    {\n      \"column\": \"product_id\",\n      \"properties\": {\n        \"dtype\": \"string\",\n        \"num_unique_values\": 10,\n        \"samples\": [\n          \"0f75af9a-11aa-468b-9b4a-1f2f91e58784\",\n          \"05435a82-042c-4de4-9653-e98fd141d17e\",\n          \"caa02d0b-c629-45bd-9098-eb514dc680ac\"\n        ],\n        \"semantic_type\": \"\",\n        \"description\": \"\"\n      }\n    },\n    {\n      \"column\": \"location_id\",\n      \"properties\": {\n        \"dtype\": \"string\",\n        \"num_unique_values\": 10,\n        \"samples\": [\n          \"7a5f491f-7d6d-4ac1-87f3-8d2e7e0db24e\",\n          \"d0bfcda9-c111-41b6-9d4f-a2e1d16c770f\",\n          \"9baf0306-71e0-465a-93ff-b687d4cb4ddd\"\n        ],\n        \"semantic_type\": \"\",\n        \"description\": \"\"\n      }\n    },\n    {\n      \"column\": \"time_id\",\n      \"properties\": {\n        \"dtype\": \"string\",\n        \"num_unique_values\": 10,\n        \"samples\": [\n          \"f52e72cf-0136-40e5-9b5a-c07e8be1985f\",\n          \"388046f4-f1b3-49e0-b2d1-7b8f5c7e7611\",\n          \"9ef1ecfa-8a02-42c6-8b5f-ddda559629ad\"\n        ],\n        \"semantic_type\": \"\",\n        \"description\": \"\"\n      }\n    },\n    {\n      \"column\": \"supplier_id\",\n      \"properties\": {\n        \"dtype\": \"string\",\n        \"num_unique_values\": 10,\n        \"samples\": [\n          \"de1be59a-4e23-44e5-ba72-614e2b49d13c\",\n          \"54d4c759-a6a8-4315-a8f7-0fc38934b90f\",\n          \"5c334948-ae70-4f0e-9b3b-cce8bb2898c5\"\n        ],\n        \"semantic_type\": \"\",\n        \"description\": \"\"\n      }\n    },\n    {\n      \"column\": \"customer_id\",\n      \"properties\": {\n        \"dtype\": \"string\",\n        \"num_unique_values\": 10,\n        \"samples\": [\n          \"2ef02299-bf19-463f-bd00-3b350f1a9d9f\",\n          \"48cafff3-0a43-4349-ac69-fd26b8438f46\",\n          \"ab77812c-3fa5-40eb-be7b-3e9ee65fdf52\"\n        ],\n        \"semantic_type\": \"\",\n        \"description\": \"\"\n      }\n    },\n    {\n      \"column\": \"product_category_id\",\n      \"properties\": {\n        \"dtype\": \"string\",\n        \"num_unique_values\": 10,\n        \"samples\": [\n          \"0d8e7f7d-2e00-4c71-bf15-9c56e00ac3a8\",\n          \"1ea006bb-639b-4555-b0f6-6bb89d276e83\",\n          \"ee748719-740a-4858-9488-138354957da3\"\n        ],\n        \"semantic_type\": \"\",\n        \"description\": \"\"\n      }\n    },\n    {\n      \"column\": \"movement_type\",\n      \"properties\": {\n        \"dtype\": \"category\",\n        \"num_unique_values\": 2,\n        \"samples\": [\n          \"SA\\u00cdDA\",\n          \"ENTRADA\"\n        ],\n        \"semantic_type\": \"\",\n        \"description\": \"\"\n      }\n    },\n    {\n      \"column\": \"quantity\",\n      \"properties\": {\n        \"dtype\": \"number\",\n        \"std\": 61,\n        \"min\": 12,\n        \"max\": 200,\n        \"num_unique_values\": 9,\n        \"samples\": [\n          120,\n          22\n        ],\n        \"semantic_type\": \"\",\n        \"description\": \"\"\n      }\n    },\n    {\n      \"column\": \"total_value\",\n      \"properties\": {\n        \"dtype\": \"number\",\n        \"std\": 226.672828840257,\n        \"min\": 38.85,\n        \"max\": 658.0,\n        \"num_unique_values\": 10,\n        \"samples\": [\n          38.85,\n          65.78\n        ],\n        \"semantic_type\": \"\",\n        \"description\": \"\"\n      }\n    },\n    {\n      \"column\": \"unit_price\",\n      \"properties\": {\n        \"dtype\": \"number\",\n        \"std\": 5.433829118484394,\n        \"min\": 2.59,\n        \"max\": 19.99,\n        \"num_unique_values\": 7,\n        \"samples\": [\n          3.29,\n          2.99\n        ],\n        \"semantic_type\": \"\",\n        \"description\": \"\"\n      }\n    }\n  ]\n}"
            }
          },
          "metadata": {},
          "execution_count": 49
        }
      ]
    },
    {
      "cell_type": "code",
      "source": [
        "# @title Quantidade de itens\n",
        "\n",
        "from matplotlib import pyplot as plt\n",
        "df['quantity'].plot(kind='line', figsize=(8, 4), title='Quantidade de itens')\n",
        "plt.gca().spines[['top', 'right']].set_visible(False)"
      ],
      "metadata": {
        "colab": {
          "base_uri": "https://localhost:8080/",
          "height": 391
        },
        "id": "N7xEprnmn8VK",
        "outputId": "66deb076-4c42-4d6d-899b-9a203ddfd7f5"
      },
      "execution_count": null,
      "outputs": [
        {
          "output_type": "display_data",
          "data": {
            "text/plain": [
              "<Figure size 800x400 with 1 Axes>"
            ],
            "image/png": "[encoded data removed]"
          },
          "metadata": {}
        }
      ]
    },
    {
      "cell_type": "code",
      "source": [
        "# @title Quantidade vs Tipo de movimento\n",
        "\n",
        "from matplotlib import pyplot as plt\n",
        "import seaborn as sns\n",
        "figsize = (12, 1.2 * len(df['movement_type'].unique()))\n",
        "plt.figure(figsize=figsize)\n",
        "sns.violinplot(df, x='quantity', y='movement_type', inner='stick', palette='Dark2')\n",
        "sns.despine(top=True, right=True, bottom=True, left=True)"
      ],
      "metadata": {
        "colab": {
          "base_uri": "https://localhost:8080/",
          "height": 352
        },
        "id": "rW_dEPS2oHSR",
        "outputId": "f40d4c80-191d-44d2-8ed5-e11551fae86a"
      },
      "execution_count": null,
      "outputs": [
        {
          "output_type": "stream",
          "name": "stderr",
          "text": [
            "<ipython-input-54-5819cd00c19f>:7: FutureWarning: \n",
            "\n",
            "Passing `palette` without assigning `hue` is deprecated and will be removed in v0.14.0. Assign the `y` variable to `hue` and set `legend=False` for the same effect.\n",
            "\n",
            "  sns.violinplot(df, x='quantity', y='movement_type', inner='stick', palette='Dark2')\n"
          ]
        },
        {
          "output_type": "display_data",
          "data": {
            "text/plain": [
              "<Figure size 1200x240 with 1 Axes>"
            ],
            "image/png": "[encoded data removed]"
          },
          "metadata": {}
        }
      ]
    }
  ]
}